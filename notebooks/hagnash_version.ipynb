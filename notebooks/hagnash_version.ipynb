{
 "cells": [
  {
   "cell_type": "code",
   "execution_count": 1,
   "metadata": {
    "id": "-u7BB0psm7tS"
   },
   "outputs": [
    {
     "name": "stderr",
     "output_type": "stream",
     "text": [
      "No GPU/TPU found, falling back to CPU. (Set TF_CPP_MIN_LOG_LEVEL=0 and rerun for more info.)\n"
     ]
    }
   ],
   "source": [
    "import numpy as np\n",
    "import ot\n",
    "import cvxpy as cp\n",
    "import matplotlib.pyplot as plt\n",
    "import cv2"
   ]
  },
  {
   "cell_type": "code",
   "execution_count": 2,
   "metadata": {
    "id": "rZx_H4Czm7ta"
   },
   "outputs": [],
   "source": [
    "im1 = np.zeros([5,5])\n",
    "im1[0,0] = 1\n",
    "im2 = np.zeros([5,5])\n",
    "im2[2,3] = 1"
   ]
  },
  {
   "cell_type": "code",
   "execution_count": 3,
   "metadata": {
    "colab": {
     "base_uri": "https://localhost:8080/"
    },
    "id": "OEEvcmPPngTX",
    "outputId": "808bb682-9394-4d38-fe13-f8b794da5ecb"
   },
   "outputs": [
    {
     "data": {
      "text/plain": [
       "array([[0., 0., 0., 0., 0.],\n",
       "       [0., 0., 0., 0., 0.],\n",
       "       [0., 0., 0., 1., 0.],\n",
       "       [0., 0., 0., 0., 0.],\n",
       "       [0., 0., 0., 0., 0.]])"
      ]
     },
     "execution_count": 3,
     "metadata": {},
     "output_type": "execute_result"
    }
   ],
   "source": [
    "im2"
   ]
  },
  {
   "cell_type": "code",
   "execution_count": 4,
   "metadata": {
    "id": "TyZ5UtDOm7tb"
   },
   "outputs": [],
   "source": [
    "def noise_image(im, noise_param = 1e-2):\n",
    "    \"\"\"takes an image and makes it noisy\"\"\"\n",
    "    noisy_image = im\n",
    "    height, width = im.shape\n",
    "    for i in range(height):\n",
    "        for j in range(width):\n",
    "            noisy_image[i,j] += np.random.normal(0, noise_param)\n",
    "\n",
    "    return noisy_image"
   ]
  },
  {
   "cell_type": "markdown",
   "metadata": {
    "id": "Ld8dWlz8m7tb"
   },
   "source": [
    "### Steps:\n",
    "1 - Normalize the images to have a certain sum\n",
    "\n",
    "2 - Add noise to the images\n",
    "\n",
    "3 - perform the optimal transport the way I just did above\n",
    "\n",
    "4 - See the results with the use of $\\tau$ and without it"
   ]
  },
  {
   "cell_type": "code",
   "execution_count": 5,
   "metadata": {
    "id": "L0IdwG69m7tb"
   },
   "outputs": [],
   "source": [
    "im1_norm = im1/im1.sum()\n",
    "im2_norm = im2/im2.sum()"
   ]
  },
  {
   "cell_type": "code",
   "execution_count": 6,
   "metadata": {
    "id": "8thMQEXym7tb"
   },
   "outputs": [],
   "source": [
    "im1_noisy = noise_image(im1_norm, 5e-2)\n",
    "im2_noisy = noise_image(im2_norm, 5e-2)"
   ]
  },
  {
   "cell_type": "code",
   "execution_count": 7,
   "metadata": {
    "id": "QlQu_GyIm7tb"
   },
   "outputs": [],
   "source": [
    "def calculate_costs(size):\n",
    "    \"\"\"\n",
    "    This function of an array or image and calculates the cost from it to itself.\n",
    "\n",
    "    Parameters:\n",
    "    - `size` (int or 2d array): representing the object on which we would like to calculate costs.\n",
    "\n",
    "    Returns:\n",
    "    - `costs` (numpy.ndarray): A 2D array representing the matrix of costs of transporting pixels\n",
    "                                from the first image to the second image.\n",
    "    \"\"\"\n",
    "    # TODO: Make this more efficient\n",
    "    # 1D case:\n",
    "    if type(size) == int:\n",
    "        costs = np.zeros([size, size])\n",
    "        m,n = int(np.sqrt(size)), int(np.sqrt(size))\n",
    "        for i in range(m):\n",
    "            for j in range(n):\n",
    "                for k in range(m):\n",
    "                    for l in range(n):\n",
    "                        location_x = (i * n) + j\n",
    "                        location_y = (k * n) + l\n",
    "                        costs[location_x, location_y] += np.sqrt((i - k) ** 2 + (j - l) ** 2)\n",
    "        return costs\n",
    "    elif len(size) == 2:\n",
    "        size_1d = size[0] * size[1]\n",
    "        costs = np.zeros([size_1d, size_1d])\n",
    "        m, n = size[0], size[1]\n",
    "        for i in range(m):\n",
    "            for j in range(n ):\n",
    "                for k in range(m):\n",
    "                    for l in range(n):\n",
    "                        location_x = (i * n) + j\n",
    "                        location_y = (k * n) + l\n",
    "                        costs[location_x, location_y] += np.sqrt((i - k) ** 2 + (j - l) ** 2)\n",
    "        return costs"
   ]
  },
  {
   "cell_type": "code",
   "execution_count": 8,
   "metadata": {
    "id": "Y8_k1n4im7tc"
   },
   "outputs": [],
   "source": [
    "C = calculate_costs(im1.shape)"
   ]
  },
  {
   "cell_type": "code",
   "execution_count": 9,
   "metadata": {
    "id": "WTFuKrQSpjYK"
   },
   "outputs": [],
   "source": [
    "def split_signed_measure(source: np.ndarray) -> (np.ndarray, np.ndarray):\n",
    "    source_pos: np.ndarray = np.zeros(source.shape)\n",
    "    source_neg: np.ndarray = np.zeros(source.shape)\n",
    "\n",
    "    source_pos[source > 0] = source[source > 0]\n",
    "    source_neg[source < 0] = -source[source < 0]\n",
    "\n",
    "    return source_pos, source_neg"
   ]
  },
  {
   "cell_type": "code",
   "execution_count": 10,
   "metadata": {
    "id": "r6Wfn2RUm7tc"
   },
   "outputs": [],
   "source": [
    "## To work with the signed measures\n",
    "im1_pos, im1_neg = split_signed_measure(im1_noisy.flatten())\n",
    "im2_pos, im2_neg = split_signed_measure(im2_noisy.flatten())"
   ]
  },
  {
   "cell_type": "code",
   "execution_count": 11,
   "metadata": {
    "id": "mLqQSPr2m7tc"
   },
   "outputs": [],
   "source": [
    "im1_new = (im1_pos + im2_neg).reshape(im1.shape)\n",
    "im2_new = (im1_neg + im2_pos).reshape(im2.shape)"
   ]
  },
  {
   "cell_type": "code",
   "execution_count": 12,
   "metadata": {
    "colab": {
     "base_uri": "https://localhost:8080/"
    },
    "id": "bRRFFMgQtAUD",
    "outputId": "b22f0772-374c-440e-becd-e6f826592e96"
   },
   "outputs": [
    {
     "name": "stdout",
     "output_type": "stream",
     "text": [
      "not in use\n"
     ]
    }
   ],
   "source": [
    "# im1_noisy[0,0] = -40  # This was used to show that getting a negative value does have effect, seems like plt.imshow normalizes the value automatically.\n",
    "print('not in use')"
   ]
  },
  {
   "cell_type": "code",
   "execution_count": 13,
   "metadata": {
    "colab": {
     "base_uri": "https://localhost:8080/",
     "height": 855
    },
    "id": "kZV0zDbzm7td",
    "outputId": "4f8d48b7-5ef2-4ba7-ea0d-ce0612f67a05"
   },
   "outputs": [
    {
     "data": {
      "text/plain": [
       "<matplotlib.image.AxesImage at 0x2e891d98bd0>"
      ]
     },
     "execution_count": 13,
     "metadata": {},
     "output_type": "execute_result"
    },
    {
     "data": {
      "image/png": "[encoded data removed]",
      "text/plain": [
       "<Figure size 600x1000 with 6 Axes>"
      ]
     },
     "metadata": {},
     "output_type": "display_data"
    }
   ],
   "source": [
    "fig = plt.figure(figsize=(6, 10))\n",
    "\n",
    "fig.add_subplot(3, 2, 1)\n",
    "plt.title('first image')\n",
    "plt.imshow(im1, cmap='gray')\n",
    "\n",
    "fig.add_subplot(3, 2, 2)\n",
    "plt.title('second image')\n",
    "plt.imshow(im2, cmap='gray')\n",
    "\n",
    "fig.add_subplot(3, 2, 3)\n",
    "plt.title('im1 with noise')\n",
    "plt.imshow(im1_noisy, cmap='gray')\n",
    "\n",
    "fig.add_subplot(3, 2, 4)\n",
    "plt.title('im2 with noise')\n",
    "plt.imshow(im2_noisy, cmap='gray')\n",
    "\n",
    "fig.add_subplot(3, 2, 5)\n",
    "plt.title('im1_+ + im2_-')\n",
    "plt.imshow(im1_new, cmap='gray')\n",
    "\n",
    "fig.add_subplot(3, 2, 6)\n",
    "plt.title('im1_- + im2_+')\n",
    "plt.imshow(im2_new, cmap='gray')"
   ]
  },
  {
   "cell_type": "code",
   "execution_count": 14,
   "metadata": {
    "colab": {
     "base_uri": "https://localhost:8080/"
    },
    "id": "mECsNNMCm7td",
    "outputId": "accbc144-2edc-4cf9-ced3-1413f2233c73"
   },
   "outputs": [
    {
     "data": {
      "text/plain": [
       "0.8254508167628759"
      ]
     },
     "execution_count": 14,
     "metadata": {},
     "output_type": "execute_result"
    }
   ],
   "source": [
    "im1_noisy.sum()"
   ]
  },
  {
   "cell_type": "code",
   "execution_count": 15,
   "metadata": {
    "colab": {
     "base_uri": "https://localhost:8080/"
    },
    "id": "UsMe48y-m7td",
    "outputId": "db11b47f-4cd9-4f34-bd69-f040cc6e77a2"
   },
   "outputs": [
    {
     "data": {
      "text/plain": [
       "0.981169153093715"
      ]
     },
     "execution_count": 15,
     "metadata": {},
     "output_type": "execute_result"
    }
   ],
   "source": [
    "im2_noisy.sum()"
   ]
  },
  {
   "cell_type": "code",
   "execution_count": 16,
   "metadata": {
    "id": "n8oPLE5sm7te"
   },
   "outputs": [],
   "source": [
    "def kl_divergence_cp(p, q):\n",
    "    return cp.sum(cp.multiply(p, cp.log(p / q)))\n",
    "\n",
    "def TV_distance_cp(p, q):\n",
    "    return cp.max(cp.abs(p-q))\n",
    "\n",
    "def create_constraints(source, target):\n",
    "    T_matrix = cp.Variable((len(source), len(target)), nonneg=True)\n",
    "\n",
    "    cons = [cp.sum(T_matrix, axis=0) == target,  # column sum should be what we move to the pixel the column represents\n",
    "            cp.sum(T_matrix, axis=1) == source,  # row sum should be what we move from the pixel the row represents\n",
    "            T_matrix >= 0]  # all elements of T_matrix should be non-negative\n",
    "\n",
    "    return T_matrix, cons\n",
    "\n",
    "def solve_unbalanced_ot(source, target, cost_matrix, tau_1 = 1, tau_2 = 1):\n",
    "    p, constraints = create_constraints(source, target)\n",
    "\n",
    "    tv_first = kl_divergence_cp(source, target)\n",
    "    tv_second = kl_divergence_cp(source, target)\n",
    "\n",
    "    obj = cp.Minimize(cp.sum(cp.multiply(p, cost_matrix)) + tau_1 * tv_first + tau_2 * tv_second)\n",
    "    prob = cp.Problem(obj, constraints)\n",
    "    prob.solve()\n",
    "    return prob.value, p.value, source, target"
   ]
  },
  {
   "cell_type": "markdown",
   "metadata": {
    "id": "5XBYUZtFcak1"
   },
   "source": [
    "### This is not working since I'm trying to optmize on a and b instead of $\\tilde{a}$, $\\tilde{b}$. The formulation we have in the book is either:\n",
    "1. $min_{\\tilde{a},\\tilde{b}}$ $L_C$ (ã,b̃) + $\\tau_1$ Dᵩ(a,ã) + $\\tau_2$ Dᵩ(b,b̃)\n",
    "2. $min_{P \\in R_+ ^{nxm}}$ <C,P> + $\\tau_1$ Dᵩ($P$𝟙ₘ|a) + $\\tau_2$ Dᵩ($P^T$ 𝟙ₘ|b)\n",
    "\n",
    "I should try and implement the second option since I think it's easier. Get a grasp of what exactly $D_ϕ$ means"
   ]
  },
  {
   "cell_type": "code",
   "execution_count": 31,
   "metadata": {
    "id": "Qj-lAF2-m7te"
   },
   "outputs": [],
   "source": [
    "p_original, cons = create_constraints(im1.flatten(), im2.flatten())"
   ]
  },
  {
   "cell_type": "code",
   "execution_count": 32,
   "metadata": {
    "colab": {
     "base_uri": "https://localhost:8080/"
    },
    "id": "2uYilt-Jm7te",
    "outputId": "095839b4-9007-460a-8535-46e30d446921"
   },
   "outputs": [
    {
     "data": {
      "text/plain": [
       "3.60555127555594"
      ]
     },
     "execution_count": 32,
     "metadata": {},
     "output_type": "execute_result"
    }
   ],
   "source": [
    "obj = cp.Minimize(cp.sum(cp.multiply(p_original, C)))\n",
    "prob_original = cp.Problem(obj, cons)\n",
    "prob_original.solve()"
   ]
  },
  {
   "cell_type": "code",
   "execution_count": 33,
   "metadata": {
    "id": "oH-8FVx1CTmk"
   },
   "outputs": [],
   "source": [
    "original_plan = p_original.value"
   ]
  },
  {
   "cell_type": "code",
   "execution_count": 34,
   "metadata": {
    "colab": {
     "base_uri": "https://localhost:8080/"
    },
    "id": "DY1huNwDm7te",
    "outputId": "0a3b0a1f-c781-4618-c148-a5ac063f403f"
   },
   "outputs": [
    {
     "data": {
      "text/plain": [
       "3.60555127555594"
      ]
     },
     "execution_count": 34,
     "metadata": {},
     "output_type": "execute_result"
    }
   ],
   "source": [
    "cp.sum(cp.multiply(p_original, C)).value"
   ]
  },
  {
   "cell_type": "code",
   "execution_count": 35,
   "metadata": {
    "colab": {
     "base_uri": "https://localhost:8080/"
    },
    "id": "cJBGIkqpm7te",
    "outputId": "f2abf195-e0ee-4c3f-ce56-c0541cdaeee7",
    "scrolled": true
   },
   "outputs": [
    {
     "data": {
      "text/plain": [
       "13.000000000663066"
      ]
     },
     "execution_count": 35,
     "metadata": {},
     "output_type": "execute_result"
    }
   ],
   "source": [
    "a = prob_original.value\n",
    "a ** 2"
   ]
  },
  {
   "cell_type": "code",
   "execution_count": 36,
   "metadata": {
    "id": "Ooa5CS2Tm7tf"
   },
   "outputs": [],
   "source": [
    "im1_new_norm = im1_new / im1_new.sum()\n",
    "im2_new_norm = im2_new / im2_new.sum()"
   ]
  },
  {
   "cell_type": "code",
   "execution_count": 37,
   "metadata": {
    "id": "namf_NdDm7tf"
   },
   "outputs": [],
   "source": [
    "p_new, cons = create_constraints(im1_new_norm.flatten(), im2_new_norm.flatten())"
   ]
  },
  {
   "cell_type": "code",
   "execution_count": 38,
   "metadata": {
    "colab": {
     "base_uri": "https://localhost:8080/"
    },
    "id": "5ehfNwdnvlKf",
    "outputId": "82f8c406-aa24-4236-87f8-a14e23e657a3"
   },
   "outputs": [
    {
     "data": {
      "text/plain": [
       "2.156752283969572"
      ]
     },
     "execution_count": 38,
     "metadata": {},
     "output_type": "execute_result"
    }
   ],
   "source": [
    "obj = cp.Minimize(cp.sum(cp.multiply(p_new, C)))\n",
    "prob_new = cp.Problem(obj, cons)\n",
    "prob_new.solve()"
   ]
  },
  {
   "cell_type": "code",
   "execution_count": 39,
   "metadata": {
    "id": "En9NfGHAztEo"
   },
   "outputs": [],
   "source": [
    "new_plan = p_new.value"
   ]
  },
  {
   "cell_type": "code",
   "execution_count": 40,
   "metadata": {
    "colab": {
     "base_uri": "https://localhost:8080/"
    },
    "id": "3jFuelIyi6gD",
    "outputId": "24f1c1cb-9ad6-461b-bfe6-aa60397a9216"
   },
   "outputs": [
    {
     "data": {
      "text/plain": [
       "(5, 5)"
      ]
     },
     "execution_count": 40,
     "metadata": {},
     "output_type": "execute_result"
    }
   ],
   "source": [
    "im1_new.shape"
   ]
  },
  {
   "cell_type": "code",
   "execution_count": 41,
   "metadata": {
    "colab": {
     "base_uri": "https://localhost:8080/"
    },
    "id": "qBowLxUaikI7",
    "outputId": "2bb78e09-6ebf-47c6-a899-dada89a488af"
   },
   "outputs": [
    {
     "name": "stderr",
     "output_type": "stream",
     "text": [
      "C:\\Users\\eriki\\AppData\\Local\\Temp\\ipykernel_14324\\1771336436.py:2: RuntimeWarning: divide by zero encountered in divide\n",
      "  return cp.sum(cp.multiply(p, cp.log(p / q)))\n"
     ]
    }
   ],
   "source": [
    "value, tran_plan, _, _ = solve_unbalanced_ot(source = im1_new.flatten(), target = im2_new.flatten(), cost_matrix = C)"
   ]
  },
  {
   "cell_type": "code",
   "execution_count": 44,
   "metadata": {},
   "outputs": [
    {
     "data": {
      "text/plain": [
       "numpy.float64"
      ]
     },
     "execution_count": 44,
     "metadata": {},
     "output_type": "execute_result"
    }
   ],
   "source": [
    "type(p_original.value[0,0])"
   ]
  },
  {
   "cell_type": "code",
   "execution_count": 47,
   "metadata": {
    "colab": {
     "base_uri": "https://localhost:8080/",
     "height": 328
    },
    "id": "zXcOGBqcvlO7",
    "outputId": "992637f4-4acb-4a3c-9068-5f955fff4db4"
   },
   "outputs": [
    {
     "data": {
      "text/plain": [
       "<matplotlib.image.AxesImage at 0x2e896ddb750>"
      ]
     },
     "execution_count": 47,
     "metadata": {},
     "output_type": "execute_result"
    },
    {
     "data": {
      "image/png": "[encoded data removed]",
      "text/plain": [
       "<Figure size 1000x1000 with 3 Axes>"
      ]
     },
     "metadata": {},
     "output_type": "display_data"
    }
   ],
   "source": [
    "fig = plt.figure(figsize=(10, 10))\n",
    "\n",
    "fig.add_subplot(1, 3, 1)\n",
    "plt.title('Plan for originals - No noise images')\n",
    "plt.imshow(original_plan, cmap='gray')\n",
    "\n",
    "fig.add_subplot(1, 3, 2)\n",
    "plt.title('Plan for new - Noised images')\n",
    "plt.imshow(new_plan, cmap='gray')\n",
    "\n",
    "fig.add_subplot(1, 3, 3)\n",
    "plt.title('The difference between the plans')\n",
    "plt.imshow(new_plan - original_plan, cmap='gray')"
   ]
  },
  {
   "cell_type": "code",
   "execution_count": null,
   "metadata": {
    "id": "GhAcXWDPBHWo"
   },
   "outputs": [],
   "source": [
    "res1 = ot.solve(M = C, a = im1.flatten(), b = im2.flatten())\n",
    "ot_original_plan = res1.plan\n",
    "ot_original_value = res1.value"
   ]
  },
  {
   "cell_type": "code",
   "execution_count": null,
   "metadata": {
    "id": "Ncm3GPtPm7to"
   },
   "outputs": [],
   "source": [
    "res2 = ot.solve(M = C, a = im1_new_norm.flatten(), b = im2_new_norm.flatten())\n",
    "ot_new_plan = res2.plan\n",
    "ot_new_value = res2.value"
   ]
  },
  {
   "cell_type": "code",
   "execution_count": null,
   "metadata": {
    "colab": {
     "base_uri": "https://localhost:8080/",
     "height": 563
    },
    "id": "DZZBLxMmm7to",
    "outputId": "d7d7cf6d-c4be-4ce4-cf49-537a8423d965"
   },
   "outputs": [],
   "source": [
    "fig = plt.figure(figsize=(10, 6))\n",
    "\n",
    "#CVXPY\n",
    "fig.add_subplot(2, 3, 1)\n",
    "plt.title('Plan for originals')\n",
    "plt.imshow(p_original.value, cmap='gray')\n",
    "\n",
    "fig.add_subplot(2, 3, 2)\n",
    "plt.title('Plan for new')\n",
    "plt.imshow(p_new.value, cmap='gray')\n",
    "\n",
    "normal_dif = p_new.value - p_original.value\n",
    "fig.add_subplot(2, 3, 3)\n",
    "plt.title('Diff')\n",
    "plt.imshow(normal_dif, cmap='gray')\n",
    "\n",
    "#OT.SOLVE\n",
    "fig.add_subplot(2, 3, 4)\n",
    "plt.title('Plan for originals')\n",
    "plt.imshow(ot_original_plan, cmap='gray')\n",
    "\n",
    "fig.add_subplot(2, 3, 5)\n",
    "plt.title('Plan for new')\n",
    "plt.imshow(ot_new_plan, cmap='gray')\n",
    "\n",
    "ot_dif = ot_new_plan - ot_original_plan\n",
    "fig.add_subplot(2, 3, 6)\n",
    "plt.title('Diff')\n",
    "plt.imshow(ot_dif, cmap='gray')"
   ]
  },
  {
   "cell_type": "code",
   "execution_count": 25,
   "metadata": {
    "colab": {
     "base_uri": "https://localhost:8080/",
     "height": 448
    },
    "id": "nN52lR8dDaAx",
    "outputId": "f4c260ff-671c-4228-d96c-f5a77d4cd428"
   },
   "outputs": [
    {
     "data": {
      "text/plain": [
       "<matplotlib.image.AxesImage at 0x2e896b5c350>"
      ]
     },
     "execution_count": 25,
     "metadata": {},
     "output_type": "execute_result"
    },
    {
     "data": {
      "image/png": "[encoded data removed]",
      "text/plain": [
       "<Figure size 640x480 with 1 Axes>"
      ]
     },
     "metadata": {},
     "output_type": "display_data"
    }
   ],
   "source": [
    "plt.imshow(C, cmap = 'gray')"
   ]
  },
  {
   "cell_type": "code",
   "execution_count": null,
   "metadata": {
    "colab": {
     "base_uri": "https://localhost:8080/"
    },
    "id": "KhaU_NNTF2Sm",
    "outputId": "c8ed3a03-8d9c-4562-e6d7-5de94e6f10b4"
   },
   "outputs": [
    {
     "data": {
      "text/plain": [
       "3.605551275463989"
      ]
     },
     "execution_count": 34,
     "metadata": {},
     "output_type": "execute_result"
    }
   ],
   "source": [
    "ot_original_value"
   ]
  },
  {
   "cell_type": "code",
   "execution_count": null,
   "metadata": {
    "colab": {
     "base_uri": "https://localhost:8080/"
    },
    "id": "vTflLwqugW9G",
    "outputId": "c676018c-58f8-4ebe-e587-3a26deb80480"
   },
   "outputs": [
    {
     "data": {
      "text/plain": [
       "3.60555127555594"
      ]
     },
     "execution_count": 35,
     "metadata": {},
     "output_type": "execute_result"
    }
   ],
   "source": [
    "prob_original.value"
   ]
  },
  {
   "cell_type": "markdown",
   "metadata": {
    "id": "oCyKoHnCgoZS"
   },
   "source": [
    "## Addition from August"
   ]
  },
  {
   "cell_type": "code",
   "execution_count": 48,
   "metadata": {},
   "outputs": [],
   "source": [
    "from utils.utils import unbalanced_sinkhorn"
   ]
  },
  {
   "cell_type": "code",
   "execution_count": 78,
   "metadata": {},
   "outputs": [
    {
     "data": {
      "text/plain": [
       "0.0"
      ]
     },
     "execution_count": 78,
     "metadata": {},
     "output_type": "execute_result"
    }
   ],
   "source": [
    "im2_new.min()"
   ]
  },
  {
   "cell_type": "markdown",
   "metadata": {},
   "source": [
    "Since w ehave a lot of zeros, the calculation of the divergence fails. To handle that, I will try several approaches. \n",
    "\n",
    "1 - adding a smoothing parameter $\\epsilon$ which we will add to both distributions\n",
    "\n",
    "2 - ignoring the places where either of the distributions is 0. for the case where we optimize on P, all the zero values are known, therefore we could just ignore the places which have them for bboth divergences."
   ]
  },
  {
   "cell_type": "code",
   "execution_count": 79,
   "metadata": {
    "scrolled": true
   },
   "outputs": [],
   "source": [
    "def create_d_phi(source: np.ndarray, target: np.ndarray, ro: float = 1.0, eps = 1e-6) -> cp.Variable:\n",
    "    \"\"\"\n",
    "    Takes two probability distributions and calculates the KL divergence between them.\n",
    "    :param source: The source distribution\n",
    "    :param target: The target distribution\n",
    "    :param ro: TODO: explain\n",
    "    :param eps: This parameter decides how much smoothing there will be in case of zeros in the target measure\n",
    "    :return: returns the variable d_phi as a cvxpy variable so that we could optimize on it\n",
    "    \"\"\"\n",
    "    if target.min() == 0:\n",
    "        print('The measure contains zero, a smoothing effect will be added.')\n",
    "        target = target + eps\n",
    "    D_phi = cp.Variable\n",
    "    first_exp0 = cp.log(source/target)\n",
    "    first_exp1 = cp.sum(cp.multiply(source/target, first_exp0))\n",
    "    second_exp = cp.sum(source/target)\n",
    "    D_phi = ro * cp.sum(first_exp1 - second_exp + 1)\n",
    "    return D_phi"
   ]
  },
  {
   "cell_type": "code",
   "execution_count": 95,
   "metadata": {},
   "outputs": [],
   "source": [
    "T_matrix = cp.Variable((len(im1_new.flatten()), len(im2_new.flatten())), nonneg=True)\n",
    "cons = [T_matrix >= 0]  # all elements of T_matrix should be non-negative"
   ]
  },
  {
   "cell_type": "code",
   "execution_count": 96,
   "metadata": {},
   "outputs": [
    {
     "data": {
      "text/plain": [
       "(25, 25)"
      ]
     },
     "execution_count": 96,
     "metadata": {},
     "output_type": "execute_result"
    }
   ],
   "source": [
    "T_matrix.shape"
   ]
  },
  {
   "cell_type": "code",
   "execution_count": 97,
   "metadata": {
    "scrolled": true
   },
   "outputs": [
    {
     "name": "stdout",
     "output_type": "stream",
     "text": [
      "The measure contains zero, a smoothing effect will be added.\n",
      "The measure contains zero, a smoothing effect will be added.\n"
     ]
    }
   ],
   "source": [
    "ones = np.ones(len(im1_new.flatten()))\n",
    "a = create_d_phi(T_matrix @ ones, im1_new.flatten())\n",
    "b = create_d_phi(T_matrix.T @ ones, im2_new.flatten())"
   ]
  },
  {
   "cell_type": "code",
   "execution_count": 107,
   "metadata": {},
   "outputs": [],
   "source": [
    "plan = ot.unbalanced.mm_unbalanced(a = im1_new.flatten(), b = im2_new.flatten(), M = C, reg_m = 1)"
   ]
  },
  {
   "cell_type": "code",
   "execution_count": 108,
   "metadata": {},
   "outputs": [
    {
     "data": {
      "text/plain": [
       "<matplotlib.image.AxesImage at 0x2e89b17e210>"
      ]
     },
     "execution_count": 108,
     "metadata": {},
     "output_type": "execute_result"
    },
    {
     "data": {
      "image/png": "[encoded data removed]",
      "text/plain": [
       "<Figure size 640x480 with 1 Axes>"
      ]
     },
     "metadata": {},
     "output_type": "display_data"
    }
   ],
   "source": [
    "plt.imshow(plan, cmap='gray')"
   ]
  },
  {
   "cell_type": "code",
   "execution_count": null,
   "metadata": {},
   "outputs": [],
   "source": [
    "tau_1 = 1\n",
    "tau_2 = 1\n",
    "\n",
    "obj = cp.Minimize(cp.sum(cp.multiply(T_matrix, C)) + tau_1 * a)\n",
    "prob = cp.Problem(obj, cons)\n",
    "prob.solve()"
   ]
  },
  {
   "cell_type": "code",
   "execution_count": null,
   "metadata": {},
   "outputs": [],
   "source": []
  }
 ],
 "metadata": {
  "colab": {
   "provenance": []
  },
  "kernelspec": {
   "display_name": "Python 3 (ipykernel)",
   "language": "python",
   "name": "python3"
  },
  "language_info": {
   "codemirror_mode": {
    "name": "ipython",
    "version": 3
   },
   "file_extension": ".py",
   "mimetype": "text/x-python",
   "name": "python",
   "nbconvert_exporter": "python",
   "pygments_lexer": "ipython3",
   "version": "3.11.4"
  }
 },
 "nbformat": 4,
 "nbformat_minor": 4
}
