{
 "cells": [
  {
   "cell_type": "code",
   "execution_count": 1,
   "metadata": {},
   "outputs": [],
   "source": [
    "import sys\n",
    "import os\n",
    "\n",
    "utils_path = os.path.abspath(r\"C:\\Users\\eriki\\OneDrive\\Documents\\all_folder\\Thesis\\Thesis\")\n",
    "if utils_path not in sys.path:\n",
    "    sys.path.append(utils_path)\n",
    "\n",
    "from utils.utils import *\n",
    "from utils.Visualizations import *\n",
    "from ot.datasets import make_1D_gauss as gauss\n",
    "import cvxpy as cp\n",
    "import numpy as np\n",
    "from utils.Classes import TransportResults"
   ]
  },
  {
   "cell_type": "code",
   "execution_count": 2,
   "metadata": {},
   "outputs": [],
   "source": [
    "def create_constraints(source, target):\n",
    "    \"\"\"\n",
    "    This function takes two lists as input and creates a matrix variable and a set of constraints.\n",
    "\n",
    "    Parameters:\n",
    "    - source (list): A list of non-negative numbers representing the source distribution and a 0 at the start.\n",
    "    - target (list): A list of non-negative numbers representing the target distribution and a 0 at the start.\n",
    "\n",
    "    Returns:\n",
    "    - T_matrix (cvxpy.Variable): A matrix variable with shape (len(source), len(target)) representing the transport plan.\n",
    "    - cons (list): A list of cvxpy constraints.\n",
    "    \"\"\"\n",
    "\n",
    "    n = len(source)\n",
    "    T_matrix = cp.Variable((n, n), nonneg=True)\n",
    "    source_sum = sum([abs(el) for el in source])\n",
    "    target_sum = sum([abs(el) for el in target])\n",
    "    diff = abs(source_sum - target_sum)\n",
    "\n",
    "    # Create constraints\n",
    "    cons = [\n",
    "        # Sum over j\n",
    "        *[cp.sum(T_matrix[i,1:]) - T_matrix[i,0] == source[i] for i in range(1, n)],\n",
    "        # Sum over i\n",
    "        *[cp.sum(T_matrix[1:,j]) - T_matrix[0,j] == target[j] for j in range(1, n)],\n",
    "        # Non-negativity constraint\n",
    "        T_matrix >= 0,\n",
    "        T_matrix[0,0] == 0\n",
    "    ]\n",
    "\n",
    "    return T_matrix, cons"
   ]
  },
  {
   "cell_type": "code",
   "execution_count": 3,
   "metadata": {},
   "outputs": [],
   "source": [
    "def extend_s_t(s, t):\n",
    "    \"\"\"\n",
    "    This function takes two numpy arrays as input representing the source and target distributions, and returns the extended versions of these distributions.\n",
    "\n",
    "    Parameters:\n",
    "    - s (numpy array): A numpy array representing the source distribution.\n",
    "    - t (numpy array): A numpy array representing the target distribution.\n",
    "\n",
    "    Returns:\n",
    "    - s_ext (numpy array): The extended source distribution.\n",
    "    - t_ext (numpy array): The extended target distribution.\n",
    "    \"\"\"\n",
    "\n",
    "    # Compute s_0 and t_0\n",
    "    s_0 = max(0, np.sum(t) - np.sum(s))\n",
    "    t_0 = max(0, np.sum(s) - np.sum(t))\n",
    "\n",
    "    # Extend s and t\n",
    "    s_ext = np.concatenate(([s_0], s))\n",
    "    t_ext = np.concatenate(([t_0], t))\n",
    "\n",
    "    return s_ext, t_ext"
   ]
  },
  {
   "cell_type": "code",
   "execution_count": 4,
   "metadata": {},
   "outputs": [],
   "source": [
    "n_p = 20\n",
    "n_q = 20\n",
    "p = (gauss(n_p, np.floor(1 * n_p / 4.), 2.) + gauss(n_p, np.floor(2 * n_p / 4.), 2.) * (-0.5)).flatten()\n",
    "q = (gauss(n_q, np.floor(5 * n_q / 8.), 2.) + gauss(n_q, np.floor(7 * n_q / 8.), 2.) * (-0.5)).flatten()\n",
    "X,Y = np.linspace(0,1,n_p), np.linspace(0,1,n_q)"
   ]
  },
  {
   "cell_type": "code",
   "execution_count": 5,
   "metadata": {},
   "outputs": [],
   "source": [
    "n_p = 2\n",
    "n_q = 2\n",
    "p = np.array([0,0])\n",
    "q = np.array([-1, 1])\n",
    "X,Y = np.linspace(0,1,n_p), np.linspace(0,1,n_q)"
   ]
  },
  {
   "cell_type": "code",
   "execution_count": 6,
   "metadata": {},
   "outputs": [],
   "source": [
    "C = np.zeros([n_p+1, n_q+1], dtype=np.float64)\n",
    "dist_f2 = lambda a, b : (a-b)**2\n",
    "\n",
    "C0 = 2000 # cost of mass creation\n",
    "C1 = 1  # cost of negative mass transportation\n",
    "C2 = 1  # cost of mass destruction\n",
    "\n",
    "# Compute cost matrix for original source-target pairs\n",
    "for it1 in range(n_p):\n",
    "    C[0,it1+1] = C0\n",
    "    C[it1+1,0] = C0\n",
    "    for it2 in range(n_q):\n",
    "        C[it1+1, it2+1] = dist_f2(X[it1], Y[it2])\n"
   ]
  },
  {
   "cell_type": "code",
   "execution_count": 7,
   "metadata": {},
   "outputs": [],
   "source": [
    "def solve_transport_problem(source, target, cost_matrix):\n",
    "    \"\"\"\n",
    "    This function solves the optimal transport problem for given source and target distributions and a cost matrix.\n",
    "\n",
    "    Parameters:\n",
    "    - source (list): A list of numbers representing the source distribution.\n",
    "    - target (list): A list of numbers representing the target distribution.\n",
    "    - cost_matrix (np.ndarray): A 2D numpy array representing the cost of transporting each unit of mass.\n",
    "\n",
    "    Returns:\n",
    "    - TransportResults: A named tuple containing the optimal total transported mass, the optimal transport plan,\n",
    "                        and the original source and target distributions.\n",
    "    \"\"\"\n",
    "    source_extended, target_extended = extend_s_t(source, target)\n",
    "    p, constraints = create_constraints(source_extended, target_extended)\n",
    "    obj = cp.Minimize(cp.sum(cp.multiply(p, cost_matrix)))\n",
    "    prob = cp.Problem(obj, constraints)\n",
    "    prob.solve()\n",
    "\n",
    "    return prob.value, p.value, source.flatten(), target.flatten()"
   ]
  },
  {
   "cell_type": "code",
   "execution_count": 8,
   "metadata": {},
   "outputs": [],
   "source": [
    "source_extended, target_extended = extend_s_t(p, q)"
   ]
  },
  {
   "cell_type": "code",
   "execution_count": 9,
   "metadata": {},
   "outputs": [
    {
     "data": {
      "text/plain": [
       "(3,)"
      ]
     },
     "execution_count": 9,
     "metadata": {},
     "output_type": "execute_result"
    }
   ],
   "source": [
    "target_extended.shape"
   ]
  },
  {
   "cell_type": "code",
   "execution_count": 10,
   "metadata": {},
   "outputs": [],
   "source": [
    "prob_value, transport_plan, source, target = solve_transport_problem(p, q, C)"
   ]
  },
  {
   "cell_type": "code",
   "execution_count": 11,
   "metadata": {},
   "outputs": [
    {
     "data": {
      "image/png": "[encoded data removed]",
      "text/plain": [
       "<Figure size 1000x400 with 1 Axes>"
      ]
     },
     "metadata": {},
     "output_type": "display_data"
    }
   ],
   "source": [
    "plot_marginals(X, source, target, '')"
   ]
  },
  {
   "cell_type": "code",
   "execution_count": 12,
   "metadata": {},
   "outputs": [
    {
     "data": {
      "text/plain": [
       "Text(0.5, 1.0, 'Burrowing')"
      ]
     },
     "execution_count": 12,
     "metadata": {},
     "output_type": "execute_result"
    },
    {
     "data": {
      "image/png": "[encoded data removed]",
      "text/plain": [
       "<Figure size 640x480 with 1 Axes>"
      ]
     },
     "metadata": {},
     "output_type": "display_data"
    }
   ],
   "source": [
    "plt.imshow(transport_plan, cmap='gray')\n",
    "plt.title('Burrowing')"
   ]
  },
  {
   "cell_type": "code",
   "execution_count": 13,
   "metadata": {},
   "outputs": [
    {
     "data": {
      "image/png": "[encoded data removed]",
      "text/plain": [
       "<Figure size 640x480 with 4 Axes>"
      ]
     },
     "metadata": {},
     "output_type": "display_data"
    }
   ],
   "source": [
    "plot_transport_map_with_marginals(source_extended, target_extended, transport_plan, '')"
   ]
  },
  {
   "cell_type": "code",
   "execution_count": 14,
   "metadata": {},
   "outputs": [],
   "source": [
    "sol, constraints = create_constraints(source_extended, target_extended)"
   ]
  },
  {
   "cell_type": "code",
   "execution_count": 15,
   "metadata": {},
   "outputs": [],
   "source": [
    "source = p"
   ]
  },
  {
   "cell_type": "code",
   "execution_count": 16,
   "metadata": {},
   "outputs": [],
   "source": [
    "target = q"
   ]
  },
  {
   "cell_type": "code",
   "execution_count": 17,
   "metadata": {},
   "outputs": [],
   "source": [
    "n = len(source)\n",
    "T_matrix = cp.Variable((n, n), nonneg=True)\n",
    "source_sum = sum([abs(el) for el in source])\n",
    "target_sum = sum([abs(el) for el in target])\n",
    "diff = abs(source_sum - target_sum)"
   ]
  },
  {
   "cell_type": "code",
   "execution_count": 18,
   "metadata": {},
   "outputs": [],
   "source": [
    "cons = [\n",
    "    # Sum over j\n",
    "    *[cp.sum(T_matrix[i,1:]) - T_matrix[i,0] == source[i] for i in range(1, n)],\n",
    "    # Sum over i\n",
    "    *[cp.sum(T_matrix[1:,j]) - T_matrix[0,j] == target[j] for j in range(1, n)],\n",
    "    # Non-negativity constraint\n",
    "    T_matrix >= 0\n",
    "]"
   ]
  },
  {
   "cell_type": "code",
   "execution_count": 19,
   "metadata": {},
   "outputs": [],
   "source": [
    "is_source_burrowing = cp.Variable(boolean=True)\n",
    "is_target_burrowing = cp.Variable(boolean=True)\n",
    "\n",
    "is_source_burrowing = cp.sum(T_matrix[1:,0]) == 0\n",
    "is_target_burrowing = cp.sum(T_matrix[0,1:]) == 0"
   ]
  }
 ],
 "metadata": {
  "kernelspec": {
   "display_name": "Python 3 (ipykernel)",
   "language": "python",
   "name": "python3"
  },
  "language_info": {
   "codemirror_mode": {
    "name": "ipython",
    "version": 3
   },
   "file_extension": ".py",
   "mimetype": "text/x-python",
   "name": "python",
   "nbconvert_exporter": "python",
   "pygments_lexer": "ipython3",
   "version": "3.11.4"
  }
 },
 "nbformat": 4,
 "nbformat_minor": 4
}
