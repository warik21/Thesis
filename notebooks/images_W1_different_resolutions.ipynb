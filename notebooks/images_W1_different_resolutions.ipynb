{
 "cells": [
  {
   "cell_type": "code",
   "execution_count": null,
   "metadata": {},
   "outputs": [],
   "source": [
    "import ot\n",
    "import os\n",
    "import numpy as np\n",
    "import matplotlib.pyplot as plt\n",
    "import pandas as pd\n",
    "import ot\n",
    "from utils.image import Image\n",
    "from utils.Visualizations import *\n",
    "from utils.utils import *\n",
    "import itertools\n",
    "import glob\n",
    "import time\n",
    "from tqdm import tqdm\n",
    "\n",
    "utils_path = os.path.abspath(r\"C:\\Users\\eriki\\OneDrive\\Documents\\all_folder\\Thesis\\Thesis\")\n",
    "if utils_path not in sys.path:\n",
    "    sys.path.append(utils_path)\n",
    "from utils.utils import *\n",
    "from utils.image import Image\n",
    "from utils.Visualizations import create_subplot"
   ]
  },
  {
   "cell_type": "markdown",
   "metadata": {},
   "source": [
    "## Looking into different resolutions"
   ]
  },
  {
   "cell_type": "code",
   "execution_count": null,
   "metadata": {},
   "outputs": [],
   "source": [
    "df1 = pd.read_csv('results.csv')\n",
    "df2 = pd.read_csv('csvs/diff_res.csv')"
   ]
  },
  {
   "cell_type": "code",
   "execution_count": null,
   "metadata": {},
   "outputs": [],
   "source": [
    "SNR_values1 = df1['SNR'].unique()\n",
    "SNR_values2 = df2['SNR'].unique()"
   ]
  },
  {
   "cell_type": "code",
   "execution_count": null,
   "metadata": {},
   "outputs": [],
   "source": [
    "subset1 = df1.drop(['Category','image1_index', 'image2_index'], axis=1)\n",
    "subset2 = df2.drop(['Category','image1_index', 'image2_index'], axis=1)\n",
    "\n",
    "fig = plt.figure(figsize=(20, 10))\n",
    "# Plot the ratio of the original to the noised distance for each SNR value\n",
    "for i, SNR in enumerate(SNR_values):\n",
    "    plt.subplot(3, 4, i+1)\n",
    "    subset_SNR1 = subset1[subset1['SNR'] == SNR]\n",
    "    subset_SNR2 = subset2[subset2['SNR'] == SNR]\n",
    "    df_grouped1 = subset_SNR1.groupby('Resolution').mean().reset_index()\n",
    "    df_grouped2 = subset_SNR2.groupby('Resolution').mean().reset_index()\n",
    "\n",
    "    #plt.plot(df_grouped1['Resolution'], df_grouped1['Fourier Ratio'], label='Ratio Fourier_1', linestyle='--')\n",
    "    #plt.plot(df_grouped1['Resolution'], df_grouped1['L2 Ratio'], label='Ratio L2_1', linestyle='--')\n",
    "    plt.plot(df_grouped2['Resolution'], df_grouped2['Fourier Ratio'], label='Ratio Fourier_2')\n",
    "    plt.plot(df_grouped2['Resolution'], df_grouped2['L2 Ratio'], label='Ratio L2_2')\n",
    "    plt.title(f'SNR={SNR}')\n",
    "    plt.xscale('log')\n",
    "    plt.xlabel('Resolution')\n",
    "    plt.ylabel('Ratio')\n",
    "    plt.legend()\n",
    "\n",
    "plt.tight_layout()\n",
    "plt.show()"
   ]
  },
  {
   "cell_type": "code",
   "execution_count": null,
   "metadata": {},
   "outputs": [],
   "source": [
    "df1 = pd.read_csv('results2.csv')\n",
    "subset1 = df1.drop(['Category','image1_index', 'image2_index'], axis=1)\n",
    "noise_values = df1['Noise'].unique()\n",
    "\n",
    "\n",
    "fig = plt.figure(figsize=(20, 10))\n",
    "# Plot the ratio of the original to the noised distance for each SNR value\n",
    "for i, noise_param in enumerate(noise_values):\n",
    "    plt.subplot(3, 4, i+1)\n",
    "    subset_SNR1 = subset1[subset1['Noise'] == noise_param]\n",
    "    df_grouped1 = subset_SNR1.groupby('Resolution').mean().reset_index()\n",
    "\n",
    "    plt.plot(df_grouped1['Resolution'], df_grouped1['Fourier Ratio'], label='Ratio Fourier_1', linestyle='--')\n",
    "    plt.plot(df_grouped1['Resolution'], df_grouped1['L2 Ratio'], label='Ratio L2_1', linestyle='--')\n",
    "    plt.title(f'Noise={noise_param}')\n",
    "    #plt.xscale('log')\n",
    "    plt.xlabel('Resolution')\n",
    "    plt.ylabel('Ratio')\n",
    "    plt.legend()\n",
    "\n",
    "plt.tight_layout()\n",
    "plt.show()"
   ]
  },
  {
   "cell_type": "code",
   "execution_count": null,
   "metadata": {},
   "outputs": [],
   "source": [
    "subset = df1.drop(['Category','image1_index', 'image2_index'], axis=1)\n",
    "category = category_names[0]\n",
    "print(f'The lowest L2 ratio is {df1[df1[\"Category\"] == category][\"L2 Ratio\"].min()}')\n",
    "print(f'The lowest Fourier ratio is {df1[df1[\"Category\"] == category][\"Fourier Ratio\"].min()}')"
   ]
  },
  {
   "cell_type": "code",
   "execution_count": null,
   "metadata": {},
   "outputs": [],
   "source": [
    "noises = subset['Noise'].unique()\n",
    "subset2 = subset[subset['Noise'] == noises[7]]\n",
    "df_grouped = subset2.groupby('Resolution').mean().reset_index()\n",
    "len(subset2.index)"
   ]
  },
  {
   "cell_type": "code",
   "execution_count": null,
   "metadata": {},
   "outputs": [],
   "source": [
    "df_grouped.head()"
   ]
  },
  {
   "cell_type": "code",
   "execution_count": null,
   "metadata": {},
   "outputs": [],
   "source": [
    "#df_grouped = subset.groupby('Noise').mean().reset_index()\n",
    "df_grouped = subset2.groupby('Resolution').mean().reset_index()\n",
    "\n",
    "plt.plot(df_grouped['Resolution'], df_grouped['L2 Ratio'], label='Ratio L2', color='blue')\n",
    "plt.plot(df_grouped['Resolution'], df_grouped['Fourier Ratio'], label='Ratio Fourier', color='red', linestyle='--')\n",
    "\n",
    "#plt.xscale('log')\n",
    "plt.title(f'Ratio of original to noised distance, category={category}')\n",
    "plt.xlabel('Resolution')\n",
    "plt.ylabel('Ratio')\n",
    "plt.legend()\n",
    "\n",
    "plt.show()"
   ]
  },
  {
   "cell_type": "code",
   "execution_count": null,
   "metadata": {},
   "outputs": [],
   "source": [
    "#plt.plot(df_grouped['Resolution'], df_grouped['Fourier Original'], label='Ratio Fourier', color='blue')\n",
    "plt.plot(df_grouped['Resolution'], df_grouped['L2 Original'], label='Ratio Linear', color='black', linestyle='--')\n",
    "\n",
    "plt.title('Original distance as a function of resolution')\n",
    "plt.xlabel('Resolution')\n",
    "plt.ylabel('Distance')\n",
    "plt.legend()\n",
    "\n",
    "plt.show()"
   ]
  }
 ],
 "metadata": {
  "language_info": {
   "name": "python"
  }
 },
 "nbformat": 4,
 "nbformat_minor": 2
}
