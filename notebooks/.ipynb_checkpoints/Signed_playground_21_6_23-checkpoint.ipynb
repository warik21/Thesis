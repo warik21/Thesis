{
 "cells": [
  {
   "cell_type": "markdown",
   "metadata": {},
   "source": [
    "# This is a notebook which helps understand OT on signed measures"
   ]
  },
  {
   "cell_type": "markdown",
   "metadata": {},
   "source": [
    "This method splits the measures to negative and positive, \n",
    "\n",
    "where $\\mu_{+},\\mu_{-} \\in \\mathbb{R}^{I}_{+}$ , $\\nu_{+},\\nu_{-} \\in \\mathbb{R}^{J}_{+}$ , $\\{\\text{supp}\\{\\mu_{+}\\} \\cap \\text{supp}\\{\\mu_{-}\\}\\} = \\{ \\emptyset \\}$ and $\\{\\text{supp}\\{\\nu_{+}\\} \\cap \\text{supp}\\{\\nu_{-}\\}\\} = \\{ \\emptyset \\}$.\n",
    "\n",
    "\n",
    "\\begin{equation}\n",
    "\\tag{$W$}\n",
    "\\mathbb{W}_{1}(\\mu,\\nu) = W_{1}(\\mu_{+} ,\\nu_{+}) \\, + W_{1}(\\mu_{-},\\nu_{-}).\n",
    "\\end{equation}"
   ]
  },
  {
   "cell_type": "markdown",
   "metadata": {},
   "source": [
    "## Example on gaussian distributions"
   ]
  },
  {
   "cell_type": "code",
   "execution_count": 1,
   "metadata": {},
   "outputs": [],
   "source": [
    "from utils.Visualizations import *\n",
    "import numpy as np\n",
    "import ot\n",
    "\n",
    "n_p = 100\n",
    "n_q = 100\n",
    "eps = 1.e-2\n",
    "X,Y = np.linspace(0,1,n_p), np.linspace(0,1,n_q)\n",
    "\n",
    "p = make_1D_gauss(n_p, np.floor(1 * n_p / 4.), 2.) + make_1D_gauss(n_p, np.floor(2 * n_p / 4.), 2.) * (-0.5)\n",
    "q = make_1D_gauss(n_q, np.floor(5 * n_q / 8.), 2.) + make_1D_gauss(n_q, np.floor(7 * n_q / 8.), 2.) * (-0.5)\n",
    "\n",
    "C = np.zeros([n_p,n_q],dtype=np.float64)\n",
    "\n",
    "dist_f1 = lambda a,b : abs(a-b)\n",
    "dist_f2 = lambda a,b : (a-b)**2\n",
    "for it1 in range(n_p):\n",
    "    for it2 in range(n_q):\n",
    "        C[it1,it2] = dist_f2(X[it1],Y[it2])\n",
    "\n",
    "## To work with the signed measures\n",
    "p_pos, p_neg = split_signed_measure(p)\n",
    "q_pos, q_neg = split_signed_measure(q)"
   ]
  },
  {
   "cell_type": "code",
   "execution_count": 45,
   "metadata": {},
   "outputs": [],
   "source": [
    "from utils.Visualizations import *\n",
    "import numpy as np\n",
    "import ot\n",
    "\n",
    "n_p = 7\n",
    "n_q = 7\n",
    "eps = 1.e-2\n",
    "X,Y = np.linspace(0,1,n_p), np.linspace(0,1,n_q)\n",
    "\n",
    "p = np.array([0,1,2,1,0,-1,0], dtype=np.float64)\n",
    "q = np.array([0,-1,0,1,2,1,0], dtype=np.float64)\n",
    "\n",
    "C = np.zeros([n_p,n_q],dtype=np.float64)\n",
    "\n",
    "dist_f1 = lambda a,b : abs(a-b)\n",
    "dist_f2 = lambda a,b : (a-b)**2\n",
    "for it1 in range(n_p):\n",
    "    for it2 in range(n_q):\n",
    "        C[it1,it2] = dist_f2(X[it1],Y[it2])\n",
    "\n",
    "## To work with the signed measures\n",
    "p_pos, p_neg = split_signed_measure(p)\n",
    "q_pos, q_neg = split_signed_measure(q)"
   ]
  },
  {
   "cell_type": "code",
   "execution_count": 46,
   "metadata": {},
   "outputs": [],
   "source": [
    "K_t : np.ndarray = np.exp(C / (-eps))"
   ]
  },
  {
   "cell_type": "code",
   "execution_count": 53,
   "metadata": {},
   "outputs": [],
   "source": [
    "def plot_distribution(X, p, q, title):\n",
    "    \"\"\"\n",
    "    Plot the source and target distributions\n",
    "    :param X: linear space in which the distributions are defined\n",
    "    :param p: source distribution\n",
    "    :param q: target distribution\n",
    "    :param title: title of the plot\n",
    "    :return: None, plot the distributions\n",
    "    \"\"\"\n",
    "    plt.figure(figsize=(10, 4))\n",
    "    plt.scatter(X, p, label='Source dist: p')\n",
    "    plt.scatter(X, q, label='Target dist: q')\n",
    "    plt.title(title)\n",
    "    plt.legend()\n",
    "    plt.show()"
   ]
  },
  {
   "cell_type": "code",
   "execution_count": 54,
   "metadata": {},
   "outputs": [],
   "source": [
    "transport_plan_pos, Transport_cost_pos = calc_transport_pot_emd(p_pos, q_pos, C)"
   ]
  },
  {
   "cell_type": "code",
   "execution_count": 55,
   "metadata": {},
   "outputs": [
    {
     "data": {
      "image/png": "[encoded data removed]",
      "text/plain": [
       "<Figure size 720x288 with 1 Axes>"
      ]
     },
     "metadata": {
      "needs_background": "light"
     },
     "output_type": "display_data"
    }
   ],
   "source": [
    "plot_distribution(X, p, q, title='Source and target distributions')"
   ]
  },
  {
   "cell_type": "markdown",
   "metadata": {},
   "source": [
    "### Positives"
   ]
  },
  {
   "cell_type": "code",
   "execution_count": 1,
   "metadata": {},
   "outputs": [],
   "source": [
    "def plot1D_mat_bar(a, b, M, title=''):\n",
    "    \"\"\" Plot matrix M  with the source and target 1D distribution\n",
    "\n",
    "    Creates a subplot with the source distribution a on the left and\n",
    "    target distribution b on the tot. The matrix M is shown in between.\n",
    "\n",
    "\n",
    "    Parameters\n",
    "    ----------\n",
    "    a : np.array, shape (na,)\n",
    "        Source distribution\n",
    "    b : np.array, shape (nb,)\n",
    "        Target distribution\n",
    "    M : np.array, shape (na,nb)\n",
    "        Matrix to plot\n",
    "    title: string, optional (default='')\n",
    "    \"\"\"\n",
    "    na, nb = M.shape\n",
    "\n",
    "    gs = gridspec.GridSpec(3, 3)\n",
    "\n",
    "    xa = np.arange(na)\n",
    "    xb = np.arange(nb)\n",
    "\n",
    "    ax1 = plt.subplot(gs[0, 1:])\n",
    "    plt.bar(xb, b, label='Target distribution')\n",
    "    plt.yticks(())\n",
    "    plt.title(title)\n",
    "\n",
    "    #because of barh syntax, a and xa should be in reverse order.\n",
    "    ax2 = plt.subplot(gs[1:, 0])\n",
    "    plt.barh(xa, a, label='Source distribution')\n",
    "    plt.gca().invert_xaxis()\n",
    "    plt.gca().invert_yaxis()\n",
    "    plt.xticks(())\n",
    "\n",
    "    plt.subplot(gs[1:, 1:], sharex=ax1, sharey=ax2)\n",
    "    plt.imshow(M, interpolation='nearest')\n",
    "    plt.axis('off')\n",
    "\n",
    "    plt.xlim((0, nb))\n",
    "    plt.tight_layout()\n",
    "    plt.subplots_adjust(wspace=0., hspace=0.2)\n"
   ]
  },
  {
   "cell_type": "code",
   "execution_count": 57,
   "metadata": {
    "scrolled": true
   },
   "outputs": [
    {
     "data": {
      "image/png": "[encoded data removed]",
      "text/plain": [
       "<Figure size 720x720 with 3 Axes>"
      ]
     },
     "metadata": {
      "needs_background": "light"
     },
     "output_type": "display_data"
    }
   ],
   "source": [
    "transport_plan_pos, transport_cost_pos = calc_transport_pot_emd(p_pos, q_pos, C)\n",
    "plt.figure(figsize=(10,10))\n",
    "plot1D_mat(p_pos, q_pos, transport_plan_pos,'Transport map with the source and target dist for positives')\n",
    "plt.show()"
   ]
  },
  {
   "cell_type": "code",
   "execution_count": 58,
   "metadata": {},
   "outputs": [
    {
     "data": {
      "text/plain": [
       "array([0, 1, 2, 3, 4, 5, 6])"
      ]
     },
     "execution_count": 58,
     "metadata": {},
     "output_type": "execute_result"
    }
   ],
   "source": [
    "np.arange(C.shape[0])"
   ]
  },
  {
   "cell_type": "markdown",
   "metadata": {},
   "source": [
    "### Negatives"
   ]
  },
  {
   "cell_type": "code",
   "execution_count": 59,
   "metadata": {},
   "outputs": [
    {
     "data": {
      "image/png": "[encoded data removed]",
      "text/plain": [
       "<Figure size 720x720 with 3 Axes>"
      ]
     },
     "metadata": {
      "needs_background": "light"
     },
     "output_type": "display_data"
    }
   ],
   "source": [
    "transport_plan_neg, transport_cost_neg = calc_transport_pot_emd(p_neg, q_neg, C)\n",
    "plt.figure(figsize=(10,10))\n",
    "plot1D_mat(p_neg, q_neg, transport_plan_neg,'Transport map with the source and target dist for negatives')\n",
    "plt.show()"
   ]
  },
  {
   "cell_type": "markdown",
   "metadata": {},
   "source": [
    "### United"
   ]
  },
  {
   "cell_type": "code",
   "execution_count": 60,
   "metadata": {},
   "outputs": [],
   "source": [
    "transport_plan_united = transport_plan_pos + transport_plan_neg\n",
    "transport_cost_united = transport_cost_pos + transport_cost_neg"
   ]
  },
  {
   "cell_type": "code",
   "execution_count": 61,
   "metadata": {
    "scrolled": true
   },
   "outputs": [
    {
     "data": {
      "image/png": "[encoded data removed]",
      "text/plain": [
       "<Figure size 720x720 with 3 Axes>"
      ]
     },
     "metadata": {
      "needs_background": "light"
     },
     "output_type": "display_data"
    }
   ],
   "source": [
    "plt.figure(figsize=(10,10))\n",
    "plot1D_mat(p, q, transport_plan_pos + transport_plan_neg,'Transport map with the source and target dist for united')\n",
    "plt.show()"
   ]
  },
  {
   "cell_type": "markdown",
   "metadata": {},
   "source": [
    "### Trying to define \n",
    "\\begin{equation}\n",
    "\\mu = \\mu_{+} - \\mu_{-}\n",
    "\\quad \\text{and} \\quad \n",
    "\\nu = \\nu_{+} - \\nu_{-}\\, ,\n",
    "\\end{equation}\n",
    "\n",
    "where $\\mu_{+},\\mu_{-} \\in \\mathbb{R}^{I}_{+}$ , $\\nu_{+},\\nu_{-} \\in \\mathbb{R}^{J}_{+}$ , $\\{\\text{supp}\\{\\mu_{+}\\} \\cap \\text{supp}\\{\\mu_{-}\\}\\} = \\{ \\emptyset \\}$ and $\\{\\text{supp}\\{\\nu_{+}\\} \\cap \\text{supp}\\{\\nu_{-}\\}\\} = \\{ \\emptyset \\}$.\n",
    "\n",
    "The RGWD for signed measures will be defined as follows:\n",
    "\n",
    "\\begin{equation}\n",
    "\\tag{$W$}\n",
    "\\mathbb{W}_{1}^{\\lambda, \\epsilon}(\\mu,\\nu) = W_{1}^{\\lambda, \\epsilon}(\\mu_{+} + \\nu_{-} , \\mu_{-} + \\nu_{+}) \\, .\n",
    "\\end{equation}\n",
    "\n",
    "### Instead of the defined wasserstein distance in the article, I will use the transport plans I got here, for visualization"
   ]
  },
  {
   "cell_type": "code",
   "execution_count": 62,
   "metadata": {},
   "outputs": [],
   "source": [
    "p_new = p_pos + q_neg\n",
    "q_new = q_pos + p_neg"
   ]
  },
  {
   "cell_type": "code",
   "execution_count": 63,
   "metadata": {},
   "outputs": [
    {
     "data": {
      "image/png": "[encoded data removed]",
      "text/plain": [
       "<Figure size 720x720 with 3 Axes>"
      ]
     },
     "metadata": {
      "needs_background": "light"
     },
     "output_type": "display_data"
    }
   ],
   "source": [
    "transport_plan_new, transport_cost_new = calc_transport_pot_emd(p_new, q_new, C)\n",
    "plt.figure(figsize=(10,10))\n",
    "plot1D_mat(p_new, q_new, transport_plan_new,'Transport map with the source and target dist for new')\n",
    "plt.show()"
   ]
  },
  {
   "cell_type": "markdown",
   "metadata": {},
   "source": [
    "We see a very big difference between the plans and I'm not sure we should be. This does not seem like the optimal way to perform this calculation. Think about how we could test whether these are legit."
   ]
  },
  {
   "cell_type": "markdown",
   "metadata": {},
   "source": [
    "## Lift by minimum"
   ]
  },
  {
   "cell_type": "code",
   "execution_count": 64,
   "metadata": {},
   "outputs": [
    {
     "name": "stdout",
     "output_type": "stream",
     "text": [
      "-1.0\n"
     ]
    }
   ],
   "source": [
    "min_amount = min(min(p), min(q))\n",
    "print(min_amount)"
   ]
  },
  {
   "cell_type": "code",
   "execution_count": 65,
   "metadata": {},
   "outputs": [],
   "source": [
    "p_lifted = p - min_amount\n",
    "q_lifted = q - min_amount"
   ]
  },
  {
   "cell_type": "code",
   "execution_count": 68,
   "metadata": {
    "scrolled": true
   },
   "outputs": [
    {
     "data": {
      "image/png": "[encoded data removed]",
      "text/plain": [
       "<Figure size 432x432 with 3 Axes>"
      ]
     },
     "metadata": {
      "needs_background": "light"
     },
     "output_type": "display_data"
    }
   ],
   "source": [
    "transport_plan_lifted, transport_cost_lifted = calc_transport_pot_emd(p_lifted, q_lifted, C)\n",
    "plt.figure(figsize=(6,6))\n",
    "plot1D_mat(p_lifted, q_lifted, transport_plan_lifted,'Transport map with the source and target dist for lifted')\n",
    "plt.show()"
   ]
  },
  {
   "cell_type": "code",
   "execution_count": 40,
   "metadata": {},
   "outputs": [],
   "source": [
    "def plot_transport_map(p, q, Transport_plan, title):\n",
    "    plt.figure(figsize=(8, 8))\n",
    "    plot1D_mat(p, q, Transport_plan, title)\n",
    "    plt.show()"
   ]
  },
  {
   "cell_type": "code",
   "execution_count": 41,
   "metadata": {},
   "outputs": [
    {
     "data": {
      "image/png": "[encoded data removed]",
      "text/plain": [
       "<Figure size 576x576 with 3 Axes>"
      ]
     },
     "metadata": {
      "needs_background": "light"
     },
     "output_type": "display_data"
    }
   ],
   "source": [
    "plot_transport_map(p,q,transport_plan_lifted - transport_plan_united, \"\")"
   ]
  },
  {
   "cell_type": "code",
   "execution_count": 42,
   "metadata": {},
   "outputs": [
    {
     "name": "stdout",
     "output_type": "stream",
     "text": [
      "0.5555555555555555\n"
     ]
    }
   ],
   "source": [
    "print(trans   port_cost_lifted)"
   ]
  },
  {
   "cell_type": "code",
   "execution_count": 43,
   "metadata": {},
   "outputs": [
    {
     "name": "stdout",
     "output_type": "stream",
     "text": [
      "0.8888888888888888\n"
     ]
    }
   ],
   "source": [
    "print(transport_cost_united)"
   ]
  },
  {
   "cell_type": "code",
   "execution_count": 44,
   "metadata": {},
   "outputs": [
    {
     "name": "stdout",
     "output_type": "stream",
     "text": [
      "0.8333333333333333\n"
     ]
    }
   ],
   "source": [
    "print(transport_cost_new)"
   ]
  },
  {
   "cell_type": "code",
   "execution_count": null,
   "metadata": {},
   "outputs": [],
   "source": []
  },
  {
   "cell_type": "code",
   "execution_count": null,
   "metadata": {},
   "outputs": [],
   "source": []
  }
 ],
 "metadata": {
  "kernelspec": {
   "display_name": "Python 3",
   "language": "python",
   "name": "python3"
  },
  "language_info": {
   "codemirror_mode": {
    "name": "ipython",
    "version": 3
   },
   "file_extension": ".py",
   "mimetype": "text/x-python",
   "name": "python",
   "nbconvert_exporter": "python",
   "pygments_lexer": "ipython3",
   "version": "3.8.0"
  }
 },
 "nbformat": 4,
 "nbformat_minor": 4
}
