{
 "cells": [
  {
   "cell_type": "code",
   "execution_count": 14,
   "metadata": {},
   "outputs": [],
   "source": [
    "from utils.Visualizations import *\n",
    "import numpy as np\n",
    "import ot\n",
    "\n",
    "n_p = 7\n",
    "n_q = 7\n",
    "eps = 1.e-2\n",
    "X,Y = np.linspace(0,1,n_p), np.linspace(0,1,n_q)\n",
    "\n",
    "p = np.array([0,1,2,1,0,-1,0], dtype=np.float64)\n",
    "q = np.array([0,-1,0,1,2,1,0], dtype=np.float64)\n",
    "\n",
    "C = np.zeros([n_p,n_q],dtype=np.float64)\n",
    "\n",
    "dist_f1 = lambda a,b : abs(a-b)\n",
    "dist_f2 = lambda a,b : (a-b)**2\n",
    "for it1 in range(n_p):\n",
    "    for it2 in range(n_q):\n",
    "        C[it1,it2] = dist_f2(X[it1],Y[it2])\n",
    "\n",
    "## To work with the signed measures\n",
    "p_pos, p_neg = split_signed_measure(p)\n",
    "q_pos, q_neg = split_signed_measure(q)"
   ]
  },
  {
   "cell_type": "code",
   "execution_count": 15,
   "metadata": {},
   "outputs": [],
   "source": [
    "def solve_ot_dual(c, mu, nu):\n",
    "    n, m = c.shape # n and m are the dimensions of cost matrix c\n",
    "    f = cp.Variable(n)\n",
    "    g = cp.Variable(m)\n",
    "\n",
    "    constraints = [f[i] + g[j] <= c[i, j] for i in range(n) for j in range(m)]\n",
    "\n",
    "    objective = cp.Maximize(mu @ f + nu @ g)\n",
    "    problem = cp.Problem(objective, constraints)\n",
    "\n",
    "    problem.solve()\n",
    "\n",
    "    return f.value, g.value, problem.value"
   ]
  },
  {
   "cell_type": "code",
   "execution_count": 16,
   "metadata": {},
   "outputs": [],
   "source": [
    "a,b,c = solve_ot_dual(C, p, q)"
   ]
  },
  {
   "cell_type": "code",
   "execution_count": 18,
   "metadata": {},
   "outputs": [
    {
     "name": "stdout",
     "output_type": "stream",
     "text": [
      "0.16000000003265485\n"
     ]
    }
   ],
   "source": [
    "print(c)"
   ]
  },
  {
   "cell_type": "code",
   "execution_count": null,
   "metadata": {},
   "outputs": [],
   "source": []
  }
 ],
 "metadata": {
  "kernelspec": {
   "display_name": "Python 3",
   "language": "python",
   "name": "python3"
  },
  "language_info": {
   "codemirror_mode": {
    "name": "ipython",
    "version": 3
   },
   "file_extension": ".py",
   "mimetype": "text/x-python",
   "name": "python",
   "nbconvert_exporter": "python",
   "pygments_lexer": "ipython3",
   "version": "3.8.0"
  }
 },
 "nbformat": 4,
 "nbformat_minor": 4
}
