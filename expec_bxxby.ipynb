{
 "cells": [
  {
   "cell_type": "markdown",
   "metadata": {},
   "source": [
    "# E [$B_x \\cdot B_y] $"
   ]
  },
  {
   "cell_type": "code",
   "execution_count": 6,
   "metadata": {},
   "outputs": [],
   "source": [
    "import numpy as np\n",
    "import matplotlib.pyplot as plt\n",
    "import os\n",
    "import pandas as pd\n",
    "import ot\n",
    "from utils.image import Image\n",
    "from utils.Visualizations import *\n",
    "from utils.utils import *\n",
    "import itertools\n",
    "import glob\n",
    "from scipy.stats import normaltest, gaussian_kde, probplot\n",
    "from scipy.optimize import curve_fit\n",
    "from sklearn.linear_model import LinearRegression\n",
    "import time\n",
    "from tqdm import tqdm"
   ]
  },
  {
   "cell_type": "code",
   "execution_count": 7,
   "metadata": {},
   "outputs": [],
   "source": [
    "dotmark_pictures_path = \"..\\\\DOTmark_1.0\\\\Pictures\\\\\"\n",
    "full_path = os.path.join(os.getcwd(), dotmark_pictures_path)\n",
    "resolution = 32\n",
    "image_numbers = ['01','02','03','04','05','06','07','08','09','10']\n",
    "noise_values = np.logspace(start = -8, stop = 2, num = 100)\n",
    "categories_pattern = os.path.join(dotmark_pictures_path, \"*\")\n",
    "category_dirs = [path for path in glob.glob(categories_pattern) if os.path.isdir(path)]\n",
    "category_names = [os.path.basename(category) for category in category_dirs if os.path.isdir(category)]"
   ]
  },
  {
   "cell_type": "markdown",
   "metadata": {},
   "source": [
    "## Constant K, Constant images"
   ]
  },
  {
   "cell_type": "code",
   "execution_count": 8,
   "metadata": {},
   "outputs": [
    {
     "name": "stderr",
     "output_type": "stream",
     "text": [
      "  0%|          | 0/100 [00:00<?, ?it/s]C:\\Users\\eriki\\AppData\\Local\\Temp\\ipykernel_21456\\4279268577.py:42: FutureWarning: The behavior of DataFrame concatenation with empty or all-NA entries is deprecated. In a future version, this will no longer exclude empty or all-NA columns when determining the result dtypes. To retain the old behavior, exclude the relevant entries before the concat operation.\n",
      "  total_sum_df = total_sum_df._append({\n",
      "100%|██████████| 100/100 [01:23<00:00,  1.20it/s]\n"
     ]
    }
   ],
   "source": [
    "num_exp = 100\n",
    "noise_values = np.logspace(start = -8, stop = 2, num = 100)\n",
    "summands_lists = [] * len(noise_values)\n",
    "summands_means = np.zeros(len(noise_values))\n",
    "B_xs = np.zeros((resolution, resolution, len(noise_values)))\n",
    "\n",
    "total_sum_df = pd.DataFrame(columns=['Noise', 'Abs_Sum'])\n",
    "k = np.random.randint(1, resolution + 1, size=2)\n",
    "# Randomly select image indexes and category indexes\n",
    "image_indexes = np.random.randint(0, 10, 2)\n",
    "category_indexes = np.random.randint(0, 10, 2)\n",
    "# Create image instances\n",
    "image1 = Image(resolution, category_names[category_indexes[0]], image_numbers[image_indexes[0]], full_path)\n",
    "image2 = Image(resolution, category_names[category_indexes[1]], image_numbers[image_indexes[1]], full_path)\n",
    "        \n",
    "\n",
    "for noise in tqdm(noise_values):\n",
    "    for i in range(num_exp):\n",
    "        # Process images\n",
    "        results = Image.process_images(image1, image2, noise)\n",
    "        alpha_1 = (1 / image1.image_post_noised.sum()) - 1\n",
    "        alpha_2 = (1 / image2.image_post_noised.sum()) - 1\n",
    "\n",
    "        sum_left = 0\n",
    "        sum_right = 0\n",
    "        # k = np.random.randint(1, resolution + 1, size=2)\n",
    "        \n",
    "        # Calculate sum_left and sum_right according to line 44\n",
    "        for x in range(resolution):\n",
    "            for y in range(resolution):\n",
    "                B_x = image1.image_post_noised[x, y] * alpha_1 - image2.image_post_noised[x, y] * alpha_2\n",
    "                location = np.array([x, y])\n",
    "                exponent = np.exp(-1j * np.dot(location, k))\n",
    "                sum_left += exponent * B_x\n",
    "                exponent = np.exp(1j * np.dot(location, k))\n",
    "                sum_right += exponent * B_x\n",
    "        \n",
    "        # Compute absolute sum\n",
    "        abs_sum = abs(sum_left * sum_right)\n",
    "        \n",
    "        # Append results to DataFrame\n",
    "        total_sum_df = total_sum_df._append({\n",
    "            'Noise': noise,\n",
    "            'Sum_Left': sum_left,\n",
    "            'Sum_Right': sum_right,\n",
    "            'alpha_1': alpha_1,\n",
    "            'alpha_2': alpha_2,\n",
    "            'k': k,\n",
    "            'Abs_Sum': abs_sum\n",
    "        }, ignore_index=True)"
   ]
  },
  {
   "cell_type": "code",
   "execution_count": 9,
   "metadata": {},
   "outputs": [],
   "source": [
    "# total_sum_df.to_csv('total_sum_df.csv', index=False)"
   ]
  },
  {
   "cell_type": "code",
   "execution_count": 10,
   "metadata": {},
   "outputs": [
    {
     "data": {
      "text/html": [
       "<div>\n",
       "<style scoped>\n",
       "    .dataframe tbody tr th:only-of-type {\n",
       "        vertical-align: middle;\n",
       "    }\n",
       "\n",
       "    .dataframe tbody tr th {\n",
       "        vertical-align: top;\n",
       "    }\n",
       "\n",
       "    .dataframe thead th {\n",
       "        text-align: right;\n",
       "    }\n",
       "</style>\n",
       "<table border=\"1\" class=\"dataframe\">\n",
       "  <thead>\n",
       "    <tr style=\"text-align: right;\">\n",
       "      <th></th>\n",
       "      <th>Noise</th>\n",
       "      <th>Abs_Sum</th>\n",
       "      <th>Sum_Left</th>\n",
       "      <th>Sum_Right</th>\n",
       "      <th>alpha_1</th>\n",
       "      <th>alpha_2</th>\n",
       "      <th>k</th>\n",
       "      <th>k_square</th>\n",
       "    </tr>\n",
       "  </thead>\n",
       "  <tbody>\n",
       "    <tr>\n",
       "      <th>0</th>\n",
       "      <td>1.000000e-08</td>\n",
       "      <td>2.402863e-17</td>\n",
       "      <td>-2.007690e-09-4.471891e-                    09j</td>\n",
       "      <td>-2.007690e-09+4.471891e-                    09j</td>\n",
       "      <td>-3.206323e-07</td>\n",
       "      <td>-2.126820e-07</td>\n",
       "      <td>[24, 17]</td>\n",
       "      <td>[24, 17]</td>\n",
       "    </tr>\n",
       "    <tr>\n",
       "      <th>1</th>\n",
       "      <td>1.000000e-08</td>\n",
       "      <td>7.511138e-18</td>\n",
       "      <td>-1.746644e-09-2.111960e-                    09j</td>\n",
       "      <td>-1.746644e-09+2.111960e-                    09j</td>\n",
       "      <td>7.275484e-08</td>\n",
       "      <td>-2.236277e-07</td>\n",
       "      <td>[24, 17]</td>\n",
       "      <td>[24, 17]</td>\n",
       "    </tr>\n",
       "    <tr>\n",
       "      <th>2</th>\n",
       "      <td>1.000000e-08</td>\n",
       "      <td>1.760893e-17</td>\n",
       "      <td>-2.382621e-09-3.454279e-                    09j</td>\n",
       "      <td>-2.382621e-09+3.454279e-                    09j</td>\n",
       "      <td>-1.412867e-08</td>\n",
       "      <td>-2.926187e-07</td>\n",
       "      <td>[24, 17]</td>\n",
       "      <td>[24, 17]</td>\n",
       "    </tr>\n",
       "    <tr>\n",
       "      <th>3</th>\n",
       "      <td>1.000000e-08</td>\n",
       "      <td>1.062461e-17</td>\n",
       "      <td>-1.647674e-09-2.812432e-                    09j</td>\n",
       "      <td>-1.647674e-09+2.812432e-                    09j</td>\n",
       "      <td>-9.354687e-08</td>\n",
       "      <td>-1.931560e-07</td>\n",
       "      <td>[24, 17]</td>\n",
       "      <td>[24, 17]</td>\n",
       "    </tr>\n",
       "    <tr>\n",
       "      <th>4</th>\n",
       "      <td>1.000000e-08</td>\n",
       "      <td>3.836400e-17</td>\n",
       "      <td>-3.682720e-09-4.980117e-                    09j</td>\n",
       "      <td>-3.682720e-09+4.980117e-                    09j</td>\n",
       "      <td>4.918577e-08</td>\n",
       "      <td>-4.600748e-07</td>\n",
       "      <td>[24, 17]</td>\n",
       "      <td>[24, 17]</td>\n",
       "    </tr>\n",
       "  </tbody>\n",
       "</table>\n",
       "</div>"
      ],
      "text/plain": [
       "          Noise       Abs_Sum                                        Sum_Left  \\\n",
       "0  1.000000e-08  2.402863e-17 -2.007690e-09-4.471891e-                    09j   \n",
       "1  1.000000e-08  7.511138e-18 -1.746644e-09-2.111960e-                    09j   \n",
       "2  1.000000e-08  1.760893e-17 -2.382621e-09-3.454279e-                    09j   \n",
       "3  1.000000e-08  1.062461e-17 -1.647674e-09-2.812432e-                    09j   \n",
       "4  1.000000e-08  3.836400e-17 -3.682720e-09-4.980117e-                    09j   \n",
       "\n",
       "                                        Sum_Right       alpha_1       alpha_2  \\\n",
       "0 -2.007690e-09+4.471891e-                    09j -3.206323e-07 -2.126820e-07   \n",
       "1 -1.746644e-09+2.111960e-                    09j  7.275484e-08 -2.236277e-07   \n",
       "2 -2.382621e-09+3.454279e-                    09j -1.412867e-08 -2.926187e-07   \n",
       "3 -1.647674e-09+2.812432e-                    09j -9.354687e-08 -1.931560e-07   \n",
       "4 -3.682720e-09+4.980117e-                    09j  4.918577e-08 -4.600748e-07   \n",
       "\n",
       "          k  k_square  \n",
       "0  [24, 17]  [24, 17]  \n",
       "1  [24, 17]  [24, 17]  \n",
       "2  [24, 17]  [24, 17]  \n",
       "3  [24, 17]  [24, 17]  \n",
       "4  [24, 17]  [24, 17]  "
      ]
     },
     "execution_count": 10,
     "metadata": {},
     "output_type": "execute_result"
    }
   ],
   "source": [
    "total_sum_df['k_square'] = total_sum_df['k'].apply(lambda x: np.sqrt(x[0]**2 + x[1]**2))\n",
    "total_sum_df['k_square'] = total_sum_df['k']\n",
    "total_sum_df.head()"
   ]
  },
  {
   "cell_type": "code",
   "execution_count": 15,
   "metadata": {},
   "outputs": [
    {
     "data": {
      "image/png": "[encoded data removed]",
      "text/plain": [
       "<Figure size 640x480 with 1 Axes>"
      ]
     },
     "metadata": {},
     "output_type": "display_data"
    }
   ],
   "source": [
    "grouped = total_sum_df.groupby('Noise').mean().reset_index()\n",
    "# grouped = grouped[grouped['Noise'] < 1]\n",
    "\n",
    "plt.plot(grouped['Noise'], grouped['Abs_Sum'], label='Abs_Sum')\n",
    "plt.xscale('log')\n",
    "plt.yscale('log')\n",
    "plt.xlabel('Noise')\n",
    "plt.ylabel('Abs_Sum')\n",
    "plt.title('Abs_Sum vs Noise')\n",
    "\n",
    "X = np.log(grouped['Noise']).values.reshape(-1, 1)\n",
    "y = np.log(grouped['Abs_Sum']).values\n",
    "reg = LinearRegression().fit(X, y)\n",
    "new_slope = 2\n",
    "new_intercept = reg.intercept_\n",
    "new_intercept = np.exp(new_intercept)\n",
    "plt.plot(grouped['Noise'], new_intercept * grouped['Noise']**new_slope, label='top bound', color='red', linestyle='--')\n",
    "\n",
    "new_intercept2 = reg.intercept_ - np.log(2.45 * 1024)\n",
    "\n",
    "new_intercept2 = np.exp(new_intercept2)\n",
    "plt.plot(grouped['Noise'], new_intercept2 * grouped['Noise']**new_slope, label='bottom bound', color='green', linestyle='--')\n",
    "\n",
    "# new_intercept2 = reg.intercept_ - 8\n",
    "# new_intercept2 = np.exp(new_intercept2)\n",
    "# plt.plot(grouped['Noise'], new_intercept2 * grouped['Noise']**new_slope, label='bottom bound', color='green', linestyle='--')\n",
    "\n",
    "plt.legend()\n",
    "plt.show()"
   ]
  },
  {
   "cell_type": "code",
   "execution_count": null,
   "metadata": {},
   "outputs": [],
   "source": []
  },
  {
   "cell_type": "markdown",
   "metadata": {},
   "source": [
    "Seems like cancelling out the effects of different images really does smooth up the plot, this makes a little more sense than the previous plots where images were randomly sampled for each experiment."
   ]
  },
  {
   "cell_type": "markdown",
   "metadata": {},
   "source": [
    "## Changing K, Changing images"
   ]
  },
  {
   "cell_type": "code",
   "execution_count": 12,
   "metadata": {},
   "outputs": [
    {
     "name": "stderr",
     "output_type": "stream",
     "text": [
      "  0%|          | 0/100 [00:00<?, ?it/s]C:\\Users\\eriki\\AppData\\Local\\Temp\\ipykernel_23984\\763966950.py:43: FutureWarning: The behavior of DataFrame concatenation with empty or all-NA entries is deprecated. In a future version, this will no longer exclude empty or all-NA columns when determining the result dtypes. To retain the old behavior, exclude the relevant entries before the concat operation.\n",
      "  total_sum_df = total_sum_df._append({\n",
      "100%|██████████| 100/100 [07:56<00:00,  4.76s/it]\n"
     ]
    }
   ],
   "source": [
    "num_exp = 400\n",
    "noise_values = np.logspace(start = -8, stop = 2, num = 100)\n",
    "summands_lists = [] * len(noise_values)\n",
    "summands_means = np.zeros(len(noise_values))\n",
    "B_xs = np.zeros((resolution, resolution, len(noise_values)))\n",
    "\n",
    "total_sum_df = pd.DataFrame(columns=['Noise', 'Abs_Sum'])\n",
    "# k = np.random.randint(1, resolution + 1, size=2)\n",
    "\n",
    "for noise in tqdm(noise_values):\n",
    "    for i in range(num_exp):\n",
    "        # Randomly select image indexes and category indexes\n",
    "        image_indexes = np.random.randint(0, 10, 2)\n",
    "        category_indexes = np.random.randint(0, 10, 2)\n",
    "        \n",
    "        # Create image instances\n",
    "        image1 = Image(resolution, category_names[category_indexes[0]], image_numbers[image_indexes[0]], full_path)\n",
    "        image2 = Image(resolution, category_names[category_indexes[1]], image_numbers[image_indexes[1]], full_path)\n",
    "        \n",
    "        # Process images\n",
    "        results = Image.process_images(image1, image2, noise)\n",
    "        alpha_1 = (1 / image1.image_post_noised.sum()) - 1\n",
    "        alpha_2 = (1 / image2.image_post_noised.sum()) - 1\n",
    "\n",
    "        sum_left = 0\n",
    "        sum_right = 0\n",
    "        k = np.random.randint(1, resolution + 1, size=2)\n",
    "        \n",
    "        # Calculate sum_left and sum_right according to line 44\n",
    "        for x in range(resolution):\n",
    "            for y in range(resolution):\n",
    "                B_x = image1.image_post_noised[x, y] * alpha_1 - image2.image_post_noised[x, y] * alpha_2\n",
    "                location = np.array([x, y])\n",
    "                exponent = np.exp(-1j * np.dot(location, k))\n",
    "                sum_left += exponent * B_x\n",
    "                exponent = np.exp(1j * np.dot(location, k))\n",
    "                sum_right += exponent * B_x\n",
    "        \n",
    "        # Compute absolute sum\n",
    "        abs_sum = abs(sum_left * sum_right)\n",
    "        \n",
    "        # Append results to DataFrame\n",
    "        total_sum_df = total_sum_df._append({\n",
    "            'Noise': noise,\n",
    "            'Sum_Left': sum_left,\n",
    "            'Sum_Right': sum_right,\n",
    "            'alpha_1': alpha_1,\n",
    "            'alpha_2': alpha_2,\n",
    "            'k': k,\n",
    "            'Abs_Sum': abs_sum\n",
    "        }, ignore_index=True)"
   ]
  },
  {
   "cell_type": "code",
   "execution_count": 13,
   "metadata": {},
   "outputs": [
    {
     "data": {
      "text/html": [
       "<div>\n",
       "<style scoped>\n",
       "    .dataframe tbody tr th:only-of-type {\n",
       "        vertical-align: middle;\n",
       "    }\n",
       "\n",
       "    .dataframe tbody tr th {\n",
       "        vertical-align: top;\n",
       "    }\n",
       "\n",
       "    .dataframe thead th {\n",
       "        text-align: right;\n",
       "    }\n",
       "</style>\n",
       "<table border=\"1\" class=\"dataframe\">\n",
       "  <thead>\n",
       "    <tr style=\"text-align: right;\">\n",
       "      <th></th>\n",
       "      <th>Noise</th>\n",
       "      <th>Abs_Sum</th>\n",
       "      <th>Sum_Left</th>\n",
       "      <th>Sum_Right</th>\n",
       "      <th>alpha_1</th>\n",
       "      <th>alpha_2</th>\n",
       "      <th>k</th>\n",
       "      <th>k_square</th>\n",
       "    </tr>\n",
       "  </thead>\n",
       "  <tbody>\n",
       "    <tr>\n",
       "      <th>0</th>\n",
       "      <td>1.000000e-08</td>\n",
       "      <td>3.296273e-18</td>\n",
       "      <td>1.322342e-09-1.244060e-                    09j</td>\n",
       "      <td>1.322342e-09+1.244060e-                    09j</td>\n",
       "      <td>1.254542e-08</td>\n",
       "      <td>2.322254e-07</td>\n",
       "      <td>[8, 10]</td>\n",
       "      <td>12.806248</td>\n",
       "    </tr>\n",
       "    <tr>\n",
       "      <th>1</th>\n",
       "      <td>1.000000e-08</td>\n",
       "      <td>6.445339e-16</td>\n",
       "      <td>-2.538767e-08-1.772933e-                    11j</td>\n",
       "      <td>-2.538767e-08+1.772933e-                    11j</td>\n",
       "      <td>-2.503294e-06</td>\n",
       "      <td>-1.898700e-06</td>\n",
       "      <td>[16, 14]</td>\n",
       "      <td>21.260292</td>\n",
       "    </tr>\n",
       "    <tr>\n",
       "      <th>2</th>\n",
       "      <td>1.000000e-08</td>\n",
       "      <td>9.530155e-18</td>\n",
       "      <td>2.769218e-09-1.364399e-                    09j</td>\n",
       "      <td>2.769218e-09+1.364399e-                    09j</td>\n",
       "      <td>4.803814e-07</td>\n",
       "      <td>-3.439062e-07</td>\n",
       "      <td>[29, 4]</td>\n",
       "      <td>29.274562</td>\n",
       "    </tr>\n",
       "    <tr>\n",
       "      <th>3</th>\n",
       "      <td>1.000000e-08</td>\n",
       "      <td>3.665326e-17</td>\n",
       "      <td>-2.898977e-09+5.314997e-                    09j</td>\n",
       "      <td>-2.898977e-09-5.314997e-                    09j</td>\n",
       "      <td>3.353727e-07</td>\n",
       "      <td>-3.234711e-07</td>\n",
       "      <td>[4, 10]</td>\n",
       "      <td>10.770330</td>\n",
       "    </tr>\n",
       "    <tr>\n",
       "      <th>4</th>\n",
       "      <td>1.000000e-08</td>\n",
       "      <td>9.068327e-17</td>\n",
       "      <td>9.275868e-09-2.154422e-                    09j</td>\n",
       "      <td>9.275868e-09+2.154422e-                    09j</td>\n",
       "      <td>-4.491453e-07</td>\n",
       "      <td>-3.104651e-07</td>\n",
       "      <td>[30, 25]</td>\n",
       "      <td>39.051248</td>\n",
       "    </tr>\n",
       "  </tbody>\n",
       "</table>\n",
       "</div>"
      ],
      "text/plain": [
       "          Noise       Abs_Sum                                        Sum_Left  \\\n",
       "0  1.000000e-08  3.296273e-18  1.322342e-09-1.244060e-                    09j   \n",
       "1  1.000000e-08  6.445339e-16 -2.538767e-08-1.772933e-                    11j   \n",
       "2  1.000000e-08  9.530155e-18  2.769218e-09-1.364399e-                    09j   \n",
       "3  1.000000e-08  3.665326e-17 -2.898977e-09+5.314997e-                    09j   \n",
       "4  1.000000e-08  9.068327e-17  9.275868e-09-2.154422e-                    09j   \n",
       "\n",
       "                                        Sum_Right       alpha_1       alpha_2  \\\n",
       "0  1.322342e-09+1.244060e-                    09j  1.254542e-08  2.322254e-07   \n",
       "1 -2.538767e-08+1.772933e-                    11j -2.503294e-06 -1.898700e-06   \n",
       "2  2.769218e-09+1.364399e-                    09j  4.803814e-07 -3.439062e-07   \n",
       "3 -2.898977e-09-5.314997e-                    09j  3.353727e-07 -3.234711e-07   \n",
       "4  9.275868e-09+2.154422e-                    09j -4.491453e-07 -3.104651e-07   \n",
       "\n",
       "          k   k_square  \n",
       "0   [8, 10]  12.806248  \n",
       "1  [16, 14]  21.260292  \n",
       "2   [29, 4]  29.274562  \n",
       "3   [4, 10]  10.770330  \n",
       "4  [30, 25]  39.051248  "
      ]
     },
     "execution_count": 13,
     "metadata": {},
     "output_type": "execute_result"
    }
   ],
   "source": [
    "total_sum_df['k_square'] = total_sum_df['k'].apply(lambda x: np.sqrt(x[0]**2 + x[1]**2))\n",
    "total_sum_df.head()"
   ]
  },
  {
   "cell_type": "code",
   "execution_count": 22,
   "metadata": {},
   "outputs": [
    {
     "data": {
      "image/png": "[encoded data removed]",
      "text/plain": [
       "<Figure size 640x480 with 1 Axes>"
      ]
     },
     "metadata": {},
     "output_type": "display_data"
    }
   ],
   "source": [
    "grouped = total_sum_df.groupby('Noise').mean().reset_index()\n",
    "\n",
    "plt.plot(grouped['Noise'], grouped['Abs_Sum'], label='Abs_Sum')\n",
    "plt.xscale('log')\n",
    "plt.yscale('log')\n",
    "plt.xlabel('Noise')\n",
    "plt.ylabel('Abs_Sum')\n",
    "plt.title('Abs_Sum vs Noise')\n",
    "\n",
    "# Draw a linear line to approximate the curve\n",
    "X = np.log(grouped['Noise']).values.reshape(-1, 1)\n",
    "y = np.log(grouped['Abs_Sum']).values\n",
    "reg = LinearRegression().fit(X, y)\n",
    "predictions = np.exp(reg.predict(X))\n",
    "plt.plot(grouped['Noise'], predictions, label='Linear Regression')\n",
    "\n",
    "#Also add an upper bound\n",
    "upper_bound_intercept = reg.intercept_ + 2.5\n",
    "upper_bound_predictions = np.exp(reg.coef_ * X.flatten() + upper_bound_intercept)\n",
    "\n",
    "plt.plot(grouped['Noise'], upper_bound_predictions, 'r--', label='Upper Bound')\n",
    "\n",
    "\n",
    "plt.legend()\n",
    "\n",
    "\n",
    "plt.show()"
   ]
  },
  {
   "cell_type": "code",
   "execution_count": 23,
   "metadata": {},
   "outputs": [
    {
     "name": "stdout",
     "output_type": "stream",
     "text": [
      "Coefficients:  [2.29424145]\n",
      "Intercept:  7.312778277858648\n",
      "Upper Bound Intercept:  9.812778277858648\n"
     ]
    }
   ],
   "source": [
    "# Print the coefficients\n",
    "print('Coefficients: ', reg.coef_)\n",
    "print('Intercept: ', reg.intercept_)\n",
    "print('Upper Bound Intercept: ', upper_bound_intercept)"
   ]
  },
  {
   "cell_type": "code",
   "execution_count": null,
   "metadata": {},
   "outputs": [],
   "source": []
  }
 ],
 "metadata": {
  "kernelspec": {
   "display_name": "venv",
   "language": "python",
   "name": "python3"
  },
  "language_info": {
   "codemirror_mode": {
    "name": "ipython",
    "version": 3
   },
   "file_extension": ".py",
   "mimetype": "text/x-python",
   "name": "python",
   "nbconvert_exporter": "python",
   "pygments_lexer": "ipython3",
   "version": "3.11.4"
  }
 },
 "nbformat": 4,
 "nbformat_minor": 2
}
