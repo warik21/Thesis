{
 "cells": [
  {
   "cell_type": "markdown",
   "metadata": {},
   "source": [
    "# E [$B_x \\cdot B_y] $"
   ]
  },
  {
   "cell_type": "code",
   "execution_count": 1,
   "metadata": {},
   "outputs": [],
   "source": [
    "import numpy as np\n",
    "import matplotlib.pyplot as plt\n",
    "import os\n",
    "import pandas as pd\n",
    "import ot\n",
    "from utils.image import Image\n",
    "from utils.Visualizations import *\n",
    "from utils.utils import *\n",
    "import itertools\n",
    "import glob\n",
    "from scipy.stats import normaltest, gaussian_kde, probplot\n",
    "from scipy.optimize import curve_fit\n",
    "import time\n",
    "from tqdm import tqdm"
   ]
  },
  {
   "cell_type": "code",
   "execution_count": 2,
   "metadata": {},
   "outputs": [],
   "source": [
    "dotmark_pictures_path = \"..\\\\DOTmark_1.0\\\\Pictures\\\\\"\n",
    "full_path = os.path.join(os.getcwd(), dotmark_pictures_path)\n",
    "resolution = 32\n",
    "image_numbers = ['01','02','03','04','05','06','07','08','09','10']\n",
    "noise_values = np.logspace(start = -8, stop = 2, num = 100)\n",
    "categories_pattern = os.path.join(dotmark_pictures_path, \"*\")\n",
    "category_dirs = [path for path in glob.glob(categories_pattern) if os.path.isdir(path)]\n",
    "category_names = [os.path.basename(category) for category in category_dirs if os.path.isdir(category)]"
   ]
  },
  {
   "cell_type": "markdown",
   "metadata": {},
   "source": [
    "## Constant K"
   ]
  },
  {
   "cell_type": "code",
   "execution_count": 31,
   "metadata": {},
   "outputs": [
    {
     "name": "stderr",
     "output_type": "stream",
     "text": [
      "  0%|          | 0/100 [00:00<?, ?it/s]C:\\Users\\eriki\\AppData\\Local\\Temp\\ipykernel_8136\\2674068795.py:43: FutureWarning: The behavior of DataFrame concatenation with empty or all-NA entries is deprecated. In a future version, this will no longer exclude empty or all-NA columns when determining the result dtypes. To retain the old behavior, exclude the relevant entries before the concat operation.\n",
      "  total_sum_df = total_sum_df._append({\n",
      "100%|██████████| 100/100 [01:32<00:00,  1.08it/s]\n"
     ]
    }
   ],
   "source": [
    "num_exp = 100\n",
    "noise_values = np.logspace(start = -8, stop = 2, num = 100)\n",
    "summands_lists = [] * len(noise_values)\n",
    "summands_means = np.zeros(len(noise_values))\n",
    "B_xs = np.zeros((resolution, resolution, len(noise_values)))\n",
    "\n",
    "total_sum_df = pd.DataFrame(columns=['Noise', 'Abs_Sum'])\n",
    "k = np.random.randint(1, resolution + 1, size=2)\n",
    "\n",
    "for noise in tqdm(noise_values):\n",
    "    for i in range(num_exp):\n",
    "        # Randomly select image indexes and category indexes\n",
    "        image_indexes = np.random.randint(0, 10, 2)\n",
    "        category_indexes = np.random.randint(0, 10, 2)\n",
    "        \n",
    "        # Create image instances\n",
    "        image1 = Image(resolution, category_names[category_indexes[0]], image_numbers[image_indexes[0]], full_path)\n",
    "        image2 = Image(resolution, category_names[category_indexes[1]], image_numbers[image_indexes[1]], full_path)\n",
    "        \n",
    "        # Process images\n",
    "        results = Image.process_images(image1, image2, noise)\n",
    "        alpha_1 = (1 / image1.image_post_noised.sum()) - 1\n",
    "        alpha_2 = (1 / image2.image_post_noised.sum()) - 1\n",
    "\n",
    "        sum_left = 0\n",
    "        sum_right = 0\n",
    "        # k = np.random.randint(1, resolution + 1, size=2)\n",
    "        \n",
    "        # Calculate sum_left and sum_right according to line 44\n",
    "        for x in range(resolution):\n",
    "            for y in range(resolution):\n",
    "                B_x = image1.image_post_noised[x, y] * alpha_1 - image2.image_post_noised[x, y] * alpha_2\n",
    "                location = np.array([x, y])\n",
    "                exponent = np.exp(-1j * np.dot(location, k))\n",
    "                sum_left += exponent * B_x\n",
    "                exponent = np.exp(1j * np.dot(location, k))\n",
    "                sum_right += exponent * B_x\n",
    "        \n",
    "        # Compute absolute sum\n",
    "        abs_sum = abs(sum_left * sum_right)\n",
    "        \n",
    "        # Append results to DataFrame\n",
    "        total_sum_df = total_sum_df._append({\n",
    "            'Noise': noise,\n",
    "            'Sum_Left': sum_left,\n",
    "            'Sum_Right': sum_right,\n",
    "            'alpha_1': alpha_1,\n",
    "            'alpha_2': alpha_2,\n",
    "            'k': k,\n",
    "            'Abs_Sum': abs_sum\n",
    "        }, ignore_index=True)"
   ]
  },
  {
   "cell_type": "code",
   "execution_count": 4,
   "metadata": {},
   "outputs": [],
   "source": [
    "# total_sum_df.to_csv('total_sum_df.csv', index=False)"
   ]
  },
  {
   "cell_type": "code",
   "execution_count": 32,
   "metadata": {},
   "outputs": [
    {
     "data": {
      "text/html": [
       "<div>\n",
       "<style scoped>\n",
       "    .dataframe tbody tr th:only-of-type {\n",
       "        vertical-align: middle;\n",
       "    }\n",
       "\n",
       "    .dataframe tbody tr th {\n",
       "        vertical-align: top;\n",
       "    }\n",
       "\n",
       "    .dataframe thead th {\n",
       "        text-align: right;\n",
       "    }\n",
       "</style>\n",
       "<table border=\"1\" class=\"dataframe\">\n",
       "  <thead>\n",
       "    <tr style=\"text-align: right;\">\n",
       "      <th></th>\n",
       "      <th>Noise</th>\n",
       "      <th>Abs_Sum</th>\n",
       "      <th>Sum_Left</th>\n",
       "      <th>Sum_Right</th>\n",
       "      <th>alpha_1</th>\n",
       "      <th>alpha_2</th>\n",
       "      <th>k</th>\n",
       "      <th>k_square</th>\n",
       "    </tr>\n",
       "  </thead>\n",
       "  <tbody>\n",
       "    <tr>\n",
       "      <th>0</th>\n",
       "      <td>1.000000e-08</td>\n",
       "      <td>3.329513e-17</td>\n",
       "      <td>5.044853e-09-2.800819e-                    09j</td>\n",
       "      <td>5.044853e-09+2.800819e-                    09j</td>\n",
       "      <td>4.724756e-07</td>\n",
       "      <td>-4.326997e-07</td>\n",
       "      <td>[3, 26]</td>\n",
       "      <td>26.172505</td>\n",
       "    </tr>\n",
       "    <tr>\n",
       "      <th>1</th>\n",
       "      <td>1.000000e-08</td>\n",
       "      <td>1.395321e-15</td>\n",
       "      <td>-3.702796e-08+4.924571e-                    09j</td>\n",
       "      <td>-3.702796e-08-4.924571e-                    09j</td>\n",
       "      <td>-1.854284e-06</td>\n",
       "      <td>-1.775805e-06</td>\n",
       "      <td>[3, 26]</td>\n",
       "      <td>26.172505</td>\n",
       "    </tr>\n",
       "    <tr>\n",
       "      <th>2</th>\n",
       "      <td>1.000000e-08</td>\n",
       "      <td>1.261538e-20</td>\n",
       "      <td>-1.848220e-11+1.107871e-                    10j</td>\n",
       "      <td>-1.848220e-11-1.107871e-                    10j</td>\n",
       "      <td>-2.597845e-09</td>\n",
       "      <td>2.901812e-08</td>\n",
       "      <td>[3, 26]</td>\n",
       "      <td>26.172505</td>\n",
       "    </tr>\n",
       "    <tr>\n",
       "      <th>3</th>\n",
       "      <td>1.000000e-08</td>\n",
       "      <td>4.518829e-19</td>\n",
       "      <td>-6.669457e-10+8.406163e-                    11j</td>\n",
       "      <td>-6.669457e-10-8.406163e-                    11j</td>\n",
       "      <td>-1.938025e-07</td>\n",
       "      <td>-9.898096e-09</td>\n",
       "      <td>[3, 26]</td>\n",
       "      <td>26.172505</td>\n",
       "    </tr>\n",
       "    <tr>\n",
       "      <th>4</th>\n",
       "      <td>1.000000e-08</td>\n",
       "      <td>5.842365e-17</td>\n",
       "      <td>6.218179e-09+4.444986e-                    09j</td>\n",
       "      <td>6.218179e-09-4.444986e-                    09j</td>\n",
       "      <td>-1.861679e-06</td>\n",
       "      <td>-2.173415e-06</td>\n",
       "      <td>[3, 26]</td>\n",
       "      <td>26.172505</td>\n",
       "    </tr>\n",
       "  </tbody>\n",
       "</table>\n",
       "</div>"
      ],
      "text/plain": [
       "          Noise       Abs_Sum                                        Sum_Left  \\\n",
       "0  1.000000e-08  3.329513e-17  5.044853e-09-2.800819e-                    09j   \n",
       "1  1.000000e-08  1.395321e-15 -3.702796e-08+4.924571e-                    09j   \n",
       "2  1.000000e-08  1.261538e-20 -1.848220e-11+1.107871e-                    10j   \n",
       "3  1.000000e-08  4.518829e-19 -6.669457e-10+8.406163e-                    11j   \n",
       "4  1.000000e-08  5.842365e-17  6.218179e-09+4.444986e-                    09j   \n",
       "\n",
       "                                        Sum_Right       alpha_1       alpha_2  \\\n",
       "0  5.044853e-09+2.800819e-                    09j  4.724756e-07 -4.326997e-07   \n",
       "1 -3.702796e-08-4.924571e-                    09j -1.854284e-06 -1.775805e-06   \n",
       "2 -1.848220e-11-1.107871e-                    10j -2.597845e-09  2.901812e-08   \n",
       "3 -6.669457e-10-8.406163e-                    11j -1.938025e-07 -9.898096e-09   \n",
       "4  6.218179e-09-4.444986e-                    09j -1.861679e-06 -2.173415e-06   \n",
       "\n",
       "         k   k_square  \n",
       "0  [3, 26]  26.172505  \n",
       "1  [3, 26]  26.172505  \n",
       "2  [3, 26]  26.172505  \n",
       "3  [3, 26]  26.172505  \n",
       "4  [3, 26]  26.172505  "
      ]
     },
     "execution_count": 32,
     "metadata": {},
     "output_type": "execute_result"
    }
   ],
   "source": [
    "total_sum_df['k_square'] = total_sum_df['k'].apply(lambda x: np.sqrt(x[0]**2 + x[1]**2))\n",
    "# total_sum_df['k_square'] = total_sum_df['k']\n",
    "total_sum_df.head()"
   ]
  },
  {
   "cell_type": "code",
   "execution_count": 35,
   "metadata": {},
   "outputs": [
    {
     "data": {
      "image/png": "[encoded data removed]",
      "text/plain": [
       "<Figure size 640x480 with 1 Axes>"
      ]
     },
     "metadata": {},
     "output_type": "display_data"
    }
   ],
   "source": [
    "grouped = total_sum_df.groupby('Noise').mean().reset_index()\n",
    "# grouped = grouped[grouped['Noise'] < 1]\n",
    "\n",
    "plt.plot(grouped['Noise'], grouped['Abs_Sum'])\n",
    "plt.xscale('log')\n",
    "plt.yscale('log')\n",
    "plt.xlabel('Noise')\n",
    "plt.ylabel('Abs_Sum')\n",
    "plt.title('Abs_Sum vs Noise')\n",
    "plt.show()"
   ]
  },
  {
   "cell_type": "code",
   "execution_count": 36,
   "metadata": {},
   "outputs": [
    {
     "data": {
      "image/png": "[encoded data removed]",
      "text/plain": [
       "<Figure size 640x480 with 1 Axes>"
      ]
     },
     "metadata": {},
     "output_type": "display_data"
    }
   ],
   "source": [
    "# Plot as a function of k:\n",
    "noise_index = 70\n",
    "grouped_k = total_sum_df[total_sum_df['Noise'] == noise_values[noise_index]]\n",
    "\n",
    "plt.plot(grouped_k['k_square'], grouped_k['Abs_Sum'])\n",
    "plt.xlabel('k')\n",
    "plt.ylabel('Abs_Sum')\n",
    "plt.title('Abs_Sum vs k')\n",
    "plt.show()"
   ]
  },
  {
   "cell_type": "code",
   "execution_count": null,
   "metadata": {},
   "outputs": [
    {
     "data": {
      "text/plain": [
       "45.254833995939045"
      ]
     },
     "execution_count": 28,
     "metadata": {},
     "output_type": "execute_result"
    }
   ],
   "source": [
    "grouped_k['k'].max()"
   ]
  },
  {
   "cell_type": "markdown",
   "metadata": {},
   "source": [
    "## Changing K"
   ]
  },
  {
   "cell_type": "code",
   "execution_count": 37,
   "metadata": {},
   "outputs": [
    {
     "name": "stderr",
     "output_type": "stream",
     "text": [
      "  0%|          | 0/100 [00:00<?, ?it/s]C:\\Users\\eriki\\AppData\\Local\\Temp\\ipykernel_8136\\242184640.py:43: FutureWarning: The behavior of DataFrame concatenation with empty or all-NA entries is deprecated. In a future version, this will no longer exclude empty or all-NA columns when determining the result dtypes. To retain the old behavior, exclude the relevant entries before the concat operation.\n",
      "  total_sum_df = total_sum_df._append({\n",
      "100%|██████████| 100/100 [01:50<00:00,  1.10s/it]\n"
     ]
    }
   ],
   "source": [
    "num_exp = 100\n",
    "noise_values = np.logspace(start = -8, stop = 2, num = 100)\n",
    "summands_lists = [] * len(noise_values)\n",
    "summands_means = np.zeros(len(noise_values))\n",
    "B_xs = np.zeros((resolution, resolution, len(noise_values)))\n",
    "\n",
    "total_sum_df = pd.DataFrame(columns=['Noise', 'Abs_Sum'])\n",
    "# k = np.random.randint(1, resolution + 1, size=2)\n",
    "\n",
    "for noise in tqdm(noise_values):\n",
    "    for i in range(num_exp):\n",
    "        # Randomly select image indexes and category indexes\n",
    "        image_indexes = np.random.randint(0, 10, 2)\n",
    "        category_indexes = np.random.randint(0, 10, 2)\n",
    "        \n",
    "        # Create image instances\n",
    "        image1 = Image(resolution, category_names[category_indexes[0]], image_numbers[image_indexes[0]], full_path)\n",
    "        image2 = Image(resolution, category_names[category_indexes[1]], image_numbers[image_indexes[1]], full_path)\n",
    "        \n",
    "        # Process images\n",
    "        results = Image.process_images(image1, image2, noise)\n",
    "        alpha_1 = (1 / image1.image_post_noised.sum()) - 1\n",
    "        alpha_2 = (1 / image2.image_post_noised.sum()) - 1\n",
    "\n",
    "        sum_left = 0\n",
    "        sum_right = 0\n",
    "        k = np.random.randint(1, resolution + 1, size=2)\n",
    "        \n",
    "        # Calculate sum_left and sum_right according to line 44\n",
    "        for x in range(resolution):\n",
    "            for y in range(resolution):\n",
    "                B_x = image1.image_post_noised[x, y] * alpha_1 - image2.image_post_noised[x, y] * alpha_2\n",
    "                location = np.array([x, y])\n",
    "                exponent = np.exp(-1j * np.dot(location, k))\n",
    "                sum_left += exponent * B_x\n",
    "                exponent = np.exp(1j * np.dot(location, k))\n",
    "                sum_right += exponent * B_x\n",
    "        \n",
    "        # Compute absolute sum\n",
    "        abs_sum = abs(sum_left * sum_right)\n",
    "        \n",
    "        # Append results to DataFrame\n",
    "        total_sum_df = total_sum_df._append({\n",
    "            'Noise': noise,\n",
    "            'Sum_Left': sum_left,\n",
    "            'Sum_Right': sum_right,\n",
    "            'alpha_1': alpha_1,\n",
    "            'alpha_2': alpha_2,\n",
    "            'k': k,\n",
    "            'Abs_Sum': abs_sum\n",
    "        }, ignore_index=True)"
   ]
  },
  {
   "cell_type": "code",
   "execution_count": 38,
   "metadata": {},
   "outputs": [
    {
     "data": {
      "text/html": [
       "<div>\n",
       "<style scoped>\n",
       "    .dataframe tbody tr th:only-of-type {\n",
       "        vertical-align: middle;\n",
       "    }\n",
       "\n",
       "    .dataframe tbody tr th {\n",
       "        vertical-align: top;\n",
       "    }\n",
       "\n",
       "    .dataframe thead th {\n",
       "        text-align: right;\n",
       "    }\n",
       "</style>\n",
       "<table border=\"1\" class=\"dataframe\">\n",
       "  <thead>\n",
       "    <tr style=\"text-align: right;\">\n",
       "      <th></th>\n",
       "      <th>Noise</th>\n",
       "      <th>Abs_Sum</th>\n",
       "      <th>Sum_Left</th>\n",
       "      <th>Sum_Right</th>\n",
       "      <th>alpha_1</th>\n",
       "      <th>alpha_2</th>\n",
       "      <th>k</th>\n",
       "      <th>k_square</th>\n",
       "    </tr>\n",
       "  </thead>\n",
       "  <tbody>\n",
       "    <tr>\n",
       "      <th>0</th>\n",
       "      <td>1.000000e-08</td>\n",
       "      <td>1.474897e-19</td>\n",
       "      <td>-3.164385e-10+2.176151e-                    10j</td>\n",
       "      <td>-3.164385e-10-2.176151e-                    10j</td>\n",
       "      <td>-1.687475e-07</td>\n",
       "      <td>-1.877202e-07</td>\n",
       "      <td>[3, 29]</td>\n",
       "      <td>29.154759</td>\n",
       "    </tr>\n",
       "    <tr>\n",
       "      <th>1</th>\n",
       "      <td>1.000000e-08</td>\n",
       "      <td>5.098196e-17</td>\n",
       "      <td>6.967123e-09-1.562422e-                    09j</td>\n",
       "      <td>6.967123e-09+1.562422e-                    09j</td>\n",
       "      <td>9.748942e-08</td>\n",
       "      <td>3.593434e-07</td>\n",
       "      <td>[3, 28]</td>\n",
       "      <td>28.160256</td>\n",
       "    </tr>\n",
       "    <tr>\n",
       "      <th>2</th>\n",
       "      <td>1.000000e-08</td>\n",
       "      <td>1.226540e-20</td>\n",
       "      <td>-1.107090e-10-2.985826e-                    12j</td>\n",
       "      <td>-1.107090e-10+2.985826e-                    12j</td>\n",
       "      <td>-1.846371e-07</td>\n",
       "      <td>-9.945936e-08</td>\n",
       "      <td>[32, 16]</td>\n",
       "      <td>35.777088</td>\n",
       "    </tr>\n",
       "    <tr>\n",
       "      <th>3</th>\n",
       "      <td>1.000000e-08</td>\n",
       "      <td>9.502791e-17</td>\n",
       "      <td>-5.658119e-09+7.938110e-                    09j</td>\n",
       "      <td>-5.658119e-09-7.938110e-                    09j</td>\n",
       "      <td>-5.275577e-07</td>\n",
       "      <td>3.427277e-07</td>\n",
       "      <td>[15, 27]</td>\n",
       "      <td>30.886890</td>\n",
       "    </tr>\n",
       "    <tr>\n",
       "      <th>4</th>\n",
       "      <td>1.000000e-08</td>\n",
       "      <td>1.380973e-18</td>\n",
       "      <td>9.556419e-10-6.839018e-                    10j</td>\n",
       "      <td>9.556419e-10+6.839018e-                    10j</td>\n",
       "      <td>-8.962019e-08</td>\n",
       "      <td>9.981033e-08</td>\n",
       "      <td>[4, 6]</td>\n",
       "      <td>7.211103</td>\n",
       "    </tr>\n",
       "  </tbody>\n",
       "</table>\n",
       "</div>"
      ],
      "text/plain": [
       "          Noise       Abs_Sum                                        Sum_Left  \\\n",
       "0  1.000000e-08  1.474897e-19 -3.164385e-10+2.176151e-                    10j   \n",
       "1  1.000000e-08  5.098196e-17  6.967123e-09-1.562422e-                    09j   \n",
       "2  1.000000e-08  1.226540e-20 -1.107090e-10-2.985826e-                    12j   \n",
       "3  1.000000e-08  9.502791e-17 -5.658119e-09+7.938110e-                    09j   \n",
       "4  1.000000e-08  1.380973e-18  9.556419e-10-6.839018e-                    10j   \n",
       "\n",
       "                                        Sum_Right       alpha_1       alpha_2  \\\n",
       "0 -3.164385e-10-2.176151e-                    10j -1.687475e-07 -1.877202e-07   \n",
       "1  6.967123e-09+1.562422e-                    09j  9.748942e-08  3.593434e-07   \n",
       "2 -1.107090e-10+2.985826e-                    12j -1.846371e-07 -9.945936e-08   \n",
       "3 -5.658119e-09-7.938110e-                    09j -5.275577e-07  3.427277e-07   \n",
       "4  9.556419e-10+6.839018e-                    10j -8.962019e-08  9.981033e-08   \n",
       "\n",
       "          k   k_square  \n",
       "0   [3, 29]  29.154759  \n",
       "1   [3, 28]  28.160256  \n",
       "2  [32, 16]  35.777088  \n",
       "3  [15, 27]  30.886890  \n",
       "4    [4, 6]   7.211103  "
      ]
     },
     "execution_count": 38,
     "metadata": {},
     "output_type": "execute_result"
    }
   ],
   "source": [
    "total_sum_df['k_square'] = total_sum_df['k'].apply(lambda x: np.sqrt(x[0]**2 + x[1]**2))\n",
    "total_sum_df.head()"
   ]
  },
  {
   "cell_type": "code",
   "execution_count": 39,
   "metadata": {},
   "outputs": [
    {
     "data": {
      "image/png": "[encoded data removed]",
      "text/plain": [
       "<Figure size 640x480 with 1 Axes>"
      ]
     },
     "metadata": {},
     "output_type": "display_data"
    }
   ],
   "source": [
    "grouped = total_sum_df.groupby('Noise').mean().reset_index()\n",
    "\n",
    "plt.plot(grouped['Noise'], grouped['Abs_Sum'])\n",
    "plt.xscale('log')\n",
    "plt.yscale('log')\n",
    "plt.xlabel('Noise')\n",
    "plt.ylabel('Abs_Sum')\n",
    "plt.title('Abs_Sum vs Noise')\n",
    "plt.show()"
   ]
  },
  {
   "cell_type": "code",
   "execution_count": null,
   "metadata": {},
   "outputs": [],
   "source": []
  }
 ],
 "metadata": {
  "kernelspec": {
   "display_name": "venv",
   "language": "python",
   "name": "python3"
  },
  "language_info": {
   "codemirror_mode": {
    "name": "ipython",
    "version": 3
   },
   "file_extension": ".py",
   "mimetype": "text/x-python",
   "name": "python",
   "nbconvert_exporter": "python",
   "pygments_lexer": "ipython3",
   "version": "3.11.4"
  }
 },
 "nbformat": 4,
 "nbformat_minor": 2
}
