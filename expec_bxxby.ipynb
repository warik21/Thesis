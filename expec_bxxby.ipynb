{
 "cells": [
  {
   "cell_type": "markdown",
   "metadata": {},
   "source": [
    "# E [$B_x \\cdot B_y] $"
   ]
  },
  {
   "cell_type": "code",
   "execution_count": 1,
   "metadata": {},
   "outputs": [],
   "source": [
    "import numpy as np\n",
    "import matplotlib.pyplot as plt\n",
    "import os\n",
    "import pandas as pd\n",
    "import ot\n",
    "from utils.image import Image\n",
    "from utils.Visualizations import *\n",
    "from utils.utils import *\n",
    "import itertools\n",
    "import glob\n",
    "from scipy.stats import normaltest, gaussian_kde, probplot\n",
    "from scipy.optimize import curve_fit\n",
    "import time\n",
    "from tqdm import tqdm"
   ]
  },
  {
   "cell_type": "code",
   "execution_count": 2,
   "metadata": {},
   "outputs": [],
   "source": [
    "dotmark_pictures_path = \"..\\\\DOTmark_1.0\\\\Pictures\\\\\"\n",
    "full_path = os.path.join(os.getcwd(), dotmark_pictures_path)\n",
    "resolution = 32\n",
    "image_numbers = ['01','02','03','04','05','06','07','08','09','10']\n",
    "noise_values = np.logspace(start = -8, stop = 2, num = 100)\n",
    "categories_pattern = os.path.join(dotmark_pictures_path, \"*\")\n",
    "category_dirs = [path for path in glob.glob(categories_pattern) if os.path.isdir(path)]\n",
    "category_names = [os.path.basename(category) for category in category_dirs if os.path.isdir(category)]"
   ]
  },
  {
   "cell_type": "code",
   "execution_count": 3,
   "metadata": {},
   "outputs": [
    {
     "name": "stderr",
     "output_type": "stream",
     "text": [
      "  0%|          | 0/100 [00:00<?, ?it/s]C:\\Users\\eriki\\AppData\\Local\\Temp\\ipykernel_8136\\723335502.py:42: FutureWarning: The behavior of DataFrame concatenation with empty or all-NA entries is deprecated. In a future version, this will no longer exclude empty or all-NA columns when determining the result dtypes. To retain the old behavior, exclude the relevant entries before the concat operation.\n",
      "  total_sum_df = total_sum_df._append({\n",
      "100%|██████████| 100/100 [25:49<00:00, 15.50s/it]\n"
     ]
    }
   ],
   "source": [
    "num_exp = 1000\n",
    "noise_values = np.logspace(start = -8, stop = 2, num = 100)\n",
    "summands_lists = [] * len(noise_values)\n",
    "summands_means = np.zeros(len(noise_values))\n",
    "B_xs = np.zeros((resolution, resolution, len(noise_values)))\n",
    "\n",
    "total_sum_df = pd.DataFrame(columns=['Noise', 'Abs_Sum'])\n",
    "\n",
    "for noise in tqdm(noise_values):\n",
    "    for i in range(num_exp):\n",
    "        # Randomly select image indexes and category indexes\n",
    "        image_indexes = np.random.randint(0, 10, 2)\n",
    "        category_indexes = np.random.randint(0, 10, 2)\n",
    "        \n",
    "        # Create image instances\n",
    "        image1 = Image(resolution, category_names[category_indexes[0]], image_numbers[image_indexes[0]], full_path)\n",
    "        image2 = Image(resolution, category_names[category_indexes[1]], image_numbers[image_indexes[1]], full_path)\n",
    "        \n",
    "        # Process images\n",
    "        results = Image.process_images(image1, image2, noise)\n",
    "        alpha_1 = (1 / image1.image_post_noised.sum()) - 1\n",
    "        alpha_2 = (1 / image2.image_post_noised.sum()) - 1\n",
    "\n",
    "        sum_left = 0\n",
    "        sum_right = 0\n",
    "        k = np.random.randint(1, resolution + 1, size=2)\n",
    "        \n",
    "        # Calculate sum_left and sum_right according to line 44\n",
    "        for x in range(resolution):\n",
    "            for y in range(resolution):\n",
    "                B_x = image1.image_post_noised[x, y] * alpha_1 - image2.image_post_noised[x, y] * alpha_2\n",
    "                location = np.array([x, y])\n",
    "                exponent = np.exp(-1j * np.dot(location, k))\n",
    "                sum_left += exponent * B_x\n",
    "                exponent = np.exp(1j * np.dot(location, k))\n",
    "                sum_right += exponent * B_x\n",
    "        \n",
    "        # Compute absolute sum\n",
    "        abs_sum = abs(sum_left * sum_right)\n",
    "        \n",
    "        # Append results to DataFrame\n",
    "        total_sum_df = total_sum_df._append({\n",
    "            'Noise': noise,\n",
    "            'Sum_Left': sum_left,\n",
    "            'Sum_Right': sum_right,\n",
    "            'alpha_1': alpha_1,\n",
    "            'alpha_2': alpha_2,\n",
    "            'k': k,\n",
    "            'Abs_Sum': abs_sum\n",
    "        }, ignore_index=True)"
   ]
  },
  {
   "cell_type": "code",
   "execution_count": 4,
   "metadata": {},
   "outputs": [],
   "source": [
    "total_sum_df.to_csv('total_sum_df.csv', index=False)"
   ]
  },
  {
   "cell_type": "code",
   "execution_count": 5,
   "metadata": {},
   "outputs": [
    {
     "data": {
      "text/html": [
       "<div>\n",
       "<style scoped>\n",
       "    .dataframe tbody tr th:only-of-type {\n",
       "        vertical-align: middle;\n",
       "    }\n",
       "\n",
       "    .dataframe tbody tr th {\n",
       "        vertical-align: top;\n",
       "    }\n",
       "\n",
       "    .dataframe thead th {\n",
       "        text-align: right;\n",
       "    }\n",
       "</style>\n",
       "<table border=\"1\" class=\"dataframe\">\n",
       "  <thead>\n",
       "    <tr style=\"text-align: right;\">\n",
       "      <th></th>\n",
       "      <th>Noise</th>\n",
       "      <th>Abs_Sum</th>\n",
       "      <th>Sum_Left</th>\n",
       "      <th>Sum_Right</th>\n",
       "      <th>alpha_1</th>\n",
       "      <th>alpha_2</th>\n",
       "      <th>k</th>\n",
       "    </tr>\n",
       "  </thead>\n",
       "  <tbody>\n",
       "    <tr>\n",
       "      <th>0</th>\n",
       "      <td>1.000000e-08</td>\n",
       "      <td>1.761397e-19</td>\n",
       "      <td>-9.107141e-11-4.096898e-                    10j</td>\n",
       "      <td>-9.107141e-11+4.096898e-                    10j</td>\n",
       "      <td>-1.341620e-07</td>\n",
       "      <td>-4.706376e-08</td>\n",
       "      <td>[22, 2]</td>\n",
       "    </tr>\n",
       "    <tr>\n",
       "      <th>1</th>\n",
       "      <td>1.000000e-08</td>\n",
       "      <td>1.461202e-18</td>\n",
       "      <td>-5.685059e-10+1.066772e-                    09j</td>\n",
       "      <td>-5.685059e-10-1.066772e-                    09j</td>\n",
       "      <td>-4.308885e-07</td>\n",
       "      <td>-1.023180e-07</td>\n",
       "      <td>[15, 1]</td>\n",
       "    </tr>\n",
       "    <tr>\n",
       "      <th>2</th>\n",
       "      <td>1.000000e-08</td>\n",
       "      <td>1.263253e-16</td>\n",
       "      <td>4.919992e-09-1.010540e-                    08j</td>\n",
       "      <td>4.919992e-09+1.010540e-                    08j</td>\n",
       "      <td>4.987910e-07</td>\n",
       "      <td>-1.191764e-07</td>\n",
       "      <td>[29, 31]</td>\n",
       "    </tr>\n",
       "    <tr>\n",
       "      <th>3</th>\n",
       "      <td>1.000000e-08</td>\n",
       "      <td>5.137144e-20</td>\n",
       "      <td>-2.251377e-10-2.616176e-                    11j</td>\n",
       "      <td>-2.251377e-10+2.616176e-                    11j</td>\n",
       "      <td>-7.105791e-09</td>\n",
       "      <td>1.057837e-08</td>\n",
       "      <td>[8, 26]</td>\n",
       "    </tr>\n",
       "    <tr>\n",
       "      <th>4</th>\n",
       "      <td>1.000000e-08</td>\n",
       "      <td>5.856907e-19</td>\n",
       "      <td>6.612201e-10+3.853293e-                    10j</td>\n",
       "      <td>6.612201e-10-3.853293e-                    10j</td>\n",
       "      <td>-2.579184e-08</td>\n",
       "      <td>-4.268931e-07</td>\n",
       "      <td>[30, 3]</td>\n",
       "    </tr>\n",
       "  </tbody>\n",
       "</table>\n",
       "</div>"
      ],
      "text/plain": [
       "          Noise       Abs_Sum                                        Sum_Left  \\\n",
       "0  1.000000e-08  1.761397e-19 -9.107141e-11-4.096898e-                    10j   \n",
       "1  1.000000e-08  1.461202e-18 -5.685059e-10+1.066772e-                    09j   \n",
       "2  1.000000e-08  1.263253e-16  4.919992e-09-1.010540e-                    08j   \n",
       "3  1.000000e-08  5.137144e-20 -2.251377e-10-2.616176e-                    11j   \n",
       "4  1.000000e-08  5.856907e-19  6.612201e-10+3.853293e-                    10j   \n",
       "\n",
       "                                        Sum_Right       alpha_1       alpha_2  \\\n",
       "0 -9.107141e-11+4.096898e-                    10j -1.341620e-07 -4.706376e-08   \n",
       "1 -5.685059e-10-1.066772e-                    09j -4.308885e-07 -1.023180e-07   \n",
       "2  4.919992e-09+1.010540e-                    08j  4.987910e-07 -1.191764e-07   \n",
       "3 -2.251377e-10+2.616176e-                    11j -7.105791e-09  1.057837e-08   \n",
       "4  6.612201e-10-3.853293e-                    10j -2.579184e-08 -4.268931e-07   \n",
       "\n",
       "          k  \n",
       "0   [22, 2]  \n",
       "1   [15, 1]  \n",
       "2  [29, 31]  \n",
       "3   [8, 26]  \n",
       "4   [30, 3]  "
      ]
     },
     "execution_count": 5,
     "metadata": {},
     "output_type": "execute_result"
    }
   ],
   "source": [
    "total_sum_df.head()"
   ]
  },
  {
   "cell_type": "code",
   "execution_count": 10,
   "metadata": {},
   "outputs": [
    {
     "data": {
      "image/png": "[encoded data removed]",
      "text/plain": [
       "<Figure size 640x480 with 1 Axes>"
      ]
     },
     "metadata": {},
     "output_type": "display_data"
    }
   ],
   "source": [
    "grouped = total_sum_df.groupby('Noise').mean().reset_index()\n",
    "grouped = grouped[grouped['Noise'] < 1]\n",
    "\n",
    "plt.plot(grouped['Noise'], grouped['Abs_Sum'])\n",
    "plt.xscale('log')\n",
    "plt.yscale('log')\n",
    "plt.xlabel('Noise')\n",
    "plt.ylabel('Abs_Sum')\n",
    "plt.title('Abs_Sum vs Noise')\n",
    "plt.show()"
   ]
  },
  {
   "cell_type": "code",
   "execution_count": null,
   "metadata": {},
   "outputs": [],
   "source": []
  }
 ],
 "metadata": {
  "kernelspec": {
   "display_name": "venv",
   "language": "python",
   "name": "python3"
  },
  "language_info": {
   "codemirror_mode": {
    "name": "ipython",
    "version": 3
   },
   "file_extension": ".py",
   "mimetype": "text/x-python",
   "name": "python",
   "nbconvert_exporter": "python",
   "pygments_lexer": "ipython3",
   "version": "3.11.4"
  }
 },
 "nbformat": 4,
 "nbformat_minor": 2
}
