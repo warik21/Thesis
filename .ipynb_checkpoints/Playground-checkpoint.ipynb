{
 "cells": [
  {
   "cell_type": "markdown",
   "id": "1a89b1f1-2ac7-43b0-8b43-7a9f44f7fe55",
   "metadata": {},
   "source": [
    "## Imports and definitions"
   ]
  },
  {
   "cell_type": "code",
   "execution_count": 1,
   "id": "0209072b-875c-41f4-aa8f-23de6ec018a9",
   "metadata": {},
   "outputs": [],
   "source": [
    "import ot\n",
    "import numpy as np\n",
    "import matplotlib.pyplot as plt\n",
    "import pandas as pd\n",
    "import os\n",
    "import cv2\n",
    "import glob\n",
    "import itertools\n",
    "import sys\n",
    "import ot"
   ]
  },
  {
   "cell_type": "code",
   "execution_count": 2,
   "id": "d6b34ec7-4613-4106-91d7-8bfc11b3eb76",
   "metadata": {},
   "outputs": [],
   "source": [
    "dotmark_pictures_path = \"..\\\\DOTmark_1.0\\\\Pictures\\\\\"\n",
    "full_path = os.path.join(os.getcwd(), dotmark_pictures_path)"
   ]
  },
  {
   "cell_type": "code",
   "execution_count": 43,
   "id": "da5bef3d-86cd-4999-8cdf-6986dfda4294",
   "metadata": {},
   "outputs": [],
   "source": [
    "resolutions = [32, 64, 128, 256, 512]\n",
    "image_numbers = ['01','02','03','04','05','06','07','08','09','10']"
   ]
  },
  {
   "cell_type": "markdown",
   "id": "53a23f5e-15ca-4a76-ab88-b350b17467d8",
   "metadata": {},
   "source": [
    "## Reading images"
   ]
  },
  {
   "cell_type": "code",
   "execution_count": 51,
   "id": "e49e9db4-7ec1-44cc-870d-fa5b89721a32",
   "metadata": {},
   "outputs": [],
   "source": [
    "# Define the pattern to match all items in the directory\n",
    "categories_pattern = os.path.join(dotmark_pictures_path, \"*\")\n",
    "\n",
    "# Use a list comprehension to filter only directories\n",
    "category_dirs = [path for path in glob.glob(categories_pattern) if os.path.isdir(path)]"
   ]
  },
  {
   "cell_type": "code",
   "execution_count": 4,
   "id": "af1caf5c-c51b-4918-a02e-6f7ae94ca67e",
   "metadata": {},
   "outputs": [
    {
     "name": "stdout",
     "output_type": "stream",
     "text": [
      "CauchyDensity\n",
      "ClassicImages\n",
      "GRFmoderate\n",
      "GRFrough\n",
      "GRFsmooth\n",
      "LogGRF\n",
      "LogitGRF\n",
      "MicroscopyImages\n",
      "Shapes\n",
      "WhiteNoise\n"
     ]
    }
   ],
   "source": [
    "categories_pattern = os.path.join(dotmark_pictures_path, \"*\")\n",
    "category_dirs = glob.glob(categories_pattern)\n",
    "\n",
    "# Extract just the category names from the full paths\n",
    "category_names = [os.path.basename(category) for category in category_dirs if os.path.isdir(category)]\n",
    "\n",
    "# Print the category names to verify\n",
    "for category in category_names:\n",
    "    print(category)"
   ]
  },
  {
   "cell_type": "code",
   "execution_count": 6,
   "id": "31c50a2d-b702-4d0e-a01b-7841b37db622",
   "metadata": {},
   "outputs": [
    {
     "data": {
      "text/plain": [
       "'..\\\\DOTmark_1.0\\\\Pictures\\\\*'"
      ]
     },
     "execution_count": 6,
     "metadata": {},
     "output_type": "execute_result"
    }
   ],
   "source": [
    "categories_pattern"
   ]
  },
  {
   "cell_type": "code",
   "execution_count": 46,
   "id": "e48ba774-ee0d-47d8-868d-cb9b1340516b",
   "metadata": {},
   "outputs": [],
   "source": [
    "category_dirs = [os.path.join(full_path, cat_name) for cat_name in category_names]"
   ]
  },
  {
   "cell_type": "code",
   "execution_count": 55,
   "id": "e93ec74f-20bd-46cb-9c6d-a3cc3559319f",
   "metadata": {},
   "outputs": [
    {
     "data": {
      "text/plain": [
       "['..\\\\DOTmark_1.0\\\\Pictures\\\\CauchyDensity',\n",
       " '..\\\\DOTmark_1.0\\\\Pictures\\\\ClassicImages',\n",
       " '..\\\\DOTmark_1.0\\\\Pictures\\\\GRFmoderate',\n",
       " '..\\\\DOTmark_1.0\\\\Pictures\\\\GRFrough',\n",
       " '..\\\\DOTmark_1.0\\\\Pictures\\\\GRFsmooth',\n",
       " '..\\\\DOTmark_1.0\\\\Pictures\\\\LogGRF',\n",
       " '..\\\\DOTmark_1.0\\\\Pictures\\\\LogitGRF',\n",
       " '..\\\\DOTmark_1.0\\\\Pictures\\\\MicroscopyImages',\n",
       " '..\\\\DOTmark_1.0\\\\Pictures\\\\Shapes',\n",
       " '..\\\\DOTmark_1.0\\\\Pictures\\\\WhiteNoise']"
      ]
     },
     "execution_count": 55,
     "metadata": {},
     "output_type": "execute_result"
    }
   ],
   "source": [
    "category_dirs"
   ]
  },
  {
   "cell_type": "code",
   "execution_count": 56,
   "id": "39b51623-7e6e-43c7-92d1-72519b65bd18",
   "metadata": {},
   "outputs": [],
   "source": [
    "file_name = f\"picture{resolutions[0]}_10{image_numbers[0]}.png\"\n",
    "path = os.path.join(category_dirs[0], file_name)\n",
    "\n",
    "image1 = cv2.imread(path, cv2.IMREAD_GRAYSCALE)\n",
    "\n",
    "file_name2 = f\"picture{resolutions[0]}_10{image_numbers[5]}.png\"\n",
    "path2 = os.path.join(category_dirs[0], file_name2)\n",
    "image2 = cv2.imread(path2, cv2.IMREAD_GRAYSCALE)"
   ]
  },
  {
   "cell_type": "code",
   "execution_count": 57,
   "id": "de431891-1cb7-4449-b377-fb4a13b68a90",
   "metadata": {},
   "outputs": [
    {
     "data": {
      "text/plain": [
       "<matplotlib.image.AxesImage at 0x1d3b46ebb90>"
      ]
     },
     "execution_count": 57,
     "metadata": {},
     "output_type": "execute_result"
    },
    {
     "data": {
      "image/png": "[encoded data removed]",
      "text/plain": [
       "<Figure size 640x480 with 2 Axes>"
      ]
     },
     "metadata": {},
     "output_type": "display_data"
    }
   ],
   "source": [
    "plt.subplot(1,2,1)\n",
    "plt.title('image 1')\n",
    "plt.imshow(image2, cmap='gray')\n",
    "\n",
    "plt.subplot(1,2,2)\n",
    "plt.title('image 2')\n",
    "plt.imshow(image, cmap='gray')"
   ]
  },
  {
   "cell_type": "code",
   "execution_count": 37,
   "id": "541a4674-9829-4d95-a85d-eae74a98ea7d",
   "metadata": {},
   "outputs": [
    {
     "ename": "TypeError",
     "evalue": "emd2() missing 1 required positional argument: 'M'",
     "output_type": "error",
     "traceback": [
      "\u001b[1;31m---------------------------------------------------------------------------\u001b[0m",
      "\u001b[1;31mTypeError\u001b[0m                                 Traceback (most recent call last)",
      "Cell \u001b[1;32mIn[37], line 1\u001b[0m\n\u001b[1;32m----> 1\u001b[0m \u001b[43mot\u001b[49m\u001b[38;5;241;43m.\u001b[39;49m\u001b[43mlp\u001b[49m\u001b[38;5;241;43m.\u001b[39;49m\u001b[43memd2\u001b[49m\u001b[43m(\u001b[49m\u001b[43mimage1\u001b[49m\u001b[43m,\u001b[49m\u001b[43m \u001b[49m\u001b[43mimage2\u001b[49m\u001b[43m)\u001b[49m\n",
      "\u001b[1;31mTypeError\u001b[0m: emd2() missing 1 required positional argument: 'M'"
     ]
    }
   ],
   "source": [
    "ot.lp.emd2(image1, image2, )"
   ]
  },
  {
   "cell_type": "markdown",
   "id": "d7845eee-6804-4210-8f1c-07ac0e0f97dd",
   "metadata": {},
   "source": [
    "## Scaling up, looking into all pairs of images:"
   ]
  },
  {
   "cell_type": "code",
   "execution_count": 13,
   "id": "b001159b-88e0-4800-b047-3ec2ec1c620a",
   "metadata": {},
   "outputs": [],
   "source": [
    "pairs = list(itertools.combinations(image_numbers, 2))"
   ]
  },
  {
   "cell_type": "code",
   "execution_count": 20,
   "id": "18faf551-1072-410a-abdf-1a8c47f921fd",
   "metadata": {},
   "outputs": [],
   "source": [
    "SNR_values = np.logspace(start=3, stop=-2, num=31)"
   ]
  },
  {
   "cell_type": "code",
   "execution_count": 38,
   "id": "8ce3775c-3604-444a-be2a-ff42e60f7ac7",
   "metadata": {},
   "outputs": [
    {
     "ename": "MemoryError",
     "evalue": "Unable to allocate 512. GiB for an array with shape (262144, 262144, 2) and data type int32",
     "output_type": "error",
     "traceback": [
      "\u001b[1;31m---------------------------------------------------------------------------\u001b[0m",
      "\u001b[1;31mMemoryError\u001b[0m                               Traceback (most recent call last)",
      "Cell \u001b[1;32mIn[38], line 25\u001b[0m\n\u001b[0;32m     22\u001b[0m plt\u001b[38;5;241m.\u001b[39mtitle(\u001b[38;5;124m'\u001b[39m\u001b[38;5;124mimage 2\u001b[39m\u001b[38;5;124m'\u001b[39m)\n\u001b[0;32m     23\u001b[0m plt\u001b[38;5;241m.\u001b[39mimshow(image, cmap\u001b[38;5;241m=\u001b[39m\u001b[38;5;124m'\u001b[39m\u001b[38;5;124mgray\u001b[39m\u001b[38;5;124m'\u001b[39m)\n\u001b[1;32m---> 25\u001b[0m df_im_l1 \u001b[38;5;241m=\u001b[39m \u001b[43mrun_experiment_and_append_images\u001b[49m\u001b[43m(\u001b[49m\u001b[43mdf\u001b[49m\u001b[38;5;241;43m=\u001b[39;49m\u001b[43mdf_im_l1\u001b[49m\u001b[43m,\u001b[49m\u001b[43m \u001b[49m\u001b[43mim1\u001b[49m\u001b[38;5;241;43m=\u001b[39;49m\u001b[43mim1\u001b[49m\u001b[43m,\u001b[49m\u001b[43m \u001b[49m\u001b[43mim2\u001b[49m\u001b[38;5;241;43m=\u001b[39;49m\u001b[43mim2\u001b[49m\u001b[43m,\u001b[49m\u001b[43m \u001b[49m\u001b[43mSNR\u001b[49m\u001b[38;5;241;43m=\u001b[39;49m\u001b[43mSNR\u001b[49m\u001b[43m,\u001b[49m\u001b[43m \u001b[49m\u001b[43mdistance_metric\u001b[49m\u001b[38;5;241;43m=\u001b[39;49m\u001b[38;5;124;43m'\u001b[39;49m\u001b[38;5;124;43mL2\u001b[39;49m\u001b[38;5;124;43m'\u001b[39;49m\u001b[43m,\u001b[49m\u001b[43m \u001b[49m\u001b[43mn_samples\u001b[49m\u001b[38;5;241;43m=\u001b[39;49m\u001b[38;5;241;43m30\u001b[39;49m\u001b[43m)\u001b[49m\n",
      "File \u001b[1;32m~\\OneDrive\\Documents\\all_folder\\Thesis\\Thesis\\utils\\utils.py:440\u001b[0m, in \u001b[0;36mrun_experiment_and_append_images\u001b[1;34m(df, im1, im2, SNR, distance_metric, n_samples)\u001b[0m\n\u001b[0;32m    437\u001b[0m noise_param \u001b[38;5;241m=\u001b[39m noise_from_SNR(SNR, signal_power\u001b[38;5;241m=\u001b[39mim1\u001b[38;5;241m.\u001b[39msum(), res\u001b[38;5;241m=\u001b[39mim1\u001b[38;5;241m.\u001b[39mshape[\u001b[38;5;241m0\u001b[39m])\n\u001b[0;32m    439\u001b[0m \u001b[38;5;28;01mfor\u001b[39;00m i \u001b[38;5;129;01min\u001b[39;00m \u001b[38;5;28mrange\u001b[39m(n_samples):\n\u001b[1;32m--> 440\u001b[0m     im1_noised, im2_noised, im1_post, im2_post, C \u001b[38;5;241m=\u001b[39m \u001b[43mcreate_images_and_costs\u001b[49m\u001b[43m(\u001b[49m\u001b[43mim1_base\u001b[49m\u001b[38;5;241;43m=\u001b[39;49m\u001b[43mim1\u001b[49m\u001b[43m,\u001b[49m\u001b[43m \u001b[49m\u001b[43mim2_base\u001b[49m\u001b[38;5;241;43m=\u001b[39;49m\u001b[43mim2\u001b[49m\u001b[43m,\u001b[49m\n\u001b[0;32m    441\u001b[0m \u001b[43m                                                                            \u001b[49m\u001b[43mnoise\u001b[49m\u001b[38;5;241;43m=\u001b[39;49m\u001b[43mnoise_param\u001b[49m\u001b[43m,\u001b[49m\u001b[43m \u001b[49m\u001b[43mdistance_metric\u001b[49m\u001b[38;5;241;43m=\u001b[39;49m\u001b[43mdistance_metric\u001b[49m\u001b[43m)\u001b[49m\n\u001b[0;32m    443\u001b[0m     results_classic_add \u001b[38;5;241m=\u001b[39m calc_transport_pot_emd(im1\u001b[38;5;241m.\u001b[39mflatten(), im2\u001b[38;5;241m.\u001b[39mflatten(), C)[\u001b[38;5;241m1\u001b[39m]\n\u001b[0;32m    444\u001b[0m     results_noised_add \u001b[38;5;241m=\u001b[39m calc_transport_pot_emd(im1_post\u001b[38;5;241m.\u001b[39mflatten(), im2_post\u001b[38;5;241m.\u001b[39mflatten(), C)[\u001b[38;5;241m1\u001b[39m]\n",
      "File \u001b[1;32m~\\OneDrive\\Documents\\all_folder\\Thesis\\Thesis\\utils\\utils.py:502\u001b[0m, in \u001b[0;36mcreate_images_and_costs\u001b[1;34m(im1_base, im2_base, noise, distance_metric)\u001b[0m\n\u001b[0;32m    493\u001b[0m \u001b[38;5;28;01mdef\u001b[39;00m \u001b[38;5;21mcreate_images_and_costs\u001b[39m(im1_base, im2_base, noise, distance_metric\u001b[38;5;241m=\u001b[39m\u001b[38;5;124m'\u001b[39m\u001b[38;5;124mL1\u001b[39m\u001b[38;5;124m'\u001b[39m):\n\u001b[0;32m    494\u001b[0m \u001b[38;5;250m    \u001b[39m\u001b[38;5;124;03m\"\"\"\u001b[39;00m\n\u001b[0;32m    495\u001b[0m \u001b[38;5;124;03m    This function creates two 1D distributions and a cost matrix between them.\u001b[39;00m\n\u001b[0;32m    496\u001b[0m \u001b[38;5;124;03m    :param im2_base: The initial image 2\u001b[39;00m\n\u001b[1;32m   (...)\u001b[0m\n\u001b[0;32m    500\u001b[0m \u001b[38;5;124;03m    :return: p, q, C\u001b[39;00m\n\u001b[0;32m    501\u001b[0m \u001b[38;5;124;03m    \"\"\"\u001b[39;00m\n\u001b[1;32m--> 502\u001b[0m     C \u001b[38;5;241m=\u001b[39m \u001b[43mcalculate_costs\u001b[49m\u001b[43m(\u001b[49m\u001b[43mim1_base\u001b[49m\u001b[38;5;241;43m.\u001b[39;49m\u001b[43mshape\u001b[49m\u001b[43m,\u001b[49m\u001b[43m \u001b[49m\u001b[43mdistance_metric\u001b[49m\u001b[38;5;241;43m=\u001b[39;49m\u001b[43mdistance_metric\u001b[49m\u001b[43m)\u001b[49m\n\u001b[0;32m    504\u001b[0m     im1_noised \u001b[38;5;241m=\u001b[39m noise_image(im1_base, noise)\n\u001b[0;32m    505\u001b[0m     im2_noised \u001b[38;5;241m=\u001b[39m noise_image(im2_base, noise)\n",
      "File \u001b[1;32m~\\OneDrive\\Documents\\all_folder\\Thesis\\Thesis\\utils\\utils.py:330\u001b[0m, in \u001b[0;36mcalculate_costs\u001b[1;34m(size, distance_metric)\u001b[0m\n\u001b[0;32m    327\u001b[0m size_1d \u001b[38;5;241m=\u001b[39m m \u001b[38;5;241m*\u001b[39m n\n\u001b[0;32m    329\u001b[0m coords \u001b[38;5;241m=\u001b[39m np\u001b[38;5;241m.\u001b[39marray([[i, j] \u001b[38;5;28;01mfor\u001b[39;00m i \u001b[38;5;129;01min\u001b[39;00m \u001b[38;5;28mrange\u001b[39m(m) \u001b[38;5;28;01mfor\u001b[39;00m j \u001b[38;5;129;01min\u001b[39;00m \u001b[38;5;28mrange\u001b[39m(n)])\n\u001b[1;32m--> 330\u001b[0m delta \u001b[38;5;241m=\u001b[39m \u001b[43mcoords\u001b[49m\u001b[43m[\u001b[49m\u001b[43m:\u001b[49m\u001b[43m,\u001b[49m\u001b[43m \u001b[49m\u001b[43mnp\u001b[49m\u001b[38;5;241;43m.\u001b[39;49m\u001b[43mnewaxis\u001b[49m\u001b[43m,\u001b[49m\u001b[43m \u001b[49m\u001b[43m:\u001b[49m\u001b[43m]\u001b[49m\u001b[43m \u001b[49m\u001b[38;5;241;43m-\u001b[39;49m\u001b[43m \u001b[49m\u001b[43mcoords\u001b[49m\u001b[43m[\u001b[49m\u001b[43mnp\u001b[49m\u001b[38;5;241;43m.\u001b[39;49m\u001b[43mnewaxis\u001b[49m\u001b[43m,\u001b[49m\u001b[43m \u001b[49m\u001b[43m:\u001b[49m\u001b[43m,\u001b[49m\u001b[43m \u001b[49m\u001b[43m:\u001b[49m\u001b[43m]\u001b[49m\n\u001b[0;32m    332\u001b[0m \u001b[38;5;28;01mif\u001b[39;00m distance_metric \u001b[38;5;241m==\u001b[39m \u001b[38;5;124m'\u001b[39m\u001b[38;5;124mL1\u001b[39m\u001b[38;5;124m'\u001b[39m:\n\u001b[0;32m    333\u001b[0m     distances \u001b[38;5;241m=\u001b[39m np\u001b[38;5;241m.\u001b[39msum(np\u001b[38;5;241m.\u001b[39mabs(delta), axis\u001b[38;5;241m=\u001b[39m\u001b[38;5;241m2\u001b[39m)\n",
      "\u001b[1;31mMemoryError\u001b[0m: Unable to allocate 512. GiB for an array with shape (262144, 262144, 2) and data type int32"
     ]
    },
    {
     "data": {
      "image/png": "[encoded data removed]",
      "text/plain": [
       "<Figure size 640x480 with 2 Axes>"
      ]
     },
     "metadata": {},
     "output_type": "display_data"
    }
   ],
   "source": [
    "df_im_l1 = pd.DataFrame()\n",
    "for category in category_names:\n",
    "    category_dir = os.path.join(full_path, category)\n",
    "    for resolution in resolutions:\n",
    "        for SNR in SNR_values:\n",
    "            for image_pair in pairs:\n",
    "                #Here we would like to noise and compare each pair of images. We would want to create a confusion matrix\n",
    "                #We essentially want this step to output 3 things:\n",
    "                # Conf_mat(I1_noised,I2_noised)\n",
    "                # Conf_mat(I1, I2)\n",
    "                # emd(I, I_tilde) for every image, only thing to think about is whether we want to noise at every stage or not.\n",
    "                path_im1 = os.path.join(category_dir, f\"picture{resolution}_10{image_pair[0]}.png\")\n",
    "                im1 = cv2.imread(path_im1, cv2.IMREAD_GRAYSCALE)\n",
    "                path_im2 = os.path.join(category_dir, f\"picture{resolution}_10{image_pair[1]}.png\")\n",
    "                im2 = cv2.imread(path_im1, cv2.IMREAD_GRAYSCALE)\n",
    "\n",
    "                plt.subplot(1,2,1)\n",
    "                plt.title('image 1')\n",
    "                plt.imshow(image2, cmap='gray')\n",
    "                \n",
    "                plt.subplot(1,2,2)\n",
    "                plt.title('image 2')\n",
    "                plt.imshow(image, cmap='gray')\n",
    "                                \n",
    "                df_im_l1 = run_experiment_and_append_images(df=df_im_l1, im1=im1, im2=im2, SNR=SNR, distance_metric='L2', n_samples=30)\n",
    "                "
   ]
  },
  {
   "cell_type": "code",
   "execution_count": null,
   "id": "22717808-360a-40ad-aef2-aa20e87ad53b",
   "metadata": {},
   "outputs": [],
   "source": []
  },
  {
   "cell_type": "code",
   "execution_count": 11,
   "id": "e7fb3e3f-cbbb-48d5-8a26-a71d55186645",
   "metadata": {},
   "outputs": [
    {
     "data": {
      "text/plain": [
       "[('01', '02'),\n",
       " ('01', '03'),\n",
       " ('01', '04'),\n",
       " ('01', '05'),\n",
       " ('01', '06'),\n",
       " ('01', '07'),\n",
       " ('01', '08'),\n",
       " ('01', '09'),\n",
       " ('01', '10'),\n",
       " ('02', '03'),\n",
       " ('02', '04'),\n",
       " ('02', '05'),\n",
       " ('02', '06'),\n",
       " ('02', '07'),\n",
       " ('02', '08'),\n",
       " ('02', '09'),\n",
       " ('02', '10'),\n",
       " ('03', '04'),\n",
       " ('03', '05'),\n",
       " ('03', '06'),\n",
       " ('03', '07'),\n",
       " ('03', '08'),\n",
       " ('03', '09'),\n",
       " ('03', '10'),\n",
       " ('04', '05'),\n",
       " ('04', '06'),\n",
       " ('04', '07'),\n",
       " ('04', '08'),\n",
       " ('04', '09'),\n",
       " ('04', '10'),\n",
       " ('05', '06'),\n",
       " ('05', '07'),\n",
       " ('05', '08'),\n",
       " ('05', '09'),\n",
       " ('05', '10'),\n",
       " ('06', '07'),\n",
       " ('06', '08'),\n",
       " ('06', '09'),\n",
       " ('06', '10'),\n",
       " ('07', '08'),\n",
       " ('07', '09'),\n",
       " ('07', '10'),\n",
       " ('08', '09'),\n",
       " ('08', '10'),\n",
       " ('09', '10')]"
      ]
     },
     "execution_count": 11,
     "metadata": {},
     "output_type": "execute_result"
    }
   ],
   "source": [
    "all_pairs"
   ]
  },
  {
   "cell_type": "code",
   "execution_count": null,
   "id": "7b5e98a9-e6b5-4c89-8844-e40aac691e27",
   "metadata": {},
   "outputs": [],
   "source": []
  }
 ],
 "metadata": {
  "kernelspec": {
   "display_name": "Python 3 (ipykernel)",
   "language": "python",
   "name": "python3"
  },
  "language_info": {
   "codemirror_mode": {
    "name": "ipython",
    "version": 3
   },
   "file_extension": ".py",
   "mimetype": "text/x-python",
   "name": "python",
   "nbconvert_exporter": "python",
   "pygments_lexer": "ipython3",
   "version": "3.11.4"
  }
 },
 "nbformat": 4,
 "nbformat_minor": 5
}
