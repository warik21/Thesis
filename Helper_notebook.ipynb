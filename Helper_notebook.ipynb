{
 "cells": [
  {
   "cell_type": "code",
   "execution_count": 192,
   "metadata": {},
   "outputs": [],
   "source": [
    "def is_degenerate(C):\n",
    "  \"\"\"\n",
    "  Checks whether a matrix is degenerate.\n",
    "\n",
    "  Args:\n",
    "    C: A NumPy array.\n",
    "\n",
    "  Returns:\n",
    "    True if the matrix is degenerate, False otherwise.\n",
    "  \"\"\"\n",
    "\n",
    "  # Check the sum of the costs in each row and column.\n",
    "  for row in range(C.shape[0]):\n",
    "    if np.sum(C[row, :]) == 0:\n",
    "      return True\n",
    "  for col in range(C.shape[1]):\n",
    "    if np.sum(C[:, col]) == 0:\n",
    "      return True\n",
    "\n",
    "  # The matrix is not degenerate.\n",
    "  return False"
   ]
  },
  {
   "cell_type": "code",
   "execution_count": 193,
   "metadata": {},
   "outputs": [],
   "source": [
    "def is_legit(plan, source, target):\n",
    "  \"\"\"\n",
    "  Checks if the plan is legit.\n",
    "\n",
    "  Args:\n",
    "    plan: The optimal transport plan.\n",
    "    source: The source distribution.\n",
    "    target: The target distribution.\n",
    "\n",
    "  Returns:\n",
    "    True if the plan is legit, False otherwise.\n",
    "  \"\"\"\n",
    "\n",
    "  # Check the sum of each row.\n",
    "  for row in range(plan.shape[0]):\n",
    "    if np.sum(plan[row, :]) != source[row]:\n",
    "      return False\n",
    "\n",
    "  # Check the sum of each column.\n",
    "  for col in range(plan.shape[1]):\n",
    "    if np.sum(plan[:, col]) != target[col]:\n",
    "      return False\n",
    "\n",
    "  # The plan is legit.\n",
    "  return True"
   ]
  },
  {
   "cell_type": "code",
   "execution_count": 81,
   "metadata": {},
   "outputs": [],
   "source": [
    "from utils.Visualizations import *\n",
    "import numpy as np\n",
    "\n",
    "#n_p = 100\n",
    "#n_q = 100\n",
    "n_p = 4\n",
    "n_q = 4\n",
    "n_max = 10000\n",
    "eps = 1.e-2\n",
    "X,Y = np.linspace(0,1,n_p), np.linspace(0,1,n_q)\n",
    "\n",
    "#p = make_1D_gauss(n_p, np.floor(1 * n_p / 4.), 2.) + make_1D_gauss(n_p, np.floor(2 * n_p / 4.), 2.) * (-0.5)\n",
    "#q = make_1D_gauss(n_q, np.floor(5 * n_q / 8.), 2.) + make_1D_gauss(n_q, np.floor(7 * n_q / 8.), 2.) * (-0.5)\n",
    "\n",
    "p = np.array([1.0,-1.0,0.0,0.0])\n",
    "q = np.array([0.0,0.0,-1.0,1.0])\n",
    "\n",
    "dx = np.ones([n_p,1])/n_p\n",
    "dy = np.ones([n_q,1])/n_q\n",
    "\n",
    "C = np.zeros([n_p,n_q],dtype=np.float64)\n",
    "\n",
    "dist_f1 = lambda a,b : abs(a-b)\n",
    "dist_f2 = lambda a,b : (a-b)**2\n",
    "# TODO: look at pdist1, pdist2\n",
    "for it1 in range(n_p):\n",
    "    for it2 in range(n_q):\n",
    "        C[it1,it2] = dist_f1(X[it1],Y[it2])\n",
    "\n",
    "# C = X - Y.T\n",
    "\n",
    "#Transport_plan, u, v = full_scalingAlg_pot(p, q, C, eps)\n",
    "\n",
    "## To work with the signed measures\n",
    "p_pos = np.zeros(p.shape)\n",
    "p_neg = np.zeros(p.shape)\n",
    "q_pos = np.zeros(q.shape)\n",
    "q_neg = np.zeros(q.shape)\n",
    "\n",
    "sign_p = np.sign(p)\n",
    "sign_q = np.sign(q)\n",
    "\n",
    "p_pos[sign_p>0] = p[sign_p>0]\n",
    "p_neg[sign_p<0] = -p[sign_p<0]\n",
    "q_pos[sign_q>0] = q[sign_q>0]\n",
    "q_neg[sign_q<0] = -q[sign_q<0]"
   ]
  },
  {
   "cell_type": "code",
   "execution_count": 82,
   "metadata": {},
   "outputs": [],
   "source": [
    "K_t : np.ndarray = np.exp(C / (-eps))"
   ]
  },
  {
   "cell_type": "code",
   "execution_count": 83,
   "metadata": {},
   "outputs": [],
   "source": [
    "T_cost, logs = ot.emd(p_pos, q_pos, C, eps, log=True)"
   ]
  },
  {
   "cell_type": "code",
   "execution_count": 85,
   "metadata": {},
   "outputs": [
    {
     "data": {
      "text/plain": [
       "array([1., 0., 0., 0.])"
      ]
     },
     "execution_count": 85,
     "metadata": {},
     "output_type": "execute_result"
    }
   ],
   "source": [
    "p_pos"
   ]
  },
  {
   "cell_type": "code",
   "execution_count": 86,
   "metadata": {},
   "outputs": [
    {
     "data": {
      "text/plain": [
       "array([[0.        , 0.33333333, 0.66666667, 1.        ],\n",
       "       [0.33333333, 0.        , 0.33333333, 0.66666667],\n",
       "       [0.66666667, 0.33333333, 0.        , 0.33333333],\n",
       "       [1.        , 0.66666667, 0.33333333, 0.        ]])"
      ]
     },
     "execution_count": 86,
     "metadata": {},
     "output_type": "execute_result"
    }
   ],
   "source": [
    "C"
   ]
  },
  {
   "cell_type": "code",
   "execution_count": 70,
   "metadata": {},
   "outputs": [],
   "source": [
    "u = logs['u'].flatten()\n",
    "v = logs['v'].flatten()"
   ]
  },
  {
   "cell_type": "code",
   "execution_count": 76,
   "metadata": {},
   "outputs": [
    {
     "data": {
      "image/png": "[encoded data removed]",
      "text/plain": [
       "<Figure size 576x576 with 3 Axes>"
      ]
     },
     "metadata": {
      "needs_background": "light"
     },
     "output_type": "display_data"
    }
   ],
   "source": [
    "plt.figure(figsize=(8, 8))\n",
    "plot1D_mat(p_pos, q_pos, T_cost, '')\n",
    "plt.show()"
   ]
  },
  {
   "cell_type": "code",
   "execution_count": 184,
   "metadata": {},
   "outputs": [],
   "source": [
    "from utils.Visualizations import *\n",
    "import numpy as np\n",
    "\n",
    "n_p = 100\n",
    "n_q = 100\n",
    "X,Y = np.linspace(0,1,n_p), np.linspace(0,1,n_q)\n",
    "\n",
    "p = make_1D_gauss(n_p, np.floor(1 * n_p / 4.), 2.) + make_1D_gauss(n_p, np.floor(2 * n_p / 4.), 2.) * (-0.5)\n",
    "q = make_1D_gauss(n_q, np.floor(5 * n_q / 8.), 2.) + make_1D_gauss(n_q, np.floor(7 * n_q / 8.), 2.) * (-0.5)\n",
    "\n",
    "C = np.zeros([n_p,n_q],dtype=np.float64)\n",
    "\n",
    "dist_f1 = lambda a,b : abs(a-b)\n",
    "dist_f2 = lambda a,b : (a-b)**2\n",
    "for it1 in range(n_p):\n",
    "    for it2 in range(n_q):\n",
    "        C[it1,it2] = dist_f2(X[it1],Y[it2])\n",
    "\n",
    "\n",
    "p_pos = np.zeros(p.shape)\n",
    "p_neg = np.zeros(p.shape)\n",
    "q_pos = np.zeros(q.shape)\n",
    "q_neg = np.zeros(q.shape)\n",
    "\n",
    "sign_p = np.sign(p)\n",
    "sign_q = np.sign(q)\n",
    "\n",
    "p_pos[sign_p>0] = p[sign_p>0]\n",
    "p_neg[sign_p<0] = -p[sign_p<0]\n",
    "q_pos[sign_q>0] = q[sign_q>0]\n",
    "q_neg[sign_q<0] = -q[sign_q<0]"
   ]
  },
  {
   "cell_type": "code",
   "execution_count": 185,
   "metadata": {},
   "outputs": [],
   "source": [
    "K_t : np.ndarray = np.exp(C / (-eps))"
   ]
  },
  {
   "cell_type": "code",
   "execution_count": 186,
   "metadata": {},
   "outputs": [],
   "source": [
    "p_pos = p_pos.flatten()\n",
    "q_pos = q_pos.flatten()"
   ]
  },
  {
   "cell_type": "code",
   "execution_count": 198,
   "metadata": {},
   "outputs": [],
   "source": [
    "T_cost, logs = ot.emd(p_pos, q_pos, C, log=True, )"
   ]
  },
  {
   "cell_type": "code",
   "execution_count": 199,
   "metadata": {
    "scrolled": true
   },
   "outputs": [
    {
     "data": {
      "image/png": "[encoded data removed]",
      "text/plain": [
       "<Figure size 576x576 with 3 Axes>"
      ]
     },
     "metadata": {
      "needs_background": "light"
     },
     "output_type": "display_data"
    }
   ],
   "source": [
    "plt.figure(figsize=(8, 8))\n",
    "plot1D_mat(p_pos, q_pos, T_cost, 'Transport matrix with the target and source dist')\n",
    "plt.show()"
   ]
  },
  {
   "cell_type": "code",
   "execution_count": 202,
   "metadata": {},
   "outputs": [
    {
     "data": {
      "text/plain": [
       "1.3384346820517025e-16"
      ]
     },
     "execution_count": 202,
     "metadata": {},
     "output_type": "execute_result"
    }
   ],
   "source": [
    "sum(sum(T_cost) - p_pos)"
   ]
  },
  {
   "cell_type": "code",
   "execution_count": 178,
   "metadata": {
    "scrolled": true
   },
   "outputs": [
    {
     "name": "stderr",
     "output_type": "stream",
     "text": [
      "c:\\users\\eriki\\appdata\\local\\programs\\python\\python38\\lib\\site-packages\\ot\\bregman.py:477: RuntimeWarning: divide by zero encountered in divide\n",
      "  Kp = (1 / a).reshape(-1, 1) * K\n",
      "c:\\users\\eriki\\appdata\\local\\programs\\python\\python38\\lib\\site-packages\\ot\\bregman.py:492: UserWarning: Warning: numerical errors at iteration 0\n",
      "  warnings.warn('Warning: numerical errors at iteration %d' % ii)\n"
     ]
    }
   ],
   "source": [
    "T_sink, logs = ot.sinkhorn(p_pos, q_pos, C, eps, log=True)\n",
    "u : np.ndarray = logs['u'].flatten()\n",
    "v : np.ndarray = logs['v'].flatten()\n",
    "Transport_plan : np.ndarray = np.diag(v) @ K_t @ np.diag(u)"
   ]
  },
  {
   "cell_type": "code",
   "execution_count": 180,
   "metadata": {},
   "outputs": [
    {
     "data": {
      "image/png": "[encoded data removed]",
      "text/plain": [
       "<Figure size 576x576 with 3 Axes>"
      ]
     },
     "metadata": {
      "needs_background": "light"
     },
     "output_type": "display_data"
    }
   ],
   "source": [
    "plt.figure(figsize=(8, 8))\n",
    "plot1D_mat(p_pos, q_pos, Transport_plan, 'Transport matrix with the target and source dist')\n",
    "plt.show()"
   ]
  }
 ],
 "metadata": {
  "kernelspec": {
   "display_name": "Python 3",
   "language": "python",
   "name": "python3"
  },
  "language_info": {
   "codemirror_mode": {
    "name": "ipython",
    "version": 3
   },
   "file_extension": ".py",
   "mimetype": "text/x-python",
   "name": "python",
   "nbconvert_exporter": "python",
   "pygments_lexer": "ipython3",
   "version": "3.8.0"
  }
 },
 "nbformat": 4,
 "nbformat_minor": 4
}
