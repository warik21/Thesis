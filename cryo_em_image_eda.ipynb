{
 "cells": [
  {
   "cell_type": "code",
   "execution_count": 1,
   "metadata": {},
   "outputs": [],
   "source": [
    "import numpy as np\n",
    "import matplotlib.pyplot as plt\n",
    "import os\n",
    "import pandas as pd\n",
    "import ot\n",
    "from utils.image import Image\n",
    "from utils.Visualizations import *\n",
    "from utils.utils import *\n",
    "import itertools\n",
    "import glob"
   ]
  },
  {
   "cell_type": "code",
   "execution_count": 10,
   "metadata": {},
   "outputs": [],
   "source": [
    "dotmark_pictures_path = \"..\\\\DOTmark_1.0\\\\Pictures\\\\\"\n",
    "full_path = os.path.join(os.getcwd(), dotmark_pictures_path)\n",
    "resolution = 32\n",
    "image_numbers = ['01','02','03','04','05','06','07','08','09','10']\n",
    "noise_values = np.logspace(start = -8, stop = 2, num = 100)\n",
    "categories_pattern = os.path.join(dotmark_pictures_path, \"*\")\n",
    "category_dirs = [path for path in glob.glob(categories_pattern) if os.path.isdir(path)]\n",
    "category_names = [os.path.basename(category) for category in category_dirs if os.path.isdir(category)]\n",
    "num_exp = 1000"
   ]
  },
  {
   "cell_type": "code",
   "execution_count": 12,
   "metadata": {},
   "outputs": [
    {
     "name": "stdout",
     "output_type": "stream",
     "text": [
      "Category: MicroscopyImages, Image_Pair: ('01', '02')\n"
     ]
    }
   ],
   "source": [
    "results_B_x = pd.DataFrame(columns=[\n",
    "    'Category', 'Image_Pair', 'Alpha_1_Mean', 'Alpha_1_Std', 'Alpha_2_Mean', 'Alpha_2_Std', \n",
    "    'B_x_Mean', 'B_x_Std', 'Noise', 'B_x_tilde_Mean', 'B_x_tilde_Std'\n",
    "    ])\n",
    "\n",
    "category = \"MicroscopyImages\"\n",
    "pair = list(itertools.combinations(image_numbers, 2))[0]  # Choose the first image pair as an example\n",
    "\n",
    "print(f'Category: {category}, Image_Pair: {pair}')"
   ]
  },
  {
   "cell_type": "code",
   "execution_count": 13,
   "metadata": {},
   "outputs": [
    {
     "name": "stderr",
     "output_type": "stream",
     "text": [
      "C:\\Users\\eriki\\AppData\\Local\\Temp\\ipykernel_22892\\2892555043.py:26: FutureWarning: The behavior of DataFrame concatenation with empty or all-NA entries is deprecated. In a future version, this will no longer exclude empty or all-NA columns when determining the result dtypes. To retain the old behavior, exclude the relevant entries before the concat operation.\n",
      "  results_B_x = results_B_x._append({\n"
     ]
    }
   ],
   "source": [
    "for noise in noise_values:\n",
    "    alpha_1s = np.zeros(num_exp)\n",
    "    alpha_2s = np.zeros(num_exp)\n",
    "    B_xs = np.zeros((num_exp, resolution, resolution))  # Store B_x for each experiment\n",
    "    B_xs_tilde = np.zeros((num_exp, resolution, resolution))  # Store B_x_tilde for each experiment\n",
    "    image1 = Image(resolution, category, pair[0], full_path)\n",
    "    image2 = Image(resolution, category, pair[1], full_path)\n",
    "\n",
    "    for i in range(num_exp):\n",
    "        results = Image.process_images(image1, image2, noise)\n",
    "        alpha_1 = (1 / image1.image_post_noised.sum()) - 1\n",
    "        alpha_2 = (1 / image2.image_post_noised.sum()) - 1\n",
    "        B_x = image1.image_post_noised * alpha_1 - image2.image_post_noised * alpha_2\n",
    "        alpha_1s[i] = alpha_1\n",
    "        alpha_2s[i] = alpha_2\n",
    "        B_xs[i, :, :] = B_x  # Store each B_x result\n",
    "        B_xs_tilde[i, :, :] = B_x - alpha_1 * image1.image + alpha_2 * image2.image\n",
    "\n",
    "    # Calculate the means and standard deviations\n",
    "    alpha_1_mean, alpha_1_std = alpha_1s.mean(), alpha_1s.std()\n",
    "    alpha_2_mean, alpha_2_std = alpha_2s.mean(), alpha_2s.std()\n",
    "    B_x_mean, B_x_std = B_xs.mean(axis=0), B_xs.std(axis=0)\n",
    "    B_x_tilde_mean, B_x_tilde_std = B_xs_tilde.mean(axis=0), B_xs_tilde.std(axis=0)\n",
    "\n",
    "    # Store results in the DataFrame\n",
    "    results_B_x = results_B_x._append({\n",
    "        'Category': category,\n",
    "        'Noise': noise,\n",
    "        'Image_Pair': pair,\n",
    "        'Alpha_1_Mean': alpha_1_mean,\n",
    "        'Alpha_1_Std': alpha_1_std,\n",
    "        'Alpha_2_Mean': alpha_2_mean,\n",
    "        'Alpha_2_Std': alpha_2_std,\n",
    "        'B_x_Mean': B_x_mean.mean(),  # Storing the overall mean of the matrix\n",
    "        'B_x_Std': B_x_std.mean(),  # Storing the overall mean of the std of the matrix\n",
    "        'B_x_tilde_Mean': B_x_tilde_mean.mean(),\n",
    "        'B_x_tilde_Std': B_x_tilde_std.mean()\n",
    "    }, ignore_index=True)"
   ]
  },
  {
   "cell_type": "code",
   "execution_count": 8,
   "metadata": {},
   "outputs": [
    {
     "data": {
      "text/html": [
       "<div>\n",
       "<style scoped>\n",
       "    .dataframe tbody tr th:only-of-type {\n",
       "        vertical-align: middle;\n",
       "    }\n",
       "\n",
       "    .dataframe tbody tr th {\n",
       "        vertical-align: top;\n",
       "    }\n",
       "\n",
       "    .dataframe thead th {\n",
       "        text-align: right;\n",
       "    }\n",
       "</style>\n",
       "<table border=\"1\" class=\"dataframe\">\n",
       "  <thead>\n",
       "    <tr style=\"text-align: right;\">\n",
       "      <th></th>\n",
       "      <th>Alpha_1_Mean</th>\n",
       "      <th>Alpha_1_Std</th>\n",
       "      <th>Alpha_2_Mean</th>\n",
       "      <th>Alpha_2_Std</th>\n",
       "      <th>B_x_Mean</th>\n",
       "      <th>B_x_Std</th>\n",
       "      <th>Noise</th>\n",
       "      <th>B_x_tilde_Mean</th>\n",
       "      <th>B_x_tilde_Std</th>\n",
       "      <th>log_Noise</th>\n",
       "    </tr>\n",
       "  </thead>\n",
       "  <tbody>\n",
       "    <tr>\n",
       "      <th>0</th>\n",
       "      <td>-0.000002</td>\n",
       "      <td>2.603531e-07</td>\n",
       "      <td>-0.000002</td>\n",
       "      <td>3.014808e-07</td>\n",
       "      <td>-6.458317e-11</td>\n",
       "      <td>4.727199e-10</td>\n",
       "      <td>1.000000e-08</td>\n",
       "      <td>-2.860524e-16</td>\n",
       "      <td>3.372282e-14</td>\n",
       "      <td>-8.00000</td>\n",
       "    </tr>\n",
       "    <tr>\n",
       "      <th>1</th>\n",
       "      <td>-0.000003</td>\n",
       "      <td>3.807417e-07</td>\n",
       "      <td>-0.000003</td>\n",
       "      <td>3.786777e-07</td>\n",
       "      <td>3.806875e-11</td>\n",
       "      <td>6.092159e-10</td>\n",
       "      <td>1.261857e-08</td>\n",
       "      <td>2.287442e-16</td>\n",
       "      <td>5.398055e-14</td>\n",
       "      <td>-7.89899</td>\n",
       "    </tr>\n",
       "    <tr>\n",
       "      <th>2</th>\n",
       "      <td>-0.000004</td>\n",
       "      <td>4.311007e-07</td>\n",
       "      <td>-0.000004</td>\n",
       "      <td>4.354700e-07</td>\n",
       "      <td>5.065852e-11</td>\n",
       "      <td>6.899810e-10</td>\n",
       "      <td>1.592283e-08</td>\n",
       "      <td>3.889873e-16</td>\n",
       "      <td>8.568936e-14</td>\n",
       "      <td>-7.79798</td>\n",
       "    </tr>\n",
       "    <tr>\n",
       "      <th>3</th>\n",
       "      <td>-0.000005</td>\n",
       "      <td>5.364897e-07</td>\n",
       "      <td>-0.000005</td>\n",
       "      <td>6.417035e-07</td>\n",
       "      <td>-4.346153e-12</td>\n",
       "      <td>9.673625e-10</td>\n",
       "      <td>2.009233e-08</td>\n",
       "      <td>7.948193e-17</td>\n",
       "      <td>1.364141e-13</td>\n",
       "      <td>-7.69697</td>\n",
       "    </tr>\n",
       "    <tr>\n",
       "      <th>4</th>\n",
       "      <td>-0.000006</td>\n",
       "      <td>7.062610e-07</td>\n",
       "      <td>-0.000006</td>\n",
       "      <td>8.128188e-07</td>\n",
       "      <td>-1.056315e-10</td>\n",
       "      <td>1.236597e-09</td>\n",
       "      <td>2.535364e-08</td>\n",
       "      <td>-1.115442e-15</td>\n",
       "      <td>2.164055e-13</td>\n",
       "      <td>-7.59596</td>\n",
       "    </tr>\n",
       "  </tbody>\n",
       "</table>\n",
       "</div>"
      ],
      "text/plain": [
       "   Alpha_1_Mean   Alpha_1_Std  Alpha_2_Mean   Alpha_2_Std      B_x_Mean  \\\n",
       "0     -0.000002  2.603531e-07     -0.000002  3.014808e-07 -6.458317e-11   \n",
       "1     -0.000003  3.807417e-07     -0.000003  3.786777e-07  3.806875e-11   \n",
       "2     -0.000004  4.311007e-07     -0.000004  4.354700e-07  5.065852e-11   \n",
       "3     -0.000005  5.364897e-07     -0.000005  6.417035e-07 -4.346153e-12   \n",
       "4     -0.000006  7.062610e-07     -0.000006  8.128188e-07 -1.056315e-10   \n",
       "\n",
       "        B_x_Std         Noise  B_x_tilde_Mean  B_x_tilde_Std  log_Noise  \n",
       "0  4.727199e-10  1.000000e-08   -2.860524e-16   3.372282e-14   -8.00000  \n",
       "1  6.092159e-10  1.261857e-08    2.287442e-16   5.398055e-14   -7.89899  \n",
       "2  6.899810e-10  1.592283e-08    3.889873e-16   8.568936e-14   -7.79798  \n",
       "3  9.673625e-10  2.009233e-08    7.948193e-17   1.364141e-13   -7.69697  \n",
       "4  1.236597e-09  2.535364e-08   -1.115442e-15   2.164055e-13   -7.59596  "
      ]
     },
     "execution_count": 8,
     "metadata": {},
     "output_type": "execute_result"
    }
   ],
   "source": [
    "results_B_x_new = results_B_x.drop(['Category', 'Image_Pair'], axis=1)\n",
    "results_B_x_new['log_Noise'] = np.log10(results_B_x['Noise'])\n",
    "grouped_results = results_B_x_new.groupby('Noise').mean().reset_index()\n",
    "results_B_x_new.head()"
   ]
  },
  {
   "cell_type": "code",
   "execution_count": 16,
   "metadata": {},
   "outputs": [
    {
     "data": {
      "image/png": "[encoded data removed]",
      "text/plain": [
       "<Figure size 1000x500 with 2 Axes>"
      ]
     },
     "metadata": {},
     "output_type": "display_data"
    }
   ],
   "source": [
    "# Show both original images side by side:\n",
    "fig, ax = plt.subplots(1, 2, figsize=(10, 5))\n",
    "ax[0].imshow(image1.image, cmap='gray')\n",
    "ax[0].set_title(f'Image {pair[0]}')\n",
    "ax[1].imshow(image2.image, cmap='gray')\n",
    "ax[1].set_title(f'Image {pair[1]}')\n",
    "plt.show()"
   ]
  },
  {
   "cell_type": "code",
   "execution_count": 40,
   "metadata": {},
   "outputs": [],
   "source": [
    "def print_stats(image: np.ndarray):\n",
    "    print(f'Min: {image[image>0].min()}')\n",
    "    print(f'Max: {image[image>0].max()}')\n",
    "    print(f'Mean: {image.mean()}')\n",
    "    print(f'Num of zeros: {np.count_nonzero(image == 0)}')"
   ]
  },
  {
   "cell_type": "code",
   "execution_count": 41,
   "metadata": {},
   "outputs": [
    {
     "data": {
      "text/plain": [
       "utils.image.Image"
      ]
     },
     "execution_count": 41,
     "metadata": {},
     "output_type": "execute_result"
    }
   ],
   "source": [
    "type(image1)"
   ]
  },
  {
   "cell_type": "code",
   "execution_count": 42,
   "metadata": {},
   "outputs": [
    {
     "name": "stdout",
     "output_type": "stream",
     "text": [
      "Image 01 statistics:\n",
      "Min: 0.0005389797882579403\n",
      "Max: 0.009817131857555342\n",
      "Mean: 0.0009765625\n",
      "Num of zeros: 429\n",
      "\n",
      "Image 02 statistics:\n",
      "Min: 0.00031292671825216206\n",
      "Max: 0.007254210286754666\n",
      "Mean: 0.0009765625\n",
      "Num of zeros: 173\n"
     ]
    }
   ],
   "source": [
    "# Show statistics about the images - mean pixel value, number of zero pixels, etc.\n",
    "print(f'Image {pair[0]} statistics:')\n",
    "print_stats(image1.image)\n",
    "print(f'\\nImage {pair[1]} statistics:')\n",
    "print_stats(image2.image)"
   ]
  },
  {
   "cell_type": "markdown",
   "metadata": {},
   "source": [
    "Now, we would like to see that the noise value is capped at about the same time as the minimal value is equal to \n",
    "\n",
    "$$min_{pix} = \\sigma \\sqrt{2log(N^2)}$$\n",
    "\n",
    "which in our case, where $N=32$, means that:\n",
    "\n",
    "$$min_{pix} = \\sigma \\sqrt{2log(1024)}$$\n",
    "\n",
    "and if we move things around a little we get : \n",
    "\n",
    "$$\\sigma < \\frac{min_{pix}}{\\sqrt{2log(1024)}}$$"
   ]
  },
  {
   "cell_type": "code",
   "execution_count": 47,
   "metadata": {},
   "outputs": [
    {
     "name": "stdout",
     "output_type": "stream",
     "text": [
      "Minimal non-zero pixel value in image 01: 0.0005389797882579403\n",
      "Maximal sigma value for image 01: 1.1909883224989972e-05\n",
      "\n",
      "Minimal non-zero pixel value in image 02: 0.00031292671825216206\n",
      "Maximal sigma value for image 02: 6.9147688903298735e-06\n"
     ]
    }
   ],
   "source": [
    "# Calculate the minimal non-zero pixel value in the images\n",
    "min_pix_image1 = image1.image[image1.image > 0].min()\n",
    "min_pix_image2 = image2.image[image2.image > 0].min()\n",
    "\n",
    "max_sigma_image1 = min_pix_image1 / np.sqrt(2 * (resolution**2))\n",
    "max_sigma_image2 = min_pix_image2 / np.sqrt(2 * (resolution**2))\n",
    "\n",
    "print(f'Minimal non-zero pixel value in image {pair[0]}: {min_pix_image1}')\n",
    "print(f'Maximal sigma value for image {pair[0]}: {max_sigma_image1}')\n",
    "print(f'\\nMinimal non-zero pixel value in image {pair[1]}: {min_pix_image2}')\n",
    "print(f'Maximal sigma value for image {pair[1]}: {max_sigma_image2}')"
   ]
  },
  {
   "cell_type": "code",
   "execution_count": 49,
   "metadata": {},
   "outputs": [
    {
     "data": {
      "text/plain": [
       "1.1909883224989972e-05"
      ]
     },
     "execution_count": 49,
     "metadata": {},
     "output_type": "execute_result"
    }
   ],
   "source": [
    "max_sigma_image1"
   ]
  },
  {
   "cell_type": "code",
   "execution_count": 54,
   "metadata": {},
   "outputs": [
    {
     "data": {
      "image/png": "[encoded data removed]",
      "text/plain": [
       "<Figure size 1000x500 with 1 Axes>"
      ]
     },
     "metadata": {},
     "output_type": "display_data"
    }
   ],
   "source": [
    "# Plot the alphas:\n",
    "plt.figure(figsize=(10, 5))\n",
    "plt.plot(grouped_results['log_Noise'], -grouped_results['Alpha_1_Mean'], label='Alpha 1 Original', alpha=0.5)\n",
    "plt.plot(grouped_results['log_Noise'], -grouped_results['Alpha_2_Mean'], label='Alpha 2 Original', alpha=0.5)\n",
    "plt.axvline(x=np.log10(1/512), color='r', linestyle='--', label='Noise = 1/512')\n",
    "plt.axvline(x=np.log10(max_sigma_image1), color='g', linestyle='--', label='Max Sigma Image 1')\n",
    "plt.axvline(x=np.log10(max_sigma_image2), color='y', linestyle='--', label='Max Sigma Image 2')\n",
    "plt.axhline(y=0.5, color='k', linestyle='--', label='y=0.5')\n",
    "plt.xlabel('Noise')\n",
    "#plt.yscale('log')\n",
    "plt.ylabel('Average Alpha')\n",
    "plt.title('Average Alpha in every pixel')\n",
    "plt.legend()\n",
    "\n",
    "plt.show()"
   ]
  },
  {
   "cell_type": "markdown",
   "metadata": {},
   "source": [
    "Questions about this plot:\n",
    "* is it symmetric around the point $(0.5, \\frac{2}{res^2})$\n",
    "\n",
    "* What are the max sigma's and how can we interpret them? do the things we want really start happening there?\n",
    "\n",
    "* How would one change the theoretical proof given that we can divide the pixels into 2 parts."
   ]
  },
  {
   "cell_type": "markdown",
   "metadata": {},
   "source": [
    "I would be adressing the third point in the overleaf page."
   ]
  },
  {
   "cell_type": "code",
   "execution_count": null,
   "metadata": {},
   "outputs": [],
   "source": []
  }
 ],
 "metadata": {
  "kernelspec": {
   "display_name": "venv",
   "language": "python",
   "name": "python3"
  },
  "language_info": {
   "codemirror_mode": {
    "name": "ipython",
    "version": 3
   },
   "file_extension": ".py",
   "mimetype": "text/x-python",
   "name": "python",
   "nbconvert_exporter": "python",
   "pygments_lexer": "ipython3",
   "version": "3.11.4"
  }
 },
 "nbformat": 4,
 "nbformat_minor": 2
}
