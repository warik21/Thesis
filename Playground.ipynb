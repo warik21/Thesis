{
 "cells": [
  {
   "cell_type": "code",
   "execution_count": 18,
   "id": "0209072b-875c-41f4-aa8f-23de6ec018a9",
   "metadata": {},
   "outputs": [],
   "source": [
    "import ot\n",
    "import numpy as np\n",
    "import matplotlib.pyplot as plt\n",
    "import pandas as pd\n",
    "import os\n",
    "import cv2\n",
    "import glob"
   ]
  },
  {
   "cell_type": "code",
   "execution_count": 60,
   "id": "d6b34ec7-4613-4106-91d7-8bfc11b3eb76",
   "metadata": {},
   "outputs": [],
   "source": [
    "dotmark_pictures_path = \"..\\\\DOTmark_1.0\\\\Pictures\\\\\"\n",
    "full_path = os.path.join(os.getcwd(), dotmark_pictures_path)"
   ]
  },
  {
   "cell_type": "code",
   "execution_count": 61,
   "id": "af1caf5c-c51b-4918-a02e-6f7ae94ca67e",
   "metadata": {},
   "outputs": [
    {
     "name": "stdout",
     "output_type": "stream",
     "text": [
      "CauchyDensity\n",
      "ClassicImages\n",
      "GRFmoderate\n",
      "GRFrough\n",
      "GRFsmooth\n",
      "LogGRF\n",
      "LogitGRF\n",
      "MicroscopyImages\n",
      "Shapes\n",
      "WhiteNoise\n"
     ]
    }
   ],
   "source": [
    "categories_pattern = os.path.join(dotmark_pictures_path, \"*\")\n",
    "category_dirs = glob.glob(categories_pattern)\n",
    "\n",
    "# Extract just the category names from the full paths\n",
    "category_names = [os.path.basename(category) for category in category_dirs if os.path.isdir(category)]\n",
    "\n",
    "# Print the category names to verify\n",
    "for category in category_names:\n",
    "    print(category)"
   ]
  },
  {
   "cell_type": "code",
   "execution_count": 76,
   "id": "da5bef3d-86cd-4999-8cdf-6986dfda4294",
   "metadata": {},
   "outputs": [],
   "source": [
    "resolutions = [32, 64, 128, 256, 512]\n",
    "image_numbers = ['01','02','03','04','05','06','07','08','09','10']"
   ]
  },
  {
   "cell_type": "code",
   "execution_count": 62,
   "id": "31c50a2d-b702-4d0e-a01b-7841b37db622",
   "metadata": {},
   "outputs": [
    {
     "data": {
      "text/plain": [
       "'..\\\\DOTmark_1.0\\\\Pictures\\\\*'"
      ]
     },
     "execution_count": 62,
     "metadata": {},
     "output_type": "execute_result"
    }
   ],
   "source": [
    "categories_pattern"
   ]
  },
  {
   "cell_type": "code",
   "execution_count": 63,
   "id": "e48ba774-ee0d-47d8-868d-cb9b1340516b",
   "metadata": {},
   "outputs": [],
   "source": [
    "category_dirs = [os.path.join(full_path, cat_name) for cat_name in category_names]"
   ]
  },
  {
   "cell_type": "code",
   "execution_count": 64,
   "id": "e93ec74f-20bd-46cb-9c6d-a3cc3559319f",
   "metadata": {},
   "outputs": [
    {
     "data": {
      "text/plain": [
       "['C:\\\\Users\\\\eriki\\\\OneDrive\\\\Documents\\\\all_folder\\\\Thesis\\\\Thesis\\\\..\\\\DOTmark_1.0\\\\Pictures\\\\CauchyDensity',\n",
       " 'C:\\\\Users\\\\eriki\\\\OneDrive\\\\Documents\\\\all_folder\\\\Thesis\\\\Thesis\\\\..\\\\DOTmark_1.0\\\\Pictures\\\\ClassicImages',\n",
       " 'C:\\\\Users\\\\eriki\\\\OneDrive\\\\Documents\\\\all_folder\\\\Thesis\\\\Thesis\\\\..\\\\DOTmark_1.0\\\\Pictures\\\\GRFmoderate',\n",
       " 'C:\\\\Users\\\\eriki\\\\OneDrive\\\\Documents\\\\all_folder\\\\Thesis\\\\Thesis\\\\..\\\\DOTmark_1.0\\\\Pictures\\\\GRFrough',\n",
       " 'C:\\\\Users\\\\eriki\\\\OneDrive\\\\Documents\\\\all_folder\\\\Thesis\\\\Thesis\\\\..\\\\DOTmark_1.0\\\\Pictures\\\\GRFsmooth',\n",
       " 'C:\\\\Users\\\\eriki\\\\OneDrive\\\\Documents\\\\all_folder\\\\Thesis\\\\Thesis\\\\..\\\\DOTmark_1.0\\\\Pictures\\\\LogGRF',\n",
       " 'C:\\\\Users\\\\eriki\\\\OneDrive\\\\Documents\\\\all_folder\\\\Thesis\\\\Thesis\\\\..\\\\DOTmark_1.0\\\\Pictures\\\\LogitGRF',\n",
       " 'C:\\\\Users\\\\eriki\\\\OneDrive\\\\Documents\\\\all_folder\\\\Thesis\\\\Thesis\\\\..\\\\DOTmark_1.0\\\\Pictures\\\\MicroscopyImages',\n",
       " 'C:\\\\Users\\\\eriki\\\\OneDrive\\\\Documents\\\\all_folder\\\\Thesis\\\\Thesis\\\\..\\\\DOTmark_1.0\\\\Pictures\\\\Shapes',\n",
       " 'C:\\\\Users\\\\eriki\\\\OneDrive\\\\Documents\\\\all_folder\\\\Thesis\\\\Thesis\\\\..\\\\DOTmark_1.0\\\\Pictures\\\\WhiteNoise']"
      ]
     },
     "execution_count": 64,
     "metadata": {},
     "output_type": "execute_result"
    }
   ],
   "source": [
    "category_dirs"
   ]
  },
  {
   "cell_type": "code",
   "execution_count": 79,
   "id": "39b51623-7e6e-43c7-92d1-72519b65bd18",
   "metadata": {},
   "outputs": [],
   "source": [
    "file_name = f\"picture{resolutions[0]}_10{image_numbers[0]}.png\"\n",
    "path = os.path.join(category_dirs[0], file_name)\n",
    "\n",
    "image = cv2.imread(path, cv2.IMREAD_GRAYSCALE)"
   ]
  },
  {
   "cell_type": "code",
   "execution_count": 89,
   "id": "8ce3775c-3604-444a-be2a-ff42e60f7ac7",
   "metadata": {},
   "outputs": [],
   "source": [
    "counter = 0\n",
    "for category in category_names:\n",
    "    for resolution in resolutions:\n",
    "        for image_number in image_numbers:\n",
    "            counter+=1"
   ]
  },
  {
   "cell_type": "code",
   "execution_count": 90,
   "id": "e7fb3e3f-cbbb-48d5-8a26-a71d55186645",
   "metadata": {},
   "outputs": [
    {
     "data": {
      "text/plain": [
       "500"
      ]
     },
     "execution_count": 90,
     "metadata": {},
     "output_type": "execute_result"
    }
   ],
   "source": [
    "counter"
   ]
  },
  {
   "cell_type": "code",
   "execution_count": null,
   "id": "7b5e98a9-e6b5-4c89-8844-e40aac691e27",
   "metadata": {},
   "outputs": [],
   "source": []
  }
 ],
 "metadata": {
  "kernelspec": {
   "display_name": "Python 3 (ipykernel)",
   "language": "python",
   "name": "python3"
  },
  "language_info": {
   "codemirror_mode": {
    "name": "ipython",
    "version": 3
   },
   "file_extension": ".py",
   "mimetype": "text/x-python",
   "name": "python",
   "nbconvert_exporter": "python",
   "pygments_lexer": "ipython3",
   "version": "3.11.4"
  }
 },
 "nbformat": 4,
 "nbformat_minor": 5
}
