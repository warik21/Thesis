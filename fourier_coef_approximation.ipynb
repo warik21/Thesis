{
 "cells": [
  {
   "cell_type": "code",
   "id": "initial_id",
   "metadata": {
    "collapsed": true,
    "ExecuteTime": {
     "end_time": "2024-09-09T19:01:04.336473Z",
     "start_time": "2024-09-09T19:01:02.223756Z"
    }
   },
   "source": [
    "from utils.image import Image\n",
    "from utils.Visualizations import *\n",
    "from utils.utils import *\n",
    "import itertools\n",
    "import glob\n",
    "from scipy.stats import normaltest, gaussian_kde, probplot\n",
    "import numpy as np\n",
    "import os"
   ],
   "outputs": [],
   "execution_count": 1
  },
  {
   "metadata": {
    "ExecuteTime": {
     "end_time": "2024-09-09T19:01:04.809451Z",
     "start_time": "2024-09-09T19:01:04.805703Z"
    }
   },
   "cell_type": "code",
   "source": [
    "dotmark_pictures_path = \"DOTmark_1.0/Pictures/\"\n",
    "full_path = os.path.join(os.getcwd(), dotmark_pictures_path)"
   ],
   "id": "1a75b2c52fa45870",
   "outputs": [],
   "execution_count": 2
  },
  {
   "metadata": {
    "ExecuteTime": {
     "end_time": "2024-09-09T19:01:05.094605Z",
     "start_time": "2024-09-09T19:01:05.090899Z"
    }
   },
   "cell_type": "code",
   "source": [
    "resolutions = [32, 64, 128, 256, 512]\n",
    "resolution = 32\n",
    "image_numbers = ['01','02','03','04','05','06','07','08','09','10']"
   ],
   "id": "d06a1e56df9440af",
   "outputs": [],
   "execution_count": 3
  },
  {
   "metadata": {
    "ExecuteTime": {
     "end_time": "2024-09-09T19:05:03.119836Z",
     "start_time": "2024-09-09T19:05:03.115440Z"
    }
   },
   "cell_type": "code",
   "source": [
    "categories_pattern = os.path.join(dotmark_pictures_path, \"*\")\n",
    "category_dirs = [path for path in glob.glob(categories_pattern) if os.path.isdir(path)]\n",
    "category_names = [os.path.basename(category) for category in category_dirs if os.path.isdir(category)]\n",
    "for category in category_names:\n",
    "    print(category)\n",
    "    \n",
    "full_path = os.path.join(os.getcwd(), dotmark_pictures_path)"
   ],
   "id": "d2666073be13dd6d",
   "outputs": [
    {
     "name": "stdout",
     "output_type": "stream",
     "text": [
      "GRFrough\n",
      "GRFmoderate\n",
      "CauchyDensity\n",
      "MicroscopyImages\n",
      "Shapes\n",
      "LogGRF\n",
      "LogitGRF\n",
      "GRFsmooth\n",
      "WhiteNoise\n",
      "ClassicImages\n"
     ]
    }
   ],
   "execution_count": 10
  },
  {
   "metadata": {
    "ExecuteTime": {
     "end_time": "2024-09-09T19:15:06.904792Z",
     "start_time": "2024-09-09T19:15:06.901283Z"
    }
   },
   "cell_type": "code",
   "source": "category_names[0]",
   "id": "9c86e7f2c2c3986d",
   "outputs": [
    {
     "data": {
      "text/plain": [
       "'GRFrough'"
      ]
     },
     "execution_count": 28,
     "metadata": {},
     "output_type": "execute_result"
    }
   ],
   "execution_count": 28
  },
  {
   "metadata": {
    "ExecuteTime": {
     "end_time": "2024-09-09T19:10:28.069115Z",
     "start_time": "2024-09-09T19:10:28.061429Z"
    }
   },
   "cell_type": "code",
   "source": [
    "# Load 2 images:\n",
    "image1 = Image(resolution, category_names[0], 0, full_path).image\n",
    "image2 = Image(resolution, category_names[0], 1, full_path).image"
   ],
   "id": "e9aad213316e42c8",
   "outputs": [],
   "execution_count": 20
  },
  {
   "metadata": {
    "ExecuteTime": {
     "end_time": "2024-09-09T19:11:37.982910Z",
     "start_time": "2024-09-09T19:11:37.979304Z"
    }
   },
   "cell_type": "code",
   "source": [
    "# Add noise to images\n",
    "def add_noise(image, noise_level=0.1):\n",
    "    noise = np.random.normal(0, noise_level, image.shape)\n",
    "    return image + noise\n",
    "\n",
    "# Compute squared difference between Fourier coefficients\n",
    "def compute_fourier_diff(image1, image2):\n",
    "    # Compute Fourier transforms\n",
    "    p_k = np.fft.fft2(image1)\n",
    "    q_k = np.fft.fft2(image2)\n",
    "    \n",
    "    # Compute the squared difference between Fourier coefficients\n",
    "    squared_diff = np.abs(p_k - q_k)**2\n",
    "    \n",
    "    return squared_diff"
   ],
   "id": "214aa4ad194d9bf",
   "outputs": [],
   "execution_count": 22
  },
  {
   "metadata": {
    "ExecuteTime": {
     "end_time": "2024-09-09T19:16:34.598195Z",
     "start_time": "2024-09-09T19:16:34.593822Z"
    }
   },
   "cell_type": "code",
   "source": [
    "noisy_p = add_noise(image1, noise_level=0.1)\n",
    "noisy_q = add_noise(image2, noise_level=0.1)\n",
    "\n",
    "# Compute the Fourier coefficient differences\n",
    "squared_diff = compute_fourier_diff(noisy_p, noisy_q)"
   ],
   "id": "7f054154844b53f7",
   "outputs": [],
   "execution_count": 30
  },
  {
   "metadata": {
    "ExecuteTime": {
     "end_time": "2024-09-09T19:16:37.952838Z",
     "start_time": "2024-09-09T19:16:37.748587Z"
    }
   },
   "cell_type": "code",
   "source": [
    "# Flatten and show histogram of the squared differences\n",
    "squared_diff_flat = squared_diff.flatten()\n",
    "\n",
    "plt.figure(figsize=(8, 6))\n",
    "plt.hist(squared_diff_flat, bins=50, color='blue', alpha=0.7)\n",
    "plt.title(\"Histogram of Log10 of Squared Fourier Coefficient Differences\")\n",
    "plt.ylabel(\"Frequency\")\n",
    "plt.grid(True)\n",
    "plt.show()"
   ],
   "id": "d9508d65acea1fa7",
   "outputs": [
    {
     "data": {
      "text/plain": [
       "<Figure size 800x600 with 1 Axes>"
      ],
      "image/png": "[encoded data removed]"
     },
     "metadata": {},
     "output_type": "display_data"
    }
   ],
   "execution_count": 31
  },
  {
   "metadata": {},
   "cell_type": "code",
   "outputs": [],
   "execution_count": null,
   "source": "",
   "id": "2020700896874b7a"
  },
  {
   "metadata": {},
   "cell_type": "code",
   "outputs": [],
   "execution_count": null,
   "source": "",
   "id": "ba89adc39d7ef611"
  },
  {
   "metadata": {
    "ExecuteTime": {
     "end_time": "2024-09-09T19:05:04.640072Z",
     "start_time": "2024-09-09T19:05:04.637461Z"
    }
   },
   "cell_type": "code",
   "source": "# Go over the fourier trasnform of the images and see if it looks like some distribution:",
   "id": "6a8a4bf137bbd003",
   "outputs": [],
   "execution_count": 12
  },
  {
   "metadata": {
    "ExecuteTime": {
     "end_time": "2024-09-09T19:05:05.339462Z",
     "start_time": "2024-09-09T19:05:05.335960Z"
    }
   },
   "cell_type": "code",
   "source": [
    "def get_fourier_transforms(image_numbers, category_names, resolution):\n",
    "    fourier_transforms = {}\n",
    "    for category in category_names:\n",
    "        print(category)\n",
    "        fourier_transforms[category] = {}\n",
    "        for image_number in image_numbers:\n",
    "            image = Image(resolution, category, image_number, full_path)\n",
    "            fourier_transforms[category][image_number] = np.fft.fftshift(np.fft.fft2(image.image))\n",
    "    return fourier_transforms"
   ],
   "id": "bbe24b1812395ed7",
   "outputs": [],
   "execution_count": 13
  },
  {
   "metadata": {
    "ExecuteTime": {
     "end_time": "2024-09-09T19:05:07.310536Z",
     "start_time": "2024-09-09T19:05:07.068949Z"
    }
   },
   "cell_type": "code",
   "source": "fourier_transforms = get_fourier_transforms(image_numbers, category_names, resolution)",
   "id": "1268305668221399",
   "outputs": [
    {
     "name": "stdout",
     "output_type": "stream",
     "text": [
      "GRFrough\n",
      "GRFmoderate\n",
      "CauchyDensity\n",
      "MicroscopyImages\n",
      "Shapes\n",
      "LogGRF\n",
      "LogitGRF\n",
      "GRFsmooth\n",
      "WhiteNoise\n",
      "ClassicImages\n"
     ]
    }
   ],
   "execution_count": 14
  },
  {
   "metadata": {
    "ExecuteTime": {
     "end_time": "2024-09-09T19:05:19.018951Z",
     "start_time": "2024-09-09T19:05:19.015691Z"
    }
   },
   "cell_type": "code",
   "source": [
    "def plot_image(image, title=None):\n",
    "    plt.imshow(image, cmap='gray')\n",
    "    plt.title(title)\n",
    "    plt.show()"
   ],
   "id": "f8a983fa529a85cf",
   "outputs": [],
   "execution_count": 16
  },
  {
   "metadata": {
    "ExecuteTime": {
     "end_time": "2024-09-09T19:05:19.395205Z",
     "start_time": "2024-09-09T19:05:19.391850Z"
    }
   },
   "cell_type": "code",
   "source": [
    "# Now we would like to look into the differences between two fourier transformed images and see the distribution of \n",
    "# The absolute value of that, meaning the value of |\\hat{I_1} - \\hat{I_2}|^2\n"
   ],
   "id": "ea9f6588ad64b817",
   "outputs": [],
   "execution_count": 17
  },
  {
   "metadata": {},
   "cell_type": "code",
   "source": "",
   "id": "a3d48272752c9d37",
   "outputs": [],
   "execution_count": null
  },
  {
   "metadata": {
    "ExecuteTime": {
     "end_time": "2024-10-12T13:49:32.596753Z",
     "start_time": "2024-10-12T13:49:32.591094Z"
    }
   },
   "cell_type": "code",
   "source": [
    "import numpy as np\n",
    "import matplotlib.pyplot as plt\n",
    "from scipy.integrate import quad\n",
    "from scipy.fft import fftshift, ifft\n",
    "\n",
    "# Define the grid size\n",
    "n = 32\n",
    "\n",
    "# Define the characteristic function of the sum of chi-squared variables\n",
    "def characteristic_function(t, grid_size):\n",
    "    phi = 1\n",
    "    for k1 in range(1, grid_size + 1):\n",
    "        for k2 in range(k1, grid_size + 1):\n",
    "            k_squared = k1**2 + k2**2\n",
    "            if k1 == k2:\n",
    "                phi *= (1 - 2j * t / k_squared) ** (-1 / 2)\n",
    "            else:\n",
    "                phi *= (1 - 2j * t / k_squared) ** (-1)\n",
    "    return phi\n",
    "\n",
    "def integrand(t, s, grid_size):\n",
    "    # This is the integrand for the inverse Fourier transform to compute the PDF\n",
    "    return np.real(characteristic_function(t, grid_size) * np.exp(-1j * t * s))\n",
    "\n",
    "# Compute the PDF using numerical integration\n",
    "def pdf_via_integration(s, grid_size, t_max=100):\n",
    "    # Perform the integration for each value of s\n",
    "    result, error = quad(integrand, -t_max, t_max, args=(s, grid_size))\n",
    "    return result / (2 * np.pi)\n",
    "\n",
    "def sanity_check_pdf_normalization(s_vals, pdf_vals):\n",
    "    # Numerical integration using the trapezoidal rule to check if the PDF integrates to 1\n",
    "    integral = np.trapz(pdf_vals, s_vals)\n",
    "    return integral"
   ],
   "id": "5a5cf417942f455b",
   "outputs": [],
   "execution_count": 26
  },
  {
   "metadata": {
    "ExecuteTime": {
     "end_time": "2024-10-12T14:38:21.912018Z",
     "start_time": "2024-10-12T14:36:23.494369Z"
    }
   },
   "cell_type": "code",
   "source": [
    "# Generate a range of s values (from 0 to a reasonable upper limit, say 20)\n",
    "t_max = 400\n",
    "s_vals_integration = np.linspace(0, 20, 500)\n",
    "pdf_vals_integration = np.array([pdf_via_integration(s, n, t_max) for s in s_vals_integration])\n",
    "\n",
    "# Plot the result\n",
    "plt.figure(figsize=(8, 6))\n",
    "plt.plot(s_vals_integration, pdf_vals_integration, label='PDF of the sum S (via integration)')\n",
    "plt.title(f'PDF of the sum of chi-squared variables (grid size {n}x{n})')\n",
    "plt.xlabel('Value of S')\n",
    "plt.ylabel('Probability Density')\n",
    "plt.legend()\n",
    "plt.grid(True)\n",
    "plt.show()"
   ],
   "id": "28aeb60d1c3d0ff3",
   "outputs": [
    {
     "data": {
      "text/plain": [
       "<Figure size 800x600 with 1 Axes>"
      ],
      "image/png": "[encoded data removed]"
     },
     "metadata": {},
     "output_type": "display_data"
    }
   ],
   "execution_count": 29
  },
  {
   "metadata": {
    "ExecuteTime": {
     "end_time": "2024-10-12T13:51:18.754658Z",
     "start_time": "2024-10-12T13:51:18.748504Z"
    }
   },
   "cell_type": "code",
   "source": [
    "# Perform the sanity check\n",
    "normalization_check = sanity_check_pdf_normalization(s_vals_integration, pdf_vals_integration)\n",
    "\n",
    "# Display the result of the sanity check\n",
    "normalization_check"
   ],
   "id": "9608d5b6c3dc893f",
   "outputs": [
    {
     "name": "stderr",
     "output_type": "stream",
     "text": [
      "/var/folders/6f/3d7pjjnx0199mxxn8jxjr2y80000gn/T/ipykernel_96944/841471695.py:33: DeprecationWarning: `trapz` is deprecated. Use `trapezoid` instead, or one of the numerical integration functions in `scipy.integrate`.\n",
      "  integral = np.trapz(pdf_vals, s_vals)\n"
     ]
    },
    {
     "data": {
      "text/plain": [
       "np.float64(1.0129153150720795)"
      ]
     },
     "execution_count": 28,
     "metadata": {},
     "output_type": "execute_result"
    }
   ],
   "execution_count": 28
  },
  {
   "metadata": {},
   "cell_type": "code",
   "outputs": [],
   "execution_count": null,
   "source": "",
   "id": "c90e7198734e1397"
  }
 ],
 "metadata": {
  "kernelspec": {
   "display_name": "Python 3",
   "language": "python",
   "name": "python3"
  },
  "language_info": {
   "codemirror_mode": {
    "name": "ipython",
    "version": 2
   },
   "file_extension": ".py",
   "mimetype": "text/x-python",
   "name": "python",
   "nbconvert_exporter": "python",
   "pygments_lexer": "ipython2",
   "version": "2.7.6"
  }
 },
 "nbformat": 4,
 "nbformat_minor": 5
}
