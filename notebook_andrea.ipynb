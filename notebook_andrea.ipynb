{
 "cells": [
  {
   "cell_type": "code",
   "execution_count": 3,
   "id": "7a698954-5b6d-4aa9-a375-17385064cd4b",
   "metadata": {},
   "outputs": [],
   "source": [
    "import numpy as np\n",
    "import matplotlib.pyplot as plt\n",
    "from scipy.fft import fftn, ifftn\n",
    "import scipy.interpolate \n",
    "import cv2\n",
    "import time\n",
    "import itertools\n",
    "import ot\n",
    "import glob\n",
    "import os\n",
    "from utils.utils import *\n",
    "import ot"
   ]
  },
  {
   "cell_type": "code",
   "execution_count": 4,
   "id": "fa6af3d0-7f78-4863-931e-daac249f3c6f",
   "metadata": {},
   "outputs": [],
   "source": [
    "dotmark_pictures_path = \"..\\\\DOTmark_1.0\\\\Pictures\\\\\"\n",
    "full_path = os.path.join(os.getcwd(), dotmark_pictures_path)\n",
    "resolution = 32\n",
    "image_numbers = ['01','02','03','04','05','06','07','08','09','10']\n",
    "pairs = list(itertools.combinations(image_numbers, 2))\n",
    "\n",
    "categories_pattern = os.path.join(dotmark_pictures_path, \"*\")\n",
    "category_dirs = glob.glob(categories_pattern)\n",
    "category_names = [os.path.basename(category) for category in category_dirs if os.path.isdir(category)]"
   ]
  },
  {
   "cell_type": "code",
   "execution_count": 13,
   "id": "8b85cb52-f059-490b-b7c3-ee7bc2634aad",
   "metadata": {},
   "outputs": [],
   "source": [
    "def calculate_2d_frequencies(n_rows, n_cols):\n",
    "    # Compute frequency values for each axis\n",
    "    fy = np.fft.fftfreq(n_rows).reshape(-1, 1)  # Frequencies in y-direction\n",
    "    fx = np.fft.fftfreq(n_cols)  # Frequencies in x-direction\n",
    "    \n",
    "    # Create a meshgrid of frequencies: combines fx and fy to form a grid of vectors\n",
    "    fx, fy = np.meshgrid(fx, fy)\n",
    "    \n",
    "    # Calculate the magnitude of the frequency vectors\n",
    "    # This represents |k|, the distance from the origin to each point in frequency space\n",
    "    freq_magnitude = np.sqrt(fx**2 + fy**2)\n",
    "    \n",
    "    return freq_magnitude\n",
    "\n",
    "def calculate_costs(size, distance_metric='L1'):\n",
    "    \"\"\"\n",
    "    This function of an array or image and calculates the cost from it to itself.\n",
    "\n",
    "    Parameters:\n",
    "    - `size` (int or tuple): representing the object on which we would like to calculate costs.\n",
    "\n",
    "    Returns:\n",
    "    - `costs` (numpy.ndarray): A 2D array representing the matrix of costs of transporting pixels\n",
    "                                from the first image to the second image.\n",
    "    \"\"\"\n",
    "\n",
    "    # Helper function for L1 and L2 distance\n",
    "    if distance_metric == 'L1':\n",
    "        dist = lambda a, b: abs(a - b)\n",
    "    elif distance_metric == 'L2':\n",
    "        dist = lambda a, b: (a - b) ** 2\n",
    "    else:\n",
    "        raise ValueError('Invalid distance metric. Must be either \"L1\" or \"L2\".')\n",
    "\n",
    "    # 1D case:\n",
    "    if isinstance(size, int):\n",
    "        X = np.linspace(0, 1, size)\n",
    "        costs = np.zeros([size, size], np.float64)\n",
    "\n",
    "        for it1 in range(size):\n",
    "            for it2 in range(size):\n",
    "                costs[it1, it2] = dist(X[it1], X[it2])\n",
    "\n",
    "        return costs\n",
    "\n",
    "    # 2D case:\n",
    "    elif len(size) == 2:\n",
    "        m, n = size\n",
    "        size_1d = m * n\n",
    "\n",
    "        coords = np.array([[i, j] for i in range(m) for j in range(n)])\n",
    "        delta = coords[:, np.newaxis, :] - coords[np.newaxis, :, :]\n",
    "\n",
    "        if distance_metric == 'L1':\n",
    "            distances = np.sum(np.abs(delta), axis=2)\n",
    "        elif distance_metric == 'L2':\n",
    "            distances = np.sqrt(np.sum(delta ** 2, axis=2))\n",
    "        else:\n",
    "            raise ValueError('Invalid distance metric. Must be either \"L1\" or \"L2\".')\n",
    "\n",
    "        costs = distances.reshape((size_1d, size_1d))\n",
    "\n",
    "        return costs"
   ]
  },
  {
   "cell_type": "code",
   "execution_count": 14,
   "id": "4cb4c0e4-3ca5-46e3-ae55-cc3a78ca5f64",
   "metadata": {},
   "outputs": [],
   "source": [
    "p = 2\n",
    "s = 2\n",
    "T = 16\n",
    "d = 2"
   ]
  },
  {
   "cell_type": "code",
   "execution_count": 15,
   "id": "9fa1eba6-cd7b-49e7-9bc8-98acd9c2b783",
   "metadata": {},
   "outputs": [
    {
     "name": "stdout",
     "output_type": "stream",
     "text": [
      "4.633738040924072 Time elapsed for Category CauchyDensity\n",
      "7.08188533782959 Time elapsed for Category ClassicImages\n",
      "6.177074432373047 Time elapsed for Category GRFmoderate\n",
      "6.672017574310303 Time elapsed for Category GRFrough\n",
      "6.766861200332642 Time elapsed for Category GRFsmooth\n",
      "5.01680064201355 Time elapsed for Category LogGRF\n",
      "5.585718393325806 Time elapsed for Category LogitGRF\n",
      "3.3296959400177 Time elapsed for Category MicroscopyImages\n",
      "2.1657345294952393 Time elapsed for Category Shapes\n",
      "7.015761137008667 Time elapsed for Category WhiteNoise\n"
     ]
    }
   ],
   "source": [
    "pfm_values_normal = []\n",
    "pfm_values_shifted = []\n",
    "w_values = []\n",
    "\n",
    "for category in category_names:\n",
    "    category_dir = os.path.join(full_path, category)\n",
    "    start = time.time()\n",
    "    for image_pair in pairs:\n",
    "        # Loading and normalizing images\n",
    "        path_im1 = os.path.join(category_dir, f\"picture{resolution}_10{image_pair[0]}.png\")\n",
    "        im1 = cv2.imread(path_im1, cv2.IMREAD_GRAYSCALE)\n",
    "        im1 = cv2.resize(im1, (resolution, resolution))\n",
    "        im1 = im1 / im1.sum()  # Normalize\n",
    "        path_im2 = os.path.join(category_dir, f\"picture{resolution}_10{image_pair[1]}.png\")\n",
    "        im2 = cv2.imread(path_im2, cv2.IMREAD_GRAYSCALE)\n",
    "        im2 = cv2.resize(im2, (resolution, resolution))\n",
    "        im2 = im2 / im2.sum()  # Normalize\n",
    "        \n",
    "        # Calculate the fft\n",
    "        im1_ft = np.fft.fft2(im1)\n",
    "        im1_ft_shift = np.fft.fftshift(im1_ft)\n",
    "        im1_ft_shift_normalized = np.log(np.abs(im1_ft_shift) + 1)\n",
    "\n",
    "        im2_ft = np.fft.fft2(im2)\n",
    "        im2_ft_shift = np.fft.fftshift(im2_ft)\n",
    "        im2_ft_shift_normalized = np.log(np.abs(im2_ft_shift) + 1)\n",
    "\n",
    "        # Calculate the PFM\n",
    "        diff = np.abs(im1_ft - im2_ft) ** p\n",
    "        freqs = calculate_2d_frequencies(*im1_ft.shape)\n",
    "        freqs[freqs == 0] = 1e-5\n",
    "        weighted_diff = diff / (freqs ** (s*p))\n",
    "        pfm = ((np.sum(weighted_diff)) ** (1/p)) / (T**d)\n",
    "        pfm_values_normal.append(pfm)\n",
    "        \n",
    "        #Calculate shifted values:\n",
    "        diff = np.abs(im1_ft_shift - im2_ft_shift) ** p\n",
    "        weighted_diff = diff / (freqs ** (s*p))\n",
    "        pfm = ((np.sum(weighted_diff)) ** (1/p)) / (T**d)\n",
    "        pfm_values_shifted.append(pfm)\n",
    "\n",
    "        #Calculate the EMD\n",
    "        cost_matrix = calculate_costs(im1.shape, distance_metric = 'L2')\n",
    "        w_dist = ot.emd2(im1.flatten(), im2.flatten(), cost_matrix)\n",
    "        w_values.append(w_dist)\n",
    "    \n",
    "    end = time.time()\n",
    "    print(f'{end - start} Time elapsed for Category {category}')"
   ]
  },
  {
   "cell_type": "code",
   "execution_count": 16,
   "id": "b18c3d75-554d-441d-b35a-fcfbc3089fb2",
   "metadata": {},
   "outputs": [
    {
     "data": {
      "image/png": "[encoded data removed]",
      "text/plain": [
       "<Figure size 640x480 with 2 Axes>"
      ]
     },
     "metadata": {},
     "output_type": "display_data"
    }
   ],
   "source": [
    "plt.subplot(1,2,1)\n",
    "plt.scatter(w_values, pfm_values_normal)\n",
    "\n",
    "plt.subplot(1,2,2)\n",
    "plt.scatter(w_values, pfm_values_shifted)\n",
    "\n",
    "plt.tight_layout()\n",
    "plt.show()"
   ]
  },
  {
   "cell_type": "code",
   "execution_count": null,
   "id": "ce9dd4be-3500-43b4-bc6b-eb7d3881bf32",
   "metadata": {},
   "outputs": [],
   "source": []
  }
 ],
 "metadata": {
  "kernelspec": {
   "display_name": "Python 3 (ipykernel)",
   "language": "python",
   "name": "python3"
  },
  "language_info": {
   "codemirror_mode": {
    "name": "ipython",
    "version": 3
   },
   "file_extension": ".py",
   "mimetype": "text/x-python",
   "name": "python",
   "nbconvert_exporter": "python",
   "pygments_lexer": "ipython3",
   "version": "3.11.4"
  }
 },
 "nbformat": 4,
 "nbformat_minor": 5
}
