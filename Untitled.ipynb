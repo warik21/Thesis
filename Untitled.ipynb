{
 "cells": [
  {
   "cell_type": "markdown",
   "id": "3fcac35a-8e4e-4314-9805-9509e4b01584",
   "metadata": {},
   "source": [
    "### mm_unbalanced, mm_unbalanced2,  solves:\n",
    "$W = \\min_\\gamma \\quad \\langle \\gamma, \\mathbf{M} \\rangle_F +\n",
    "        \\mathrm{reg_m} \\cdot \\mathrm{div}(\\gamma \\mathbf{1}, \\mathbf{a}) +\n",
    "        \\mathrm{reg_m} \\cdot \\mathrm{div}(\\gamma^T \\mathbf{1}, \\mathbf{b}) + \\mathrm{reg} \\mathrm{div}(\\gamma,\\mathbf{a}\\mathbf{b}^T)\n",
    "        s.t.\n",
    "             \\gamma \\ge 0 $"
   ]
  },
  {
   "cell_type": "markdown",
   "id": "f751c693-3e77-4029-9d81-f41daa22d254",
   "metadata": {},
   "source": [
    "### lbfgsb_unbalanced solves:\\geq 0geq 0"
   ]
  },
  {
   "cell_type": "markdown",
   "id": "3a28b9f8-01dc-4604-816c-6188588e60e3",
   "metadata": {},
   "source": [
    "### mm_unbalanced, mm_unbalanced2,  solves:\n",
    "$W = \\min_\\gamma \\quad \\langle \\gamma, \\mathbf{M} \\rangle_F +\n",
    "        \\mathrm{reg_m} \\cdot \\mathrm{div}(\\gamma \\mathbf{1}, \\mathbf{a}) +\n",
    "        \\mathrm{reg_m} \\cdot \\mathrm{div}(\\gamma^T \\mathbf{1}, \\mathbf{b})\n",
    "        s.t.\n",
    "             \\gamma \\ge 0 $"
   ]
  },
  {
   "cell_type": "code",
   "execution_count": null,
   "id": "4f6309a5-701b-4981-8525-77137752942a",
   "metadata": {},
   "outputs": [],
   "source": []
  }
 ],
 "metadata": {
  "kernelspec": {
   "display_name": "Python 3 (ipykernel)",
   "language": "python",
   "name": "python3"
  },
  "language_info": {
   "codemirror_mode": {
    "name": "ipython",
    "version": 3
   },
   "file_extension": ".py",
   "mimetype": "text/x-python",
   "name": "python",
   "nbconvert_exporter": "python",
   "pygments_lexer": "ipython3",
   "version": "3.11.4"
  }
 },
 "nbformat": 4,
 "nbformat_minor": 5
}
