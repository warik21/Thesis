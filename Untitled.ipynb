{
 "cells": [
  {
   "cell_type": "markdown",
   "id": "3fcac35a-8e4e-4314-9805-9509e4b01584",
   "metadata": {},
   "source": [
    "### mm_unbalanced, mm_unbalanced2,  solves:\n",
    "$W = \\min_\\gamma \\quad \\langle \\gamma, \\mathbf{M} \\rangle_F +\n",
    "        \\mathrm{reg_m} \\cdot \\mathrm{div}(\\gamma \\mathbf{1}, \\mathbf{a}) +\n",
    "        \\mathrm{reg_m} \\cdot \\mathrm{div}(\\gamma^T \\mathbf{1}, \\mathbf{b}) + \\mathrm{reg} \\mathrm{div}(\\gamma,\\mathbf{a}\\mathbf{b}^T)\n",
    "        s.t.\n",
    "             \\gamma \\ge 0 $"
   ]
  },
  {
   "cell_type": "markdown",
   "id": "f751c693-3e77-4029-9d81-f41daa22d254",
   "metadata": {},
   "source": [
    "### lbfgsb_unbalanced solves:\\geq 0geq 0"
   ]
  },
  {
   "cell_type": "markdown",
   "id": "3a28b9f8-01dc-4604-816c-6188588e60e3",
   "metadata": {},
   "source": [
    "### mm_unbalanced, mm_unbalanced2,  solves:\n",
    "$W = \\min_\\gamma \\quad \\langle \\gamma, \\mathbf{M} \\rangle_F +\n",
    "        \\mathrm{reg_m} \\cdot \\mathrm{div}(\\gamma \\mathbf{1}, \\mathbf{a}) +\n",
    "        \\mathrm{reg_m} \\cdot \\mathrm{div}(\\gamma^T \\mathbf{1}, \\mathbf{b})\n",
    "        s.t.\n",
    "             \\gamma \\ge 0 $"
   ]
  },
  {
   "cell_type": "code",
   "execution_count": null,
   "id": "4f6309a5-701b-4981-8525-77137752942a",
   "metadata": {},
   "outputs": [],
   "source": [
    "# Initialize parameters\n",
    "res = 100\n",
    "noise_param = 5e-2\n",
    "scale_param = 1\n",
    "\n",
    "# Run your experiments\n",
    "for i in tqdm(range(10)):\n",
    "    # Assuming 'create_distribs' and 'calc_transport_pot_emd' are defined elsewhere in your code\n",
    "    p, q, p_post, q_post, C = create_distribs(res, noise_param)\n",
    "\n",
    "    results_classic_add = calc_transport_pot_emd(p, q, C)[1]\n",
    "    plan_noised, log_noised = ot.unbalanced.mm_unbalanced(a=p_post, b=q_post, M=C, reg_m=10, log=True)\n",
    "    results_noised_add = log_noised['cost']\n",
    "\n",
    "    results_classic.append(results_classic_add)\n",
    "    results_noised.append(results_noised_add)\n",
    "    ratios_emd.append(results_classic_add/results_noised_add)\n",
    "    \n",
    "    results_linear.append(np.linalg.norm(p-q))\n",
    "    results_linear_noised.append(np.linalg.norm(p_post-q_post))\n",
    "    ratios_linear.append(np.linalg.norm(p-q)/np.linalg.norm(p_post-q_post))\n",
    "\n",
    "# Append the new row to DataFrame\n",
    "new_row = {\n",
    "    'Res': res,\n",
    "    'Noise_Param': noise_param,\n",
    "    'Scale_Param': scale_param,\n",
    "    'Results_Classic': np.mean(results_classic),\n",
    "    'Results_Noised': np.mean(results_noised),\n",
    "    'Ratios_EMD': np.mean(ratios_emd),\n",
    "    'Results_Linear': np.mean(results_linear),\n",
    "    'Results_Linear_Noised': np.mean(results_linear_noised),\n",
    "    'Ratios_Linear': np.mean(ratios_linear)\n",
    "}\n",
    "df = df._append(new_row, ignore_index=True)"
   ]
  }
 ],
 "metadata": {
  "kernelspec": {
   "display_name": "Python 3 (ipykernel)",
   "language": "python",
   "name": "python3"
  },
  "language_info": {
   "codemirror_mode": {
    "name": "ipython",
    "version": 3
   },
   "file_extension": ".py",
   "mimetype": "text/x-python",
   "name": "python",
   "nbconvert_exporter": "python",
   "pygments_lexer": "ipython3",
   "version": "3.11.4"
  }
 },
 "nbformat": 4,
 "nbformat_minor": 5
}
