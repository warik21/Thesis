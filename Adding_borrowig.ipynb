{
 "cells": [
  {
   "cell_type": "code",
   "execution_count": 78,
   "metadata": {},
   "outputs": [],
   "source": [
    "from utils.utils import *\n",
    "from utils.Visualizations import *\n",
    "import cvxpy as cp\n",
    "import numpy as np\n",
    "from utils.Classes import TransportResults"
   ]
  },
  {
   "cell_type": "code",
   "execution_count": 190,
   "metadata": {},
   "outputs": [],
   "source": [
    "def create_constraints(source, target):\n",
    "    \"\"\"\n",
    "    This function takes two lists as input and creates a matrix variable and a set of constraints.\n",
    "\n",
    "    Parameters:\n",
    "    - source (list): A list of non-negative numbers representing the source distribution and a 0 at the start.\n",
    "    - target (list): A list of non-negative numbers representing the target distribution and a 0 at the start.\n",
    "\n",
    "    Returns:\n",
    "    - T_matrix (cvxpy.Variable): A matrix variable with shape (len(source), len(target)) representing the transport plan.\n",
    "    - cons (list): A list of cvxpy constraints.\n",
    "    \"\"\"\n",
    "\n",
    "    n = len(source)\n",
    "    T_matrix = cp.Variable((n, n), nonneg=True)\n",
    "    source_sum = sum([abs(el) for el in source])\n",
    "    target_sum = sum([abs(el) for el in target])\n",
    "    diff = abs(source_sum - target_sum)\n",
    "\n",
    "    # Create constraints\n",
    "    cons = [\n",
    "        # Sum over j\n",
    "        *[cp.sum(T_matrix[i,1:]) - T_matrix[i,0] == source[i] for i in range(1, n)],\n",
    "        # Sum over i\n",
    "        *[cp.sum(T_matrix[1:,j]) - T_matrix[0,j] == target[j] for j in range(1, n)],\n",
    "        # Non-negativity constraint\n",
    "        T_matrix >= 0,\n",
    "        T_matrix[0,0] == 0\n",
    "    ]\n",
    "\n",
    "    return T_matrix, cons"
   ]
  },
  {
   "cell_type": "code",
   "execution_count": 191,
   "metadata": {},
   "outputs": [],
   "source": [
    "def extend_s_t(s, t):\n",
    "    \"\"\"\n",
    "    This function takes two numpy arrays as input representing the source and target distributions, and returns the extended versions of these distributions.\n",
    "\n",
    "    Parameters:\n",
    "    - s (numpy array): A numpy array representing the source distribution.\n",
    "    - t (numpy array): A numpy array representing the target distribution.\n",
    "\n",
    "    Returns:\n",
    "    - s_ext (numpy array): The extended source distribution.\n",
    "    - t_ext (numpy array): The extended target distribution.\n",
    "    \"\"\"\n",
    "\n",
    "    # Compute s_0 and t_0\n",
    "    s_0 = max(0, np.sum(t) - np.sum(s))\n",
    "    t_0 = max(0, np.sum(s) - np.sum(t))\n",
    "\n",
    "    # Extend s and t\n",
    "    s_ext = np.concatenate(([s_0], s))\n",
    "    t_ext = np.concatenate(([t_0], t))\n",
    "\n",
    "    return s_ext, t_ext"
   ]
  },
  {
   "cell_type": "code",
   "execution_count": 231,
   "metadata": {},
   "outputs": [],
   "source": [
    "n_p = 20\n",
    "n_q = 20\n",
    "p = (make_1D_gauss(n_p, np.floor(1 * n_p / 4.), 2.) + make_1D_gauss(n_p, np.floor(2 * n_p / 4.), 2.) * (-0.5)).flatten()\n",
    "q = (make_1D_gauss(n_q, np.floor(5 * n_q / 8.), 2.) + make_1D_gauss(n_q, np.floor(7 * n_q / 8.), 2.) * (-0.5)).flatten()\n",
    "X,Y = np.linspace(0,1,n_p), np.linspace(0,1,n_q)"
   ]
  },
  {
   "cell_type": "code",
   "execution_count": 193,
   "metadata": {},
   "outputs": [],
   "source": [
    "n_p = 2\n",
    "n_q = 2\n",
    "p = np.array([0,0])\n",
    "q = np.array([-1, 1])\n",
    "X,Y = np.linspace(0,1,n_p), np.linspace(0,1,n_q)"
   ]
  },
  {
   "cell_type": "code",
   "execution_count": 248,
   "metadata": {},
   "outputs": [],
   "source": [
    "C = np.zeros([n_p+1, n_q+1], dtype=np.float64)\n",
    "dist_f2 = lambda a, b : (a-b)**2\n",
    "\n",
    "C0 = 2000 # cost of mass creation\n",
    "C1 = 1  # cost of negative mass transportation\n",
    "C2 = 1  # cost of mass destruction\n",
    "\n",
    "# Compute cost matrix for original source-target pairs\n",
    "for it1 in range(n_p):\n",
    "    C[0,it1+1] = C0\n",
    "    C[it1+1,0] = C0\n",
    "    for it2 in range(n_q):\n",
    "        C[it1+1, it2+1] = dist_f2(X[it1], Y[it2])\n"
   ]
  },
  {
   "cell_type": "code",
   "execution_count": 249,
   "metadata": {},
   "outputs": [],
   "source": [
    "def solve_transport_problem(source, target, cost_matrix):\n",
    "    \"\"\"\n",
    "    This function solves the optimal transport problem for given source and target distributions and a cost matrix.\n",
    "\n",
    "    Parameters:\n",
    "    - source (list): A list of numbers representing the source distribution.\n",
    "    - target (list): A list of numbers representing the target distribution.\n",
    "    - cost_matrix (np.ndarray): A 2D numpy array representing the cost of transporting each unit of mass.\n",
    "\n",
    "    Returns:\n",
    "    - TransportResults: A named tuple containing the optimal total transported mass, the optimal transport plan,\n",
    "                        and the original source and target distributions.\n",
    "    \"\"\"\n",
    "    source_extended, target_extended = extend_s_t(source, target)\n",
    "    p, constraints = create_constraints(source_extended, target_extended)\n",
    "    obj = cp.Minimize(cp.sum(cp.multiply(p, cost_matrix)))\n",
    "    prob = cp.Problem(obj, constraints)\n",
    "    prob.solve()\n",
    "\n",
    "    return prob.value, p.value, source.flatten(), target.flatten()"
   ]
  },
  {
   "cell_type": "code",
   "execution_count": 250,
   "metadata": {},
   "outputs": [],
   "source": [
    "source_extended, target_extended = extend_s_t(p, q)"
   ]
  },
  {
   "cell_type": "code",
   "execution_count": 251,
   "metadata": {},
   "outputs": [
    {
     "data": {
      "text/plain": [
       "array([ 0.00000000e+00,  3.03817141e-09,  5.38528759e-08,  7.43415972e-07,\n",
       "        7.99247310e-06,  6.69201048e-05,  4.36372690e-04,  2.21606196e-03,\n",
       "        8.76439934e-03,  2.69930712e-02,  6.47263913e-02,  1.20751233e-01,\n",
       "        1.74810466e-01,  1.94599644e-01,  1.60994207e-01,  8.48871691e-02,\n",
       "       -2.69371593e-03, -7.11524352e-02, -1.02453664e-01, -9.59338704e-02,\n",
       "       -6.70210425e-02])"
      ]
     },
     "execution_count": 251,
     "metadata": {},
     "output_type": "execute_result"
    }
   ],
   "source": [
    "target_extended"
   ]
  },
  {
   "cell_type": "code",
   "execution_count": 252,
   "metadata": {},
   "outputs": [
    {
     "name": "stderr",
     "output_type": "stream",
     "text": [
      "c:\\users\\eriki\\appdata\\local\\programs\\python\\python38\\lib\\site-packages\\cvxpy\\problems\\problem.py:1385: UserWarning: Solution may be inaccurate. Try another solver, adjusting the solver settings, or solve with verbose=True for more information.\n",
      "  warnings.warn(\n"
     ]
    }
   ],
   "source": [
    "prob_value, transport_plan, source, target = solve_transport_problem(p, q, C)"
   ]
  },
  {
   "cell_type": "code",
   "execution_count": 262,
   "metadata": {},
   "outputs": [
    {
     "data": {
      "image/png": "[encoded data removed]",
      "text/plain": [
       "<Figure size 720x288 with 1 Axes>"
      ]
     },
     "metadata": {
      "needs_background": "light"
     },
     "output_type": "display_data"
    }
   ],
   "source": [
    "plot_marginals(X, source, target, transport_plan[1:,1:], '')"
   ]
  },
  {
   "cell_type": "code",
   "execution_count": 257,
   "metadata": {},
   "outputs": [
    {
     "data": {
      "text/plain": [
       "<matplotlib.image.AxesImage at 0x29573600040>"
      ]
     },
     "execution_count": 257,
     "metadata": {},
     "output_type": "execute_result"
    },
    {
     "data": {
      "image/png": "[encoded data removed]",
      "text/plain": [
       "<Figure size 432x288 with 1 Axes>"
      ]
     },
     "metadata": {
      "needs_background": "light"
     },
     "output_type": "display_data"
    }
   ],
   "source": [
    "plt.imshow(transport_plan)"
   ]
  },
  {
   "cell_type": "code",
   "execution_count": 255,
   "metadata": {},
   "outputs": [
    {
     "data": {
      "image/png": "[encoded data removed]",
      "text/plain": [
       "<Figure size 576x576 with 4 Axes>"
      ]
     },
     "metadata": {
      "needs_background": "light"
     },
     "output_type": "display_data"
    }
   ],
   "source": [
    "plot_transport_map_with_marginals(source_extended, target_extended, transport_plan, '')"
   ]
  },
  {
   "cell_type": "code",
   "execution_count": null,
   "metadata": {},
   "outputs": [],
   "source": []
  },
  {
   "cell_type": "code",
   "execution_count": 171,
   "metadata": {
    "scrolled": false
   },
   "outputs": [],
   "source": [
    "sol, constraints = create_constraints(source_extended, target_extended)"
   ]
  },
  {
   "cell_type": "code",
   "execution_count": 133,
   "metadata": {},
   "outputs": [],
   "source": [
    "source = p"
   ]
  },
  {
   "cell_type": "code",
   "execution_count": 134,
   "metadata": {},
   "outputs": [],
   "source": [
    "target = q"
   ]
  },
  {
   "cell_type": "code",
   "execution_count": 136,
   "metadata": {},
   "outputs": [],
   "source": [
    "n = len(source)\n",
    "T_matrix = cp.Variable((n, n), nonneg=True)\n",
    "source_sum = sum([abs(el) for el in source])\n",
    "target_sum = sum([abs(el) for el in target])\n",
    "diff = abs(source_sum - target_sum)"
   ]
  },
  {
   "cell_type": "code",
   "execution_count": 137,
   "metadata": {},
   "outputs": [],
   "source": [
    "cons = [\n",
    "    # Sum over j\n",
    "    *[cp.sum(T_matrix[i,1:]) - T_matrix[i,0] == source[i] for i in range(1, n)],\n",
    "    # Sum over i\n",
    "    *[cp.sum(T_matrix[1:,j]) - T_matrix[0,j] == target[j] for j in range(1, n)],\n",
    "    # Non-negativity constraint\n",
    "    T_matrix >= 0\n",
    "]"
   ]
  },
  {
   "cell_type": "code",
   "execution_count": 160,
   "metadata": {},
   "outputs": [],
   "source": [
    "is_source_burrowing = cp.Variable(boolean=True)\n",
    "is_target_burrowing = cp.Variable(boolean=True)\n",
    "\n",
    "is_source_burrowing = cp.sum(T_matrix[1:,0]) == 0\n",
    "is_target_burrowing = cp.sum(T_matrix[0,1:]) == 0"
   ]
  },
  {
   "cell_type": "code",
   "execution_count": 162,
   "metadata": {},
   "outputs": [
    {
     "ename": "AttributeError",
     "evalue": "module 'cvxpy' has no attribute 'ge'",
     "output_type": "error",
     "traceback": [
      "\u001b[1;31m---------------------------------------------------------------------------\u001b[0m",
      "\u001b[1;31mAttributeError\u001b[0m                            Traceback (most recent call last)",
      "\u001b[1;32m<ipython-input-162-34ec279c118f>\u001b[0m in \u001b[0;36m<module>\u001b[1;34m\u001b[0m\n\u001b[1;32m----> 1\u001b[1;33m \u001b[0mburrowing\u001b[0m \u001b[1;33m=\u001b[0m \u001b[0mcp\u001b[0m\u001b[1;33m.\u001b[0m\u001b[0mge\u001b[0m\u001b[1;33m(\u001b[0m\u001b[1;36m1\u001b[0m\u001b[1;33m,\u001b[0m \u001b[1;33m[\u001b[0m\u001b[0mis_source_burrowing\u001b[0m\u001b[1;33m,\u001b[0m \u001b[0mis_target_burrowing\u001b[0m\u001b[1;33m]\u001b[0m\u001b[1;33m)\u001b[0m\u001b[1;33m\u001b[0m\u001b[1;33m\u001b[0m\u001b[0m\n\u001b[0m",
      "\u001b[1;31mAttributeError\u001b[0m: module 'cvxpy' has no attribute 'ge'"
     ]
    }
   ],
   "source": [
    "burrowing = cp.ge(1, [is_source_burrowing, is_target_burrowing])"
   ]
  },
  {
   "cell_type": "code",
   "execution_count": 155,
   "metadata": {},
   "outputs": [
    {
     "data": {
      "text/plain": [
       "[Equality(Expression(AFFINE, NONNEGATIVE, ()), Constant(CONSTANT, ZERO, ())),\n",
       " Equality(Expression(AFFINE, NONNEGATIVE, ()), Constant(CONSTANT, ZERO, ()))]"
      ]
     },
     "execution_count": 155,
     "metadata": {},
     "output_type": "execute_result"
    }
   ],
   "source": [
    "burrowing[:]"
   ]
  },
  {
   "cell_type": "code",
   "execution_count": 156,
   "metadata": {},
   "outputs": [
    {
     "ename": "TypeError",
     "evalue": "unsupported operand type(s) for +: 'int' and 'Equality'",
     "output_type": "error",
     "traceback": [
      "\u001b[1;31m---------------------------------------------------------------------------\u001b[0m",
      "\u001b[1;31mTypeError\u001b[0m                                 Traceback (most recent call last)",
      "\u001b[1;32m<ipython-input-156-d2442a40a071>\u001b[0m in \u001b[0;36m<module>\u001b[1;34m\u001b[0m\n\u001b[1;32m----> 1\u001b[1;33m \u001b[0mconstraint\u001b[0m \u001b[1;33m=\u001b[0m \u001b[0mcp\u001b[0m\u001b[1;33m.\u001b[0m\u001b[0msum\u001b[0m\u001b[1;33m(\u001b[0m\u001b[0mburrowing\u001b[0m\u001b[1;33m[\u001b[0m\u001b[1;33m:\u001b[0m\u001b[1;33m]\u001b[0m\u001b[1;33m)\u001b[0m \u001b[1;33m>=\u001b[0m \u001b[1;36m1\u001b[0m\u001b[1;33m\u001b[0m\u001b[1;33m\u001b[0m\u001b[0m\n\u001b[0m",
      "\u001b[1;32mc:\\users\\eriki\\appdata\\local\\programs\\python\\python38\\lib\\site-packages\\cvxpy\\atoms\\affine\\sum.py\u001b[0m in \u001b[0;36msum\u001b[1;34m(expr, axis, keepdims)\u001b[0m\n\u001b[0;32m    110\u001b[0m     \"\"\"\n\u001b[0;32m    111\u001b[0m     \u001b[1;32mif\u001b[0m \u001b[0misinstance\u001b[0m\u001b[1;33m(\u001b[0m\u001b[0mexpr\u001b[0m\u001b[1;33m,\u001b[0m \u001b[0mlist\u001b[0m\u001b[1;33m)\u001b[0m\u001b[1;33m:\u001b[0m\u001b[1;33m\u001b[0m\u001b[1;33m\u001b[0m\u001b[0m\n\u001b[1;32m--> 112\u001b[1;33m         \u001b[1;32mreturn\u001b[0m \u001b[0m__builtins__\u001b[0m\u001b[1;33m[\u001b[0m\u001b[1;34m'sum'\u001b[0m\u001b[1;33m]\u001b[0m\u001b[1;33m(\u001b[0m\u001b[0mexpr\u001b[0m\u001b[1;33m)\u001b[0m\u001b[1;33m\u001b[0m\u001b[1;33m\u001b[0m\u001b[0m\n\u001b[0m\u001b[0;32m    113\u001b[0m     \u001b[1;32melse\u001b[0m\u001b[1;33m:\u001b[0m\u001b[1;33m\u001b[0m\u001b[1;33m\u001b[0m\u001b[0m\n\u001b[0;32m    114\u001b[0m         \u001b[1;32mreturn\u001b[0m \u001b[0mSum\u001b[0m\u001b[1;33m(\u001b[0m\u001b[0mexpr\u001b[0m\u001b[1;33m,\u001b[0m \u001b[0maxis\u001b[0m\u001b[1;33m,\u001b[0m \u001b[0mkeepdims\u001b[0m\u001b[1;33m)\u001b[0m\u001b[1;33m\u001b[0m\u001b[1;33m\u001b[0m\u001b[0m\n",
      "\u001b[1;31mTypeError\u001b[0m: unsupported operand type(s) for +: 'int' and 'Equality'"
     ]
    }
   ],
   "source": [
    "constraint = cp.sum(burrowing[:]) >= 1"
   ]
  },
  {
   "cell_type": "code",
   "execution_count": null,
   "metadata": {},
   "outputs": [],
   "source": []
  },
  {
   "cell_type": "code",
   "execution_count": null,
   "metadata": {},
   "outputs": [],
   "source": []
  },
  {
   "cell_type": "code",
   "execution_count": null,
   "metadata": {},
   "outputs": [],
   "source": []
  },
  {
   "cell_type": "code",
   "execution_count": null,
   "metadata": {},
   "outputs": [],
   "source": [
    "obj = cp.Minimize(cp.sum(cp.multiply(p, C)))"
   ]
  },
  {
   "cell_type": "code",
   "execution_count": null,
   "metadata": {},
   "outputs": [],
   "source": [
    "prob = cp.Problem(obj, constraints)"
   ]
  },
  {
   "cell_type": "code",
   "execution_count": null,
   "metadata": {},
   "outputs": [],
   "source": [
    "prob.solve()"
   ]
  },
  {
   "cell_type": "code",
   "execution_count": null,
   "metadata": {},
   "outputs": [],
   "source": [
    "p.value"
   ]
  },
  {
   "cell_type": "code",
   "execution_count": null,
   "metadata": {},
   "outputs": [],
   "source": [
    "for i in range(1,4):\n",
    "    print(i)"
   ]
  },
  {
   "cell_type": "markdown",
   "metadata": {},
   "source": [
    "prob, p_val, source, target = solve_transport_problem(p, q, C)"
   ]
  },
  {
   "cell_type": "code",
   "execution_count": null,
   "metadata": {},
   "outputs": [],
   "source": [
    "p_val"
   ]
  },
  {
   "cell_type": "code",
   "execution_count": null,
   "metadata": {},
   "outputs": [],
   "source": [
    "plt.imshow(C)"
   ]
  },
  {
   "cell_type": "code",
   "execution_count": null,
   "metadata": {},
   "outputs": [],
   "source": [
    "q = [abs(t) for t in q]"
   ]
  },
  {
   "cell_type": "code",
   "execution_count": null,
   "metadata": {},
   "outputs": [],
   "source": [
    "q"
   ]
  },
  {
   "cell_type": "code",
   "execution_count": null,
   "metadata": {},
   "outputs": [],
   "source": []
  }
 ],
 "metadata": {
  "kernelspec": {
   "display_name": "Python 3",
   "language": "python",
   "name": "python3"
  },
  "language_info": {
   "codemirror_mode": {
    "name": "ipython",
    "version": 3
   },
   "file_extension": ".py",
   "mimetype": "text/x-python",
   "name": "python",
   "nbconvert_exporter": "python",
   "pygments_lexer": "ipython3",
   "version": "3.8.0"
  }
 },
 "nbformat": 4,
 "nbformat_minor": 4
}
