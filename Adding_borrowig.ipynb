{
 "cells": [
  {
   "cell_type": "code",
   "execution_count": 9,
   "metadata": {},
   "outputs": [],
   "source": [
    "from utils.utils import *\n",
    "from utils.Visualizations import *\n",
    "import cvxpy as cp\n",
    "import numpy as np\n",
    "from utils.Classes import TransportResults"
   ]
  },
  {
   "cell_type": "code",
   "execution_count": 166,
   "metadata": {},
   "outputs": [],
   "source": [
    "def create_constraints(source, target):\n",
    "    \"\"\"\n",
    "    This function takes two lists as input and creates a matrix variable and a set of constraints.\n",
    "\n",
    "    Parameters:\n",
    "    - source (list): A list of non-negative numbers representing the source distribution and a 0 at the start.\n",
    "    - target (list): A list of non-negative numbers representing the target distribution and a 0 at the start.\n",
    "\n",
    "    Returns:\n",
    "    - T_matrix (cvxpy.Variable): A matrix variable with shape (len(source), len(target)) representing the transport plan.\n",
    "    - cons (list): A list of cvxpy constraints.\n",
    "    \"\"\"\n",
    "\n",
    "    n = len(source)\n",
    "    T_matrix = cp.Variable((n, n), nonneg=True)\n",
    "    source_sum = sum([abs(el) for el in source])\n",
    "    target_sum = sum([abs(el) for el in target])\n",
    "    diff = abs(source_sum - target_sum)\n",
    "\n",
    "    # Create constraints\n",
    "    cons = [\n",
    "        # Sum over j\n",
    "        *[cp.sum(T_matrix[i,1:]) - T_matrix[i,0] == source[i] for i in range(1, n)],\n",
    "        # Sum over i\n",
    "        *[cp.sum(T_matrix[1:,j]) - T_matrix[0,j] == target[j] for j in range(1, n)],\n",
    "        # Non-negativity constraint\n",
    "        T_matrix >= 0\n",
    "    ]\n",
    "\n",
    "    return T_matrix, cons"
   ]
  },
  {
   "cell_type": "code",
   "execution_count": 167,
   "metadata": {},
   "outputs": [],
   "source": [
    "def extend_s_t(s, t):\n",
    "    \"\"\"\n",
    "    This function takes two numpy arrays as input representing the source and target distributions, and returns the extended versions of these distributions.\n",
    "\n",
    "    Parameters:\n",
    "    - s (numpy array): A numpy array representing the source distribution.\n",
    "    - t (numpy array): A numpy array representing the target distribution.\n",
    "\n",
    "    Returns:\n",
    "    - s_ext (numpy array): The extended source distribution.\n",
    "    - t_ext (numpy array): The extended target distribution.\n",
    "    \"\"\"\n",
    "\n",
    "    # Compute s_0 and t_0\n",
    "    s_0 = max(0, np.sum(t) - np.sum(s))\n",
    "    t_0 = max(0, np.sum(s) - np.sum(t))\n",
    "\n",
    "    # Extend s and t\n",
    "    s_ext = np.concatenate(([s_0], s))\n",
    "    t_ext = np.concatenate(([t_0], t))\n",
    "\n",
    "    return s_ext, t_ext"
   ]
  },
  {
   "cell_type": "code",
   "execution_count": 168,
   "metadata": {},
   "outputs": [],
   "source": [
    "n_p = 100\n",
    "n_q = 100\n",
    "p = (make_1D_gauss(n_p, np.floor(1 * n_p / 4.), 2.) + make_1D_gauss(n_p, np.floor(2 * n_p / 4.), 2.) * (-0.5)).flatten()\n",
    "q = (make_1D_gauss(n_q, np.floor(5 * n_q / 8.), 2.) + make_1D_gauss(n_q, np.floor(7 * n_q / 8.), 2.) * (-0.5)).flatten()\n",
    "X,Y = np.linspace(0,1,n_p), np.linspace(0,1,n_q)"
   ]
  },
  {
   "cell_type": "code",
   "execution_count": 169,
   "metadata": {},
   "outputs": [],
   "source": [
    "n_p = 2\n",
    "n_q = 2\n",
    "p = np.array([0,0])\n",
    "q = np.array([-1, 1])\n",
    "X,Y = np.linspace(0,1,n_p), np.linspace(0,1,n_q)"
   ]
  },
  {
   "cell_type": "code",
   "execution_count": 170,
   "metadata": {},
   "outputs": [],
   "source": [
    "C = np.zeros([n_p+1, n_q+1], dtype=np.float64)\n",
    "dist_f2 = lambda a, b : (a-b)**2\n",
    "\n",
    "C0 = 1  # cost of mass creation\n",
    "C1 = 1  # cost of negative mass transportation\n",
    "C2 = 1  # cost of mass destruction\n",
    "\n",
    "# Compute cost matrix for original source-target pairs\n",
    "for it1 in range(n_p):\n",
    "    for it2 in range(n_q):\n",
    "        C[it1+1, it2+1] = dist_f2(X[it1], Y[it2])"
   ]
  },
  {
   "cell_type": "code",
   "execution_count": 171,
   "metadata": {},
   "outputs": [],
   "source": [
    "def solve_transport_problem(source, target, cost_matrix):\n",
    "    \"\"\"\n",
    "    This function solves the optimal transport problem for given source and target distributions and a cost matrix.\n",
    "\n",
    "    Parameters:\n",
    "    - source (list): A list of numbers representing the source distribution.\n",
    "    - target (list): A list of numbers representing the target distribution.\n",
    "    - cost_matrix (np.ndarray): A 2D numpy array representing the cost of transporting each unit of mass.\n",
    "\n",
    "    Returns:\n",
    "    - TransportResults: A named tuple containing the optimal total transported mass, the optimal transport plan,\n",
    "                        and the original source and target distributions.\n",
    "    \"\"\"\n",
    "    source_extended, target_extended = extend_s_t(source, target)\n",
    "    p, constraints = create_constraints(source_extended, target_extended)\n",
    "    obj = cp.Minimize(cp.sum(cp.multiply(p, cost_matrix)))\n",
    "    prob = cp.Problem(obj, constraints)\n",
    "    prob.solve()\n",
    "\n",
    "    return prob.value, p.value, source, target"
   ]
  },
  {
   "cell_type": "code",
   "execution_count": 172,
   "metadata": {},
   "outputs": [],
   "source": [
    "source_extended, target_extended = extend_s_t(p, q)"
   ]
  },
  {
   "cell_type": "code",
   "execution_count": 173,
   "metadata": {},
   "outputs": [
    {
     "data": {
      "text/plain": [
       "array([ 0, -1,  1])"
      ]
     },
     "execution_count": 173,
     "metadata": {},
     "output_type": "execute_result"
    }
   ],
   "source": [
    "target_extended"
   ]
  },
  {
   "cell_type": "code",
   "execution_count": 174,
   "metadata": {},
   "outputs": [],
   "source": [
    "p, constraints = create_constraints(source_extended, target_extended)"
   ]
  },
  {
   "cell_type": "code",
   "execution_count": 175,
   "metadata": {},
   "outputs": [],
   "source": [
    "obj = cp.Minimize(cp.sum(cp.multiply(p, C)))"
   ]
  },
  {
   "cell_type": "code",
   "execution_count": 176,
   "metadata": {},
   "outputs": [],
   "source": [
    "prob = cp.Problem(obj, constraints)"
   ]
  },
  {
   "cell_type": "code",
   "execution_count": 177,
   "metadata": {},
   "outputs": [
    {
     "data": {
      "text/plain": [
       "4.805411501376175e-10"
      ]
     },
     "execution_count": 177,
     "metadata": {},
     "output_type": "execute_result"
    }
   ],
   "source": [
    "prob.solve()"
   ]
  },
  {
   "cell_type": "code",
   "execution_count": 180,
   "metadata": {},
   "outputs": [
    {
     "data": {
      "text/plain": [
       "array([[9.76770430e-01, 1.78034326e+00, 5.76363618e-01],\n",
       "       [7.80343259e-01, 7.80343259e-01, 0.00000000e+00],\n",
       "       [1.57636362e+00, 4.80541150e-10, 1.57636362e+00]])"
      ]
     },
     "execution_count": 180,
     "metadata": {},
     "output_type": "execute_result"
    }
   ],
   "source": [
    "p.value"
   ]
  },
  {
   "cell_type": "code",
   "execution_count": 165,
   "metadata": {},
   "outputs": [
    {
     "name": "stdout",
     "output_type": "stream",
     "text": [
      "1\n",
      "2\n",
      "3\n"
     ]
    }
   ],
   "source": [
    "for i in range(1,4):\n",
    "    print(i)"
   ]
  },
  {
   "cell_type": "markdown",
   "metadata": {},
   "source": [
    "prob, p_val, source, target = solve_transport_problem(p, q, C)"
   ]
  },
  {
   "cell_type": "code",
   "execution_count": 104,
   "metadata": {},
   "outputs": [],
   "source": [
    "p_val"
   ]
  },
  {
   "cell_type": "code",
   "execution_count": 70,
   "metadata": {},
   "outputs": [
    {
     "data": {
      "text/plain": [
       "<matplotlib.image.AxesImage at 0x184f3f58730>"
      ]
     },
     "execution_count": 70,
     "metadata": {},
     "output_type": "execute_result"
    },
    {
     "data": {
      "image/png": "[encoded data removed]",
      "text/plain": [
       "<Figure size 432x288 with 1 Axes>"
      ]
     },
     "metadata": {
      "needs_background": "light"
     },
     "output_type": "display_data"
    }
   ],
   "source": [
    "plt.imshow(C)"
   ]
  },
  {
   "cell_type": "code",
   "execution_count": 80,
   "metadata": {},
   "outputs": [],
   "source": [
    "q = [abs(t) for t in q]"
   ]
  },
  {
   "cell_type": "code",
   "execution_count": 81,
   "metadata": {},
   "outputs": [
    {
     "data": {
      "text/plain": [
       "[1, 1]"
      ]
     },
     "execution_count": 81,
     "metadata": {},
     "output_type": "execute_result"
    }
   ],
   "source": [
    "q"
   ]
  },
  {
   "cell_type": "code",
   "execution_count": null,
   "metadata": {},
   "outputs": [],
   "source": []
  }
 ],
 "metadata": {
  "kernelspec": {
   "display_name": "Python 3",
   "language": "python",
   "name": "python3"
  },
  "language_info": {
   "codemirror_mode": {
    "name": "ipython",
    "version": 3
   },
   "file_extension": ".py",
   "mimetype": "text/x-python",
   "name": "python",
   "nbconvert_exporter": "python",
   "pygments_lexer": "ipython3",
   "version": "3.8.0"
  }
 },
 "nbformat": 4,
 "nbformat_minor": 4
}
